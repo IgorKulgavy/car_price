{
 "cells": [
  {
   "cell_type": "markdown",
   "metadata": {},
   "source": [
    "# Определение стоимости автомобилей"
   ]
  },
  {
   "cell_type": "markdown",
   "metadata": {},
   "source": [
    "Сервис по продаже автомобилей с пробегом «Не бит, не крашен» разрабатывает приложение для привлечения новых клиентов. В нём можно быстро узнать рыночную стоимость своего автомобиля. В вашем распоряжении исторические данные: технические характеристики, комплектации и цены автомобилей. Вам нужно построить модель для определения стоимости. \n",
    "\n",
    "\n",
    "Задача - построить модель для определения стоимости машины.\n",
    "\n",
    "Важные параметры:\n",
    "\n",
    "- качество предсказания;\n",
    "- скорость предсказания;\n",
    "- время обучения.\n",
    "\n",
    "Этапы:\n",
    "1. Подготовка данных.\n",
    "2. Обучение моделей\n",
    "\n",
    "    2.1 Линейная регрессия.\n",
    "    \n",
    "    2.2 Решающее дерево.\n",
    "    \n",
    "    2.3 Случайный лес.\n",
    "    \n",
    "    2.4. LightGBM\n",
    "    \n",
    "    2.5 Cat Boost.\n",
    "    \n",
    "3. Анализ моделей.\n",
    "4. Выводы"
   ]
  },
  {
   "cell_type": "markdown",
   "metadata": {},
   "source": [
    "## Подготовка данных"
   ]
  },
  {
   "cell_type": "code",
   "execution_count": 1,
   "metadata": {},
   "outputs": [],
   "source": [
    "import pandas as pd\n",
    "import math\n",
    "from sklearn.model_selection import train_test_split\n",
    "import matplotlib.pyplot as plt\n",
    "from sklearn.metrics import mean_squared_error\n",
    "from sklearn.linear_model import LinearRegression\n",
    "from sklearn.tree import DecisionTreeRegressor\n",
    "from sklearn.ensemble import RandomForestRegressor\n",
    "from sklearn.model_selection import GridSearchCV\n",
    "from lightgbm import LGBMRegressor\n",
    "from sklearn.model_selection import train_test_split\n",
    "from catboost import CatBoostRegressor"
   ]
  },
  {
   "cell_type": "code",
   "execution_count": 2,
   "metadata": {},
   "outputs": [],
   "source": [
    "RANDOM_STATE = 12345"
   ]
  },
  {
   "cell_type": "code",
   "execution_count": 3,
   "metadata": {},
   "outputs": [],
   "source": [
    "df = pd.read_csv('/datasets/autos.csv')"
   ]
  },
  {
   "cell_type": "markdown",
   "metadata": {},
   "source": [
    "Загружаем датасет. Просматриваем основную информацию."
   ]
  },
  {
   "cell_type": "code",
   "execution_count": 4,
   "metadata": {},
   "outputs": [
    {
     "data": {
      "text/html": [
       "<div>\n",
       "<style scoped>\n",
       "    .dataframe tbody tr th:only-of-type {\n",
       "        vertical-align: middle;\n",
       "    }\n",
       "\n",
       "    .dataframe tbody tr th {\n",
       "        vertical-align: top;\n",
       "    }\n",
       "\n",
       "    .dataframe thead th {\n",
       "        text-align: right;\n",
       "    }\n",
       "</style>\n",
       "<table border=\"1\" class=\"dataframe\">\n",
       "  <thead>\n",
       "    <tr style=\"text-align: right;\">\n",
       "      <th></th>\n",
       "      <th>DateCrawled</th>\n",
       "      <th>Price</th>\n",
       "      <th>VehicleType</th>\n",
       "      <th>RegistrationYear</th>\n",
       "      <th>Gearbox</th>\n",
       "      <th>Power</th>\n",
       "      <th>Model</th>\n",
       "      <th>Kilometer</th>\n",
       "      <th>RegistrationMonth</th>\n",
       "      <th>FuelType</th>\n",
       "      <th>Brand</th>\n",
       "      <th>NotRepaired</th>\n",
       "      <th>DateCreated</th>\n",
       "      <th>NumberOfPictures</th>\n",
       "      <th>PostalCode</th>\n",
       "      <th>LastSeen</th>\n",
       "    </tr>\n",
       "  </thead>\n",
       "  <tbody>\n",
       "    <tr>\n",
       "      <th>0</th>\n",
       "      <td>2016-03-24 11:52:17</td>\n",
       "      <td>480</td>\n",
       "      <td>NaN</td>\n",
       "      <td>1993</td>\n",
       "      <td>manual</td>\n",
       "      <td>0</td>\n",
       "      <td>golf</td>\n",
       "      <td>150000</td>\n",
       "      <td>0</td>\n",
       "      <td>petrol</td>\n",
       "      <td>volkswagen</td>\n",
       "      <td>NaN</td>\n",
       "      <td>2016-03-24 00:00:00</td>\n",
       "      <td>0</td>\n",
       "      <td>70435</td>\n",
       "      <td>2016-04-07 03:16:57</td>\n",
       "    </tr>\n",
       "    <tr>\n",
       "      <th>1</th>\n",
       "      <td>2016-03-24 10:58:45</td>\n",
       "      <td>18300</td>\n",
       "      <td>coupe</td>\n",
       "      <td>2011</td>\n",
       "      <td>manual</td>\n",
       "      <td>190</td>\n",
       "      <td>NaN</td>\n",
       "      <td>125000</td>\n",
       "      <td>5</td>\n",
       "      <td>gasoline</td>\n",
       "      <td>audi</td>\n",
       "      <td>yes</td>\n",
       "      <td>2016-03-24 00:00:00</td>\n",
       "      <td>0</td>\n",
       "      <td>66954</td>\n",
       "      <td>2016-04-07 01:46:50</td>\n",
       "    </tr>\n",
       "    <tr>\n",
       "      <th>2</th>\n",
       "      <td>2016-03-14 12:52:21</td>\n",
       "      <td>9800</td>\n",
       "      <td>suv</td>\n",
       "      <td>2004</td>\n",
       "      <td>auto</td>\n",
       "      <td>163</td>\n",
       "      <td>grand</td>\n",
       "      <td>125000</td>\n",
       "      <td>8</td>\n",
       "      <td>gasoline</td>\n",
       "      <td>jeep</td>\n",
       "      <td>NaN</td>\n",
       "      <td>2016-03-14 00:00:00</td>\n",
       "      <td>0</td>\n",
       "      <td>90480</td>\n",
       "      <td>2016-04-05 12:47:46</td>\n",
       "    </tr>\n",
       "    <tr>\n",
       "      <th>3</th>\n",
       "      <td>2016-03-17 16:54:04</td>\n",
       "      <td>1500</td>\n",
       "      <td>small</td>\n",
       "      <td>2001</td>\n",
       "      <td>manual</td>\n",
       "      <td>75</td>\n",
       "      <td>golf</td>\n",
       "      <td>150000</td>\n",
       "      <td>6</td>\n",
       "      <td>petrol</td>\n",
       "      <td>volkswagen</td>\n",
       "      <td>no</td>\n",
       "      <td>2016-03-17 00:00:00</td>\n",
       "      <td>0</td>\n",
       "      <td>91074</td>\n",
       "      <td>2016-03-17 17:40:17</td>\n",
       "    </tr>\n",
       "    <tr>\n",
       "      <th>4</th>\n",
       "      <td>2016-03-31 17:25:20</td>\n",
       "      <td>3600</td>\n",
       "      <td>small</td>\n",
       "      <td>2008</td>\n",
       "      <td>manual</td>\n",
       "      <td>69</td>\n",
       "      <td>fabia</td>\n",
       "      <td>90000</td>\n",
       "      <td>7</td>\n",
       "      <td>gasoline</td>\n",
       "      <td>skoda</td>\n",
       "      <td>no</td>\n",
       "      <td>2016-03-31 00:00:00</td>\n",
       "      <td>0</td>\n",
       "      <td>60437</td>\n",
       "      <td>2016-04-06 10:17:21</td>\n",
       "    </tr>\n",
       "    <tr>\n",
       "      <th>5</th>\n",
       "      <td>2016-04-04 17:36:23</td>\n",
       "      <td>650</td>\n",
       "      <td>sedan</td>\n",
       "      <td>1995</td>\n",
       "      <td>manual</td>\n",
       "      <td>102</td>\n",
       "      <td>3er</td>\n",
       "      <td>150000</td>\n",
       "      <td>10</td>\n",
       "      <td>petrol</td>\n",
       "      <td>bmw</td>\n",
       "      <td>yes</td>\n",
       "      <td>2016-04-04 00:00:00</td>\n",
       "      <td>0</td>\n",
       "      <td>33775</td>\n",
       "      <td>2016-04-06 19:17:07</td>\n",
       "    </tr>\n",
       "    <tr>\n",
       "      <th>6</th>\n",
       "      <td>2016-04-01 20:48:51</td>\n",
       "      <td>2200</td>\n",
       "      <td>convertible</td>\n",
       "      <td>2004</td>\n",
       "      <td>manual</td>\n",
       "      <td>109</td>\n",
       "      <td>2_reihe</td>\n",
       "      <td>150000</td>\n",
       "      <td>8</td>\n",
       "      <td>petrol</td>\n",
       "      <td>peugeot</td>\n",
       "      <td>no</td>\n",
       "      <td>2016-04-01 00:00:00</td>\n",
       "      <td>0</td>\n",
       "      <td>67112</td>\n",
       "      <td>2016-04-05 18:18:39</td>\n",
       "    </tr>\n",
       "    <tr>\n",
       "      <th>7</th>\n",
       "      <td>2016-03-21 18:54:38</td>\n",
       "      <td>0</td>\n",
       "      <td>sedan</td>\n",
       "      <td>1980</td>\n",
       "      <td>manual</td>\n",
       "      <td>50</td>\n",
       "      <td>other</td>\n",
       "      <td>40000</td>\n",
       "      <td>7</td>\n",
       "      <td>petrol</td>\n",
       "      <td>volkswagen</td>\n",
       "      <td>no</td>\n",
       "      <td>2016-03-21 00:00:00</td>\n",
       "      <td>0</td>\n",
       "      <td>19348</td>\n",
       "      <td>2016-03-25 16:47:58</td>\n",
       "    </tr>\n",
       "    <tr>\n",
       "      <th>8</th>\n",
       "      <td>2016-04-04 23:42:13</td>\n",
       "      <td>14500</td>\n",
       "      <td>bus</td>\n",
       "      <td>2014</td>\n",
       "      <td>manual</td>\n",
       "      <td>125</td>\n",
       "      <td>c_max</td>\n",
       "      <td>30000</td>\n",
       "      <td>8</td>\n",
       "      <td>petrol</td>\n",
       "      <td>ford</td>\n",
       "      <td>NaN</td>\n",
       "      <td>2016-04-04 00:00:00</td>\n",
       "      <td>0</td>\n",
       "      <td>94505</td>\n",
       "      <td>2016-04-04 23:42:13</td>\n",
       "    </tr>\n",
       "    <tr>\n",
       "      <th>9</th>\n",
       "      <td>2016-03-17 10:53:50</td>\n",
       "      <td>999</td>\n",
       "      <td>small</td>\n",
       "      <td>1998</td>\n",
       "      <td>manual</td>\n",
       "      <td>101</td>\n",
       "      <td>golf</td>\n",
       "      <td>150000</td>\n",
       "      <td>0</td>\n",
       "      <td>NaN</td>\n",
       "      <td>volkswagen</td>\n",
       "      <td>NaN</td>\n",
       "      <td>2016-03-17 00:00:00</td>\n",
       "      <td>0</td>\n",
       "      <td>27472</td>\n",
       "      <td>2016-03-31 17:17:06</td>\n",
       "    </tr>\n",
       "    <tr>\n",
       "      <th>10</th>\n",
       "      <td>2016-03-26 19:54:18</td>\n",
       "      <td>2000</td>\n",
       "      <td>sedan</td>\n",
       "      <td>2004</td>\n",
       "      <td>manual</td>\n",
       "      <td>105</td>\n",
       "      <td>3_reihe</td>\n",
       "      <td>150000</td>\n",
       "      <td>12</td>\n",
       "      <td>petrol</td>\n",
       "      <td>mazda</td>\n",
       "      <td>no</td>\n",
       "      <td>2016-03-26 00:00:00</td>\n",
       "      <td>0</td>\n",
       "      <td>96224</td>\n",
       "      <td>2016-04-06 10:45:34</td>\n",
       "    </tr>\n",
       "    <tr>\n",
       "      <th>11</th>\n",
       "      <td>2016-04-07 10:06:22</td>\n",
       "      <td>2799</td>\n",
       "      <td>wagon</td>\n",
       "      <td>2005</td>\n",
       "      <td>manual</td>\n",
       "      <td>140</td>\n",
       "      <td>passat</td>\n",
       "      <td>150000</td>\n",
       "      <td>12</td>\n",
       "      <td>gasoline</td>\n",
       "      <td>volkswagen</td>\n",
       "      <td>yes</td>\n",
       "      <td>2016-04-07 00:00:00</td>\n",
       "      <td>0</td>\n",
       "      <td>57290</td>\n",
       "      <td>2016-04-07 10:25:17</td>\n",
       "    </tr>\n",
       "    <tr>\n",
       "      <th>12</th>\n",
       "      <td>2016-03-15 22:49:09</td>\n",
       "      <td>999</td>\n",
       "      <td>wagon</td>\n",
       "      <td>1995</td>\n",
       "      <td>manual</td>\n",
       "      <td>115</td>\n",
       "      <td>passat</td>\n",
       "      <td>150000</td>\n",
       "      <td>11</td>\n",
       "      <td>petrol</td>\n",
       "      <td>volkswagen</td>\n",
       "      <td>NaN</td>\n",
       "      <td>2016-03-15 00:00:00</td>\n",
       "      <td>0</td>\n",
       "      <td>37269</td>\n",
       "      <td>2016-04-01 13:16:16</td>\n",
       "    </tr>\n",
       "    <tr>\n",
       "      <th>13</th>\n",
       "      <td>2016-03-21 21:37:40</td>\n",
       "      <td>2500</td>\n",
       "      <td>wagon</td>\n",
       "      <td>2004</td>\n",
       "      <td>manual</td>\n",
       "      <td>131</td>\n",
       "      <td>passat</td>\n",
       "      <td>150000</td>\n",
       "      <td>2</td>\n",
       "      <td>NaN</td>\n",
       "      <td>volkswagen</td>\n",
       "      <td>no</td>\n",
       "      <td>2016-03-21 00:00:00</td>\n",
       "      <td>0</td>\n",
       "      <td>90762</td>\n",
       "      <td>2016-03-23 02:50:54</td>\n",
       "    </tr>\n",
       "    <tr>\n",
       "      <th>14</th>\n",
       "      <td>2016-03-21 12:57:01</td>\n",
       "      <td>17999</td>\n",
       "      <td>suv</td>\n",
       "      <td>2011</td>\n",
       "      <td>manual</td>\n",
       "      <td>190</td>\n",
       "      <td>navara</td>\n",
       "      <td>70000</td>\n",
       "      <td>3</td>\n",
       "      <td>gasoline</td>\n",
       "      <td>nissan</td>\n",
       "      <td>no</td>\n",
       "      <td>2016-03-21 00:00:00</td>\n",
       "      <td>0</td>\n",
       "      <td>4177</td>\n",
       "      <td>2016-04-06 07:45:42</td>\n",
       "    </tr>\n",
       "  </tbody>\n",
       "</table>\n",
       "</div>"
      ],
      "text/plain": [
       "            DateCrawled  Price  VehicleType  RegistrationYear Gearbox  Power  \\\n",
       "0   2016-03-24 11:52:17    480          NaN              1993  manual      0   \n",
       "1   2016-03-24 10:58:45  18300        coupe              2011  manual    190   \n",
       "2   2016-03-14 12:52:21   9800          suv              2004    auto    163   \n",
       "3   2016-03-17 16:54:04   1500        small              2001  manual     75   \n",
       "4   2016-03-31 17:25:20   3600        small              2008  manual     69   \n",
       "5   2016-04-04 17:36:23    650        sedan              1995  manual    102   \n",
       "6   2016-04-01 20:48:51   2200  convertible              2004  manual    109   \n",
       "7   2016-03-21 18:54:38      0        sedan              1980  manual     50   \n",
       "8   2016-04-04 23:42:13  14500          bus              2014  manual    125   \n",
       "9   2016-03-17 10:53:50    999        small              1998  manual    101   \n",
       "10  2016-03-26 19:54:18   2000        sedan              2004  manual    105   \n",
       "11  2016-04-07 10:06:22   2799        wagon              2005  manual    140   \n",
       "12  2016-03-15 22:49:09    999        wagon              1995  manual    115   \n",
       "13  2016-03-21 21:37:40   2500        wagon              2004  manual    131   \n",
       "14  2016-03-21 12:57:01  17999          suv              2011  manual    190   \n",
       "\n",
       "      Model  Kilometer  RegistrationMonth  FuelType       Brand NotRepaired  \\\n",
       "0      golf     150000                  0    petrol  volkswagen         NaN   \n",
       "1       NaN     125000                  5  gasoline        audi         yes   \n",
       "2     grand     125000                  8  gasoline        jeep         NaN   \n",
       "3      golf     150000                  6    petrol  volkswagen          no   \n",
       "4     fabia      90000                  7  gasoline       skoda          no   \n",
       "5       3er     150000                 10    petrol         bmw         yes   \n",
       "6   2_reihe     150000                  8    petrol     peugeot          no   \n",
       "7     other      40000                  7    petrol  volkswagen          no   \n",
       "8     c_max      30000                  8    petrol        ford         NaN   \n",
       "9      golf     150000                  0       NaN  volkswagen         NaN   \n",
       "10  3_reihe     150000                 12    petrol       mazda          no   \n",
       "11   passat     150000                 12  gasoline  volkswagen         yes   \n",
       "12   passat     150000                 11    petrol  volkswagen         NaN   \n",
       "13   passat     150000                  2       NaN  volkswagen          no   \n",
       "14   navara      70000                  3  gasoline      nissan          no   \n",
       "\n",
       "            DateCreated  NumberOfPictures  PostalCode             LastSeen  \n",
       "0   2016-03-24 00:00:00                 0       70435  2016-04-07 03:16:57  \n",
       "1   2016-03-24 00:00:00                 0       66954  2016-04-07 01:46:50  \n",
       "2   2016-03-14 00:00:00                 0       90480  2016-04-05 12:47:46  \n",
       "3   2016-03-17 00:00:00                 0       91074  2016-03-17 17:40:17  \n",
       "4   2016-03-31 00:00:00                 0       60437  2016-04-06 10:17:21  \n",
       "5   2016-04-04 00:00:00                 0       33775  2016-04-06 19:17:07  \n",
       "6   2016-04-01 00:00:00                 0       67112  2016-04-05 18:18:39  \n",
       "7   2016-03-21 00:00:00                 0       19348  2016-03-25 16:47:58  \n",
       "8   2016-04-04 00:00:00                 0       94505  2016-04-04 23:42:13  \n",
       "9   2016-03-17 00:00:00                 0       27472  2016-03-31 17:17:06  \n",
       "10  2016-03-26 00:00:00                 0       96224  2016-04-06 10:45:34  \n",
       "11  2016-04-07 00:00:00                 0       57290  2016-04-07 10:25:17  \n",
       "12  2016-03-15 00:00:00                 0       37269  2016-04-01 13:16:16  \n",
       "13  2016-03-21 00:00:00                 0       90762  2016-03-23 02:50:54  \n",
       "14  2016-03-21 00:00:00                 0        4177  2016-04-06 07:45:42  "
      ]
     },
     "metadata": {},
     "output_type": "display_data"
    },
    {
     "name": "stdout",
     "output_type": "stream",
     "text": [
      "<class 'pandas.core.frame.DataFrame'>\n",
      "RangeIndex: 354369 entries, 0 to 354368\n",
      "Data columns (total 16 columns):\n",
      " #   Column             Non-Null Count   Dtype \n",
      "---  ------             --------------   ----- \n",
      " 0   DateCrawled        354369 non-null  object\n",
      " 1   Price              354369 non-null  int64 \n",
      " 2   VehicleType        316879 non-null  object\n",
      " 3   RegistrationYear   354369 non-null  int64 \n",
      " 4   Gearbox            334536 non-null  object\n",
      " 5   Power              354369 non-null  int64 \n",
      " 6   Model              334664 non-null  object\n",
      " 7   Kilometer          354369 non-null  int64 \n",
      " 8   RegistrationMonth  354369 non-null  int64 \n",
      " 9   FuelType           321474 non-null  object\n",
      " 10  Brand              354369 non-null  object\n",
      " 11  NotRepaired        283215 non-null  object\n",
      " 12  DateCreated        354369 non-null  object\n",
      " 13  NumberOfPictures   354369 non-null  int64 \n",
      " 14  PostalCode         354369 non-null  int64 \n",
      " 15  LastSeen           354369 non-null  object\n",
      "dtypes: int64(7), object(9)\n",
      "memory usage: 43.3+ MB\n"
     ]
    }
   ],
   "source": [
    "display(df.head(15))\n",
    "df.info()"
   ]
  },
  {
   "cell_type": "markdown",
   "metadata": {},
   "source": [
    "При предвариетльном осмотре в признаке с количеством фотографий стоят везде \"0\". Проверим признак на уникальные значения."
   ]
  },
  {
   "cell_type": "code",
   "execution_count": 5,
   "metadata": {},
   "outputs": [
    {
     "data": {
      "text/plain": [
       "array([0])"
      ]
     },
     "execution_count": 5,
     "metadata": {},
     "output_type": "execute_result"
    }
   ],
   "source": [
    "df['NumberOfPictures'].unique()"
   ]
  },
  {
   "cell_type": "markdown",
   "metadata": {},
   "source": [
    "Признак неинформативный, на обучение модели не повлияет. Можно его удалить."
   ]
  },
  {
   "cell_type": "code",
   "execution_count": 6,
   "metadata": {},
   "outputs": [],
   "source": [
    "df = df.drop('NumberOfPictures', axis = 1)"
   ]
  },
  {
   "cell_type": "markdown",
   "metadata": {},
   "source": [
    "Проверим данные на явные дубликаты."
   ]
  },
  {
   "cell_type": "code",
   "execution_count": 7,
   "metadata": {
    "scrolled": true
   },
   "outputs": [
    {
     "data": {
      "text/plain": [
       "1.1287669068118261e-05"
      ]
     },
     "execution_count": 7,
     "metadata": {},
     "output_type": "execute_result"
    }
   ],
   "source": [
    "df.duplicated().sum() / len(df)"
   ]
  },
  {
   "cell_type": "markdown",
   "metadata": {},
   "source": [
    "Удаляю"
   ]
  },
  {
   "cell_type": "code",
   "execution_count": 8,
   "metadata": {
    "scrolled": true
   },
   "outputs": [],
   "source": [
    "df = df.drop_duplicates()"
   ]
  },
  {
   "cell_type": "markdown",
   "metadata": {},
   "source": [
    "Дубликатов нет."
   ]
  },
  {
   "cell_type": "markdown",
   "metadata": {},
   "source": [
    "Исследуем столбцы на аномальные значения."
   ]
  },
  {
   "cell_type": "code",
   "execution_count": 9,
   "metadata": {},
   "outputs": [],
   "source": [
    "def graph(df, columns):\n",
    "    for i in columns:\n",
    "        print(i)\n",
    "        plt.boxplot(df[i])\n",
    "        plt.show()\n",
    "        print(df[i].describe())"
   ]
  },
  {
   "cell_type": "markdown",
   "metadata": {},
   "source": [
    "Исследуем столбцы на аномальные значения."
   ]
  },
  {
   "cell_type": "markdown",
   "metadata": {},
   "source": [
    "Рассмотрю численные признаки - цена, мощность, пробег."
   ]
  },
  {
   "cell_type": "code",
   "execution_count": 10,
   "metadata": {},
   "outputs": [
    {
     "name": "stdout",
     "output_type": "stream",
     "text": [
      "Price\n"
     ]
    },
    {
     "data": {
      "image/png": "[encoded data removed]",
      "text/plain": [
       "<Figure size 432x288 with 1 Axes>"
      ]
     },
     "metadata": {
      "needs_background": "light"
     },
     "output_type": "display_data"
    },
    {
     "name": "stdout",
     "output_type": "stream",
     "text": [
      "count    354365.000000\n",
      "mean       4416.679830\n",
      "std        4514.176349\n",
      "min           0.000000\n",
      "25%        1050.000000\n",
      "50%        2700.000000\n",
      "75%        6400.000000\n",
      "max       20000.000000\n",
      "Name: Price, dtype: float64\n",
      "Power\n"
     ]
    },
    {
     "data": {
      "image/png": "[encoded data removed]",
      "text/plain": [
       "<Figure size 432x288 with 1 Axes>"
      ]
     },
     "metadata": {
      "needs_background": "light"
     },
     "output_type": "display_data"
    },
    {
     "name": "stdout",
     "output_type": "stream",
     "text": [
      "count    354365.000000\n",
      "mean        110.093816\n",
      "std         189.851330\n",
      "min           0.000000\n",
      "25%          69.000000\n",
      "50%         105.000000\n",
      "75%         143.000000\n",
      "max       20000.000000\n",
      "Name: Power, dtype: float64\n",
      "Kilometer\n"
     ]
    },
    {
     "data": {
      "image/png": "[encoded data removed]",
      "text/plain": [
       "<Figure size 432x288 with 1 Axes>"
      ]
     },
     "metadata": {
      "needs_background": "light"
     },
     "output_type": "display_data"
    },
    {
     "name": "stdout",
     "output_type": "stream",
     "text": [
      "count    354365.000000\n",
      "mean     128211.363989\n",
      "std       37905.083858\n",
      "min        5000.000000\n",
      "25%      125000.000000\n",
      "50%      150000.000000\n",
      "75%      150000.000000\n",
      "max      150000.000000\n",
      "Name: Kilometer, dtype: float64\n"
     ]
    }
   ],
   "source": [
    "columns = ['Price', 'Power', 'Kilometer']\n",
    "graph(df,columns)"
   ]
  },
  {
   "cell_type": "markdown",
   "metadata": {},
   "source": [
    "Наблюдается аномально низкая цена нанекоторые машины, минимальная цена 0 евро. В признаке мощность выявлены аномально высокие значения. На данный момент максимальная мощность существующей машины окло 620 л.с. Здесь мы видим значения доходящие до 20 000 л.с. Считаю что это может быть связано с ошибкой при заполнении данных, возможно не поставили запятую при разделении целой и десятичной части.\n",
    "\n",
    "Расчитаем объем аномальных значений."
   ]
  },
  {
   "cell_type": "code",
   "execution_count": 11,
   "metadata": {},
   "outputs": [
    {
     "name": "stdout",
     "output_type": "stream",
     "text": [
      "Объем аномальных значений в признаке \"Мощность\": 0.0010328333780141943\n",
      "Объем аномальных значений в признаке \"Цена\": 0.03757143058710651\n"
     ]
    }
   ],
   "source": [
    "print('Объем аномальных значений в признаке \"Мощность\":', \n",
    "     len(df[df['Power']>620]) / len(df))\n",
    "print('Объем аномальных значений в признаке \"Цена\":', \n",
    "     len(df[df['Price']<100]) / len(df))"
   ]
  },
  {
   "cell_type": "markdown",
   "metadata": {},
   "source": [
    "Объем небольшой, аномалии можно убрать"
   ]
  },
  {
   "cell_type": "code",
   "execution_count": 12,
   "metadata": {},
   "outputs": [],
   "source": [
    "df = df.loc[(df['Power']<620) & (df['Price']>100)]"
   ]
  },
  {
   "cell_type": "markdown",
   "metadata": {},
   "source": [
    "Создам функцию для замены пропусков.\n",
    "Тип автомобиля будет заполнен на основе уже имеющейся информации о таких же автомобилях. Данные берутся на основе марки и модели автомобиля. Мощность заполняется таким же образом. В признаке мощность встречается не только пропуски но и нулевое значение. Тк у машины явно не может быть нулевое значение, то заменим его также на основе данных из объявлений с такими же признаками."
   ]
  },
  {
   "cell_type": "code",
   "execution_count": 13,
   "metadata": {},
   "outputs": [],
   "source": [
    "def fill_na(row):\n",
    "    \n",
    "    try:\n",
    "        if math.isnan(row['VehicleType']):\n",
    "            try:\n",
    "                row['VehicleType'] = train_df.loc[(train_df['Brand']==row['Brand'])&(train_df['Model']==row['Model'])\n",
    "                                                     ].groupby('VehicleType').agg(lambda x:x.value_counts()).index[0]\n",
    "            except:\n",
    "                pass\n",
    "    except:\n",
    "        pass\n",
    "    \n",
    "    try:\n",
    "        if row['Power'] ==0:\n",
    "            try:\n",
    "                row['Power'] = train_df.loc[(train_df['Brand']==row['Brand'])&(train_df['Model']==row['Model'])\n",
    "                                               ].groupby('Power').agg(lambda x:x.value_counts()).index[0] \n",
    "            except:\n",
    "                pass\n",
    "    except:\n",
    "        pass\n",
    "    \n",
    "    try:\n",
    "        if math.isnan(row['Power']):\n",
    "            try:\n",
    "                row['Power'] = train_df.loc[(train_df['Brand']==row['Brand'])&(train_df['Model']==row['Model'])\n",
    "                                               ].groupby('Power').agg(lambda x:x.value_counts()).index[0]\n",
    "            except:\n",
    "                pass    \n",
    "    except:\n",
    "        pass\n",
    "\n",
    "    return (row)"
   ]
  },
  {
   "cell_type": "code",
   "execution_count": 14,
   "metadata": {},
   "outputs": [],
   "source": [
    "df = df.apply(fill_na,axis = 1)"
   ]
  },
  {
   "cell_type": "code",
   "execution_count": 15,
   "metadata": {},
   "outputs": [
    {
     "name": "stdout",
     "output_type": "stream",
     "text": [
      "Тип автомобиля не определён (%): 0.09479959374126029\n"
     ]
    }
   ],
   "source": [
    "print('Тип автомобиля не определён (%):', df['VehicleType'].isnull().sum() / len(df))"
   ]
  },
  {
   "cell_type": "markdown",
   "metadata": {},
   "source": [
    "Те данные, где не удалось сделать замену, удалять не буду.\n",
    "Изучу оставшиеся без заполнения признаки объектов."
   ]
  },
  {
   "cell_type": "code",
   "execution_count": 16,
   "metadata": {
    "scrolled": false
   },
   "outputs": [
    {
     "data": {
      "text/html": [
       "<div>\n",
       "<style scoped>\n",
       "    .dataframe tbody tr th:only-of-type {\n",
       "        vertical-align: middle;\n",
       "    }\n",
       "\n",
       "    .dataframe tbody tr th {\n",
       "        vertical-align: top;\n",
       "    }\n",
       "\n",
       "    .dataframe thead th {\n",
       "        text-align: right;\n",
       "    }\n",
       "</style>\n",
       "<table border=\"1\" class=\"dataframe\">\n",
       "  <thead>\n",
       "    <tr style=\"text-align: right;\">\n",
       "      <th></th>\n",
       "      <th>DateCrawled</th>\n",
       "      <th>Price</th>\n",
       "      <th>VehicleType</th>\n",
       "      <th>RegistrationYear</th>\n",
       "      <th>Gearbox</th>\n",
       "      <th>Power</th>\n",
       "      <th>Model</th>\n",
       "      <th>Kilometer</th>\n",
       "      <th>RegistrationMonth</th>\n",
       "      <th>FuelType</th>\n",
       "      <th>Brand</th>\n",
       "      <th>NotRepaired</th>\n",
       "      <th>DateCreated</th>\n",
       "      <th>PostalCode</th>\n",
       "      <th>LastSeen</th>\n",
       "    </tr>\n",
       "  </thead>\n",
       "  <tbody>\n",
       "    <tr>\n",
       "      <th>9</th>\n",
       "      <td>2016-03-17 10:53:50</td>\n",
       "      <td>999</td>\n",
       "      <td>small</td>\n",
       "      <td>1998</td>\n",
       "      <td>manual</td>\n",
       "      <td>101</td>\n",
       "      <td>golf</td>\n",
       "      <td>150000</td>\n",
       "      <td>0</td>\n",
       "      <td>NaN</td>\n",
       "      <td>volkswagen</td>\n",
       "      <td>NaN</td>\n",
       "      <td>2016-03-17 00:00:00</td>\n",
       "      <td>27472</td>\n",
       "      <td>2016-03-31 17:17:06</td>\n",
       "    </tr>\n",
       "    <tr>\n",
       "      <th>13</th>\n",
       "      <td>2016-03-21 21:37:40</td>\n",
       "      <td>2500</td>\n",
       "      <td>wagon</td>\n",
       "      <td>2004</td>\n",
       "      <td>manual</td>\n",
       "      <td>131</td>\n",
       "      <td>passat</td>\n",
       "      <td>150000</td>\n",
       "      <td>2</td>\n",
       "      <td>NaN</td>\n",
       "      <td>volkswagen</td>\n",
       "      <td>no</td>\n",
       "      <td>2016-03-21 00:00:00</td>\n",
       "      <td>90762</td>\n",
       "      <td>2016-03-23 02:50:54</td>\n",
       "    </tr>\n",
       "    <tr>\n",
       "      <th>26</th>\n",
       "      <td>2016-03-10 19:38:18</td>\n",
       "      <td>5555</td>\n",
       "      <td>NaN</td>\n",
       "      <td>2017</td>\n",
       "      <td>manual</td>\n",
       "      <td>125</td>\n",
       "      <td>c4</td>\n",
       "      <td>125000</td>\n",
       "      <td>4</td>\n",
       "      <td>NaN</td>\n",
       "      <td>citroen</td>\n",
       "      <td>no</td>\n",
       "      <td>2016-03-10 00:00:00</td>\n",
       "      <td>31139</td>\n",
       "      <td>2016-03-16 09:16:46</td>\n",
       "    </tr>\n",
       "    <tr>\n",
       "      <th>36</th>\n",
       "      <td>2016-03-11 11:50:37</td>\n",
       "      <td>1600</td>\n",
       "      <td>other</td>\n",
       "      <td>1991</td>\n",
       "      <td>manual</td>\n",
       "      <td>75</td>\n",
       "      <td>kadett</td>\n",
       "      <td>70000</td>\n",
       "      <td>0</td>\n",
       "      <td>NaN</td>\n",
       "      <td>opel</td>\n",
       "      <td>NaN</td>\n",
       "      <td>2016-03-11 00:00:00</td>\n",
       "      <td>2943</td>\n",
       "      <td>2016-04-07 03:46:09</td>\n",
       "    </tr>\n",
       "    <tr>\n",
       "      <th>41</th>\n",
       "      <td>2016-03-30 20:38:20</td>\n",
       "      <td>7500</td>\n",
       "      <td>sedan</td>\n",
       "      <td>2002</td>\n",
       "      <td>auto</td>\n",
       "      <td>306</td>\n",
       "      <td>e_klasse</td>\n",
       "      <td>150000</td>\n",
       "      <td>4</td>\n",
       "      <td>NaN</td>\n",
       "      <td>mercedes_benz</td>\n",
       "      <td>NaN</td>\n",
       "      <td>2016-03-30 00:00:00</td>\n",
       "      <td>33649</td>\n",
       "      <td>2016-04-03 11:44:49</td>\n",
       "    </tr>\n",
       "    <tr>\n",
       "      <th>52</th>\n",
       "      <td>2016-04-04 10:57:36</td>\n",
       "      <td>1400</td>\n",
       "      <td>NaN</td>\n",
       "      <td>2016</td>\n",
       "      <td>manual</td>\n",
       "      <td>55</td>\n",
       "      <td>other</td>\n",
       "      <td>5000</td>\n",
       "      <td>1</td>\n",
       "      <td>NaN</td>\n",
       "      <td>hyundai</td>\n",
       "      <td>NaN</td>\n",
       "      <td>2016-04-04 00:00:00</td>\n",
       "      <td>34454</td>\n",
       "      <td>2016-04-06 12:45:43</td>\n",
       "    </tr>\n",
       "    <tr>\n",
       "      <th>54</th>\n",
       "      <td>2016-03-17 07:56:40</td>\n",
       "      <td>4700</td>\n",
       "      <td>wagon</td>\n",
       "      <td>2005</td>\n",
       "      <td>manual</td>\n",
       "      <td>0</td>\n",
       "      <td>signum</td>\n",
       "      <td>150000</td>\n",
       "      <td>0</td>\n",
       "      <td>NaN</td>\n",
       "      <td>opel</td>\n",
       "      <td>no</td>\n",
       "      <td>2016-03-17 00:00:00</td>\n",
       "      <td>88433</td>\n",
       "      <td>2016-04-04 04:17:32</td>\n",
       "    </tr>\n",
       "    <tr>\n",
       "      <th>57</th>\n",
       "      <td>2016-03-10 20:53:19</td>\n",
       "      <td>2399</td>\n",
       "      <td>NaN</td>\n",
       "      <td>2018</td>\n",
       "      <td>manual</td>\n",
       "      <td>64</td>\n",
       "      <td>other</td>\n",
       "      <td>125000</td>\n",
       "      <td>3</td>\n",
       "      <td>NaN</td>\n",
       "      <td>seat</td>\n",
       "      <td>no</td>\n",
       "      <td>2016-03-10 00:00:00</td>\n",
       "      <td>33397</td>\n",
       "      <td>2016-03-25 10:17:37</td>\n",
       "    </tr>\n",
       "    <tr>\n",
       "      <th>65</th>\n",
       "      <td>2016-03-28 17:41:27</td>\n",
       "      <td>10900</td>\n",
       "      <td>NaN</td>\n",
       "      <td>2017</td>\n",
       "      <td>manual</td>\n",
       "      <td>101</td>\n",
       "      <td>astra</td>\n",
       "      <td>50000</td>\n",
       "      <td>3</td>\n",
       "      <td>NaN</td>\n",
       "      <td>opel</td>\n",
       "      <td>no</td>\n",
       "      <td>2016-03-28 00:00:00</td>\n",
       "      <td>63607</td>\n",
       "      <td>2016-04-06 23:15:52</td>\n",
       "    </tr>\n",
       "    <tr>\n",
       "      <th>69</th>\n",
       "      <td>2016-04-01 11:56:40</td>\n",
       "      <td>1200</td>\n",
       "      <td>coupe</td>\n",
       "      <td>2001</td>\n",
       "      <td>NaN</td>\n",
       "      <td>0</td>\n",
       "      <td>astra</td>\n",
       "      <td>150000</td>\n",
       "      <td>0</td>\n",
       "      <td>NaN</td>\n",
       "      <td>opel</td>\n",
       "      <td>NaN</td>\n",
       "      <td>2016-04-01 00:00:00</td>\n",
       "      <td>47249</td>\n",
       "      <td>2016-04-07 08:46:07</td>\n",
       "    </tr>\n",
       "    <tr>\n",
       "      <th>71</th>\n",
       "      <td>2016-03-07 08:55:18</td>\n",
       "      <td>2300</td>\n",
       "      <td>NaN</td>\n",
       "      <td>1997</td>\n",
       "      <td>manual</td>\n",
       "      <td>150</td>\n",
       "      <td>5er</td>\n",
       "      <td>150000</td>\n",
       "      <td>3</td>\n",
       "      <td>NaN</td>\n",
       "      <td>bmw</td>\n",
       "      <td>no</td>\n",
       "      <td>2016-03-07 00:00:00</td>\n",
       "      <td>79341</td>\n",
       "      <td>2016-03-22 05:15:22</td>\n",
       "    </tr>\n",
       "    <tr>\n",
       "      <th>81</th>\n",
       "      <td>2016-04-03 12:56:45</td>\n",
       "      <td>350</td>\n",
       "      <td>small</td>\n",
       "      <td>1997</td>\n",
       "      <td>manual</td>\n",
       "      <td>54</td>\n",
       "      <td>NaN</td>\n",
       "      <td>150000</td>\n",
       "      <td>3</td>\n",
       "      <td>NaN</td>\n",
       "      <td>fiat</td>\n",
       "      <td>yes</td>\n",
       "      <td>2016-04-03 00:00:00</td>\n",
       "      <td>45665</td>\n",
       "      <td>2016-04-05 11:47:13</td>\n",
       "    </tr>\n",
       "    <tr>\n",
       "      <th>92</th>\n",
       "      <td>2016-03-16 07:56:19</td>\n",
       "      <td>250</td>\n",
       "      <td>NaN</td>\n",
       "      <td>2000</td>\n",
       "      <td>NaN</td>\n",
       "      <td>60</td>\n",
       "      <td>ka</td>\n",
       "      <td>150000</td>\n",
       "      <td>0</td>\n",
       "      <td>NaN</td>\n",
       "      <td>ford</td>\n",
       "      <td>NaN</td>\n",
       "      <td>2016-03-16 00:00:00</td>\n",
       "      <td>51427</td>\n",
       "      <td>2016-03-21 09:47:08</td>\n",
       "    </tr>\n",
       "    <tr>\n",
       "      <th>94</th>\n",
       "      <td>2016-03-28 16:37:43</td>\n",
       "      <td>8390</td>\n",
       "      <td>NaN</td>\n",
       "      <td>2009</td>\n",
       "      <td>NaN</td>\n",
       "      <td>0</td>\n",
       "      <td>insignia</td>\n",
       "      <td>150000</td>\n",
       "      <td>0</td>\n",
       "      <td>NaN</td>\n",
       "      <td>opel</td>\n",
       "      <td>NaN</td>\n",
       "      <td>2016-03-28 00:00:00</td>\n",
       "      <td>29221</td>\n",
       "      <td>2016-03-30 07:44:59</td>\n",
       "    </tr>\n",
       "    <tr>\n",
       "      <th>96</th>\n",
       "      <td>2016-03-26 15:38:12</td>\n",
       "      <td>6450</td>\n",
       "      <td>bus</td>\n",
       "      <td>2008</td>\n",
       "      <td>manual</td>\n",
       "      <td>84</td>\n",
       "      <td>transporter</td>\n",
       "      <td>150000</td>\n",
       "      <td>12</td>\n",
       "      <td>NaN</td>\n",
       "      <td>volkswagen</td>\n",
       "      <td>no</td>\n",
       "      <td>2016-03-26 00:00:00</td>\n",
       "      <td>44623</td>\n",
       "      <td>2016-04-06 03:17:37</td>\n",
       "    </tr>\n",
       "  </tbody>\n",
       "</table>\n",
       "</div>"
      ],
      "text/plain": [
       "            DateCrawled  Price VehicleType  RegistrationYear Gearbox  Power  \\\n",
       "9   2016-03-17 10:53:50    999       small              1998  manual    101   \n",
       "13  2016-03-21 21:37:40   2500       wagon              2004  manual    131   \n",
       "26  2016-03-10 19:38:18   5555         NaN              2017  manual    125   \n",
       "36  2016-03-11 11:50:37   1600       other              1991  manual     75   \n",
       "41  2016-03-30 20:38:20   7500       sedan              2002    auto    306   \n",
       "52  2016-04-04 10:57:36   1400         NaN              2016  manual     55   \n",
       "54  2016-03-17 07:56:40   4700       wagon              2005  manual      0   \n",
       "57  2016-03-10 20:53:19   2399         NaN              2018  manual     64   \n",
       "65  2016-03-28 17:41:27  10900         NaN              2017  manual    101   \n",
       "69  2016-04-01 11:56:40   1200       coupe              2001     NaN      0   \n",
       "71  2016-03-07 08:55:18   2300         NaN              1997  manual    150   \n",
       "81  2016-04-03 12:56:45    350       small              1997  manual     54   \n",
       "92  2016-03-16 07:56:19    250         NaN              2000     NaN     60   \n",
       "94  2016-03-28 16:37:43   8390         NaN              2009     NaN      0   \n",
       "96  2016-03-26 15:38:12   6450         bus              2008  manual     84   \n",
       "\n",
       "          Model  Kilometer  RegistrationMonth FuelType          Brand  \\\n",
       "9          golf     150000                  0      NaN     volkswagen   \n",
       "13       passat     150000                  2      NaN     volkswagen   \n",
       "26           c4     125000                  4      NaN        citroen   \n",
       "36       kadett      70000                  0      NaN           opel   \n",
       "41     e_klasse     150000                  4      NaN  mercedes_benz   \n",
       "52        other       5000                  1      NaN        hyundai   \n",
       "54       signum     150000                  0      NaN           opel   \n",
       "57        other     125000                  3      NaN           seat   \n",
       "65        astra      50000                  3      NaN           opel   \n",
       "69        astra     150000                  0      NaN           opel   \n",
       "71          5er     150000                  3      NaN            bmw   \n",
       "81          NaN     150000                  3      NaN           fiat   \n",
       "92           ka     150000                  0      NaN           ford   \n",
       "94     insignia     150000                  0      NaN           opel   \n",
       "96  transporter     150000                 12      NaN     volkswagen   \n",
       "\n",
       "   NotRepaired          DateCreated  PostalCode             LastSeen  \n",
       "9          NaN  2016-03-17 00:00:00       27472  2016-03-31 17:17:06  \n",
       "13          no  2016-03-21 00:00:00       90762  2016-03-23 02:50:54  \n",
       "26          no  2016-03-10 00:00:00       31139  2016-03-16 09:16:46  \n",
       "36         NaN  2016-03-11 00:00:00        2943  2016-04-07 03:46:09  \n",
       "41         NaN  2016-03-30 00:00:00       33649  2016-04-03 11:44:49  \n",
       "52         NaN  2016-04-04 00:00:00       34454  2016-04-06 12:45:43  \n",
       "54          no  2016-03-17 00:00:00       88433  2016-04-04 04:17:32  \n",
       "57          no  2016-03-10 00:00:00       33397  2016-03-25 10:17:37  \n",
       "65          no  2016-03-28 00:00:00       63607  2016-04-06 23:15:52  \n",
       "69         NaN  2016-04-01 00:00:00       47249  2016-04-07 08:46:07  \n",
       "71          no  2016-03-07 00:00:00       79341  2016-03-22 05:15:22  \n",
       "81         yes  2016-04-03 00:00:00       45665  2016-04-05 11:47:13  \n",
       "92         NaN  2016-03-16 00:00:00       51427  2016-03-21 09:47:08  \n",
       "94         NaN  2016-03-28 00:00:00       29221  2016-03-30 07:44:59  \n",
       "96          no  2016-03-26 00:00:00       44623  2016-04-06 03:17:37  "
      ]
     },
     "execution_count": 16,
     "metadata": {},
     "output_type": "execute_result"
    }
   ],
   "source": [
    "df[df['FuelType'].isnull()].head(15)"
   ]
  },
  {
   "cell_type": "markdown",
   "metadata": {},
   "source": [
    "Есть объекты у которых в основных признаках пропущены практически все важные значения - тип автомобиля, мдель, коробка преедач, данные о ремонте и тип двигателя. Оценим объем таких объектов относительно всего датасета."
   ]
  },
  {
   "cell_type": "code",
   "execution_count": 17,
   "metadata": {
    "scrolled": false
   },
   "outputs": [
    {
     "data": {
      "text/plain": [
       "0.008843487348572942"
      ]
     },
     "execution_count": 17,
     "metadata": {},
     "output_type": "execute_result"
    }
   ],
   "source": [
    "len(df.query(\"VehicleType.isnull() and FuelType.isnull() and Model.isnull()\", engine='python')) /len(df)"
   ]
  },
  {
   "cell_type": "markdown",
   "metadata": {},
   "source": [
    "Менее 1 процента, можно убрать"
   ]
  },
  {
   "cell_type": "code",
   "execution_count": 18,
   "metadata": {},
   "outputs": [],
   "source": [
    "df = df.query(\"VehicleType.notnull() and FuelType.notnull() and Model.notnull()\", engine='python')"
   ]
  },
  {
   "cell_type": "code",
   "execution_count": 19,
   "metadata": {},
   "outputs": [],
   "source": [
    "df = df[df['VehicleType'].notna()]"
   ]
  },
  {
   "cell_type": "markdown",
   "metadata": {},
   "source": [
    "Проведу промежуточную проверку."
   ]
  },
  {
   "cell_type": "code",
   "execution_count": 20,
   "metadata": {
    "scrolled": true
   },
   "outputs": [
    {
     "data": {
      "text/html": [
       "<div>\n",
       "<style scoped>\n",
       "    .dataframe tbody tr th:only-of-type {\n",
       "        vertical-align: middle;\n",
       "    }\n",
       "\n",
       "    .dataframe tbody tr th {\n",
       "        vertical-align: top;\n",
       "    }\n",
       "\n",
       "    .dataframe thead th {\n",
       "        text-align: right;\n",
       "    }\n",
       "</style>\n",
       "<table border=\"1\" class=\"dataframe\">\n",
       "  <thead>\n",
       "    <tr style=\"text-align: right;\">\n",
       "      <th></th>\n",
       "      <th>Price</th>\n",
       "      <th>RegistrationYear</th>\n",
       "      <th>Power</th>\n",
       "      <th>Kilometer</th>\n",
       "      <th>RegistrationMonth</th>\n",
       "      <th>PostalCode</th>\n",
       "    </tr>\n",
       "  </thead>\n",
       "  <tbody>\n",
       "    <tr>\n",
       "      <th>count</th>\n",
       "      <td>284185.000000</td>\n",
       "      <td>284185.000000</td>\n",
       "      <td>284185.000000</td>\n",
       "      <td>284185.000000</td>\n",
       "      <td>284185.000000</td>\n",
       "      <td>284185.000000</td>\n",
       "    </tr>\n",
       "    <tr>\n",
       "      <th>mean</th>\n",
       "      <td>4917.996055</td>\n",
       "      <td>2002.647677</td>\n",
       "      <td>113.814170</td>\n",
       "      <td>128212.713549</td>\n",
       "      <td>6.088886</td>\n",
       "      <td>51172.092095</td>\n",
       "    </tr>\n",
       "    <tr>\n",
       "      <th>std</th>\n",
       "      <td>4609.514907</td>\n",
       "      <td>6.203136</td>\n",
       "      <td>59.952009</td>\n",
       "      <td>36695.362102</td>\n",
       "      <td>3.544751</td>\n",
       "      <td>25716.046403</td>\n",
       "    </tr>\n",
       "    <tr>\n",
       "      <th>min</th>\n",
       "      <td>101.000000</td>\n",
       "      <td>1910.000000</td>\n",
       "      <td>0.000000</td>\n",
       "      <td>5000.000000</td>\n",
       "      <td>0.000000</td>\n",
       "      <td>1067.000000</td>\n",
       "    </tr>\n",
       "    <tr>\n",
       "      <th>25%</th>\n",
       "      <td>1400.000000</td>\n",
       "      <td>1999.000000</td>\n",
       "      <td>75.000000</td>\n",
       "      <td>125000.000000</td>\n",
       "      <td>3.000000</td>\n",
       "      <td>30900.000000</td>\n",
       "    </tr>\n",
       "    <tr>\n",
       "      <th>50%</th>\n",
       "      <td>3250.000000</td>\n",
       "      <td>2003.000000</td>\n",
       "      <td>109.000000</td>\n",
       "      <td>150000.000000</td>\n",
       "      <td>6.000000</td>\n",
       "      <td>50226.000000</td>\n",
       "    </tr>\n",
       "    <tr>\n",
       "      <th>75%</th>\n",
       "      <td>7000.000000</td>\n",
       "      <td>2007.000000</td>\n",
       "      <td>146.000000</td>\n",
       "      <td>150000.000000</td>\n",
       "      <td>9.000000</td>\n",
       "      <td>71706.000000</td>\n",
       "    </tr>\n",
       "    <tr>\n",
       "      <th>max</th>\n",
       "      <td>20000.000000</td>\n",
       "      <td>2018.000000</td>\n",
       "      <td>606.000000</td>\n",
       "      <td>150000.000000</td>\n",
       "      <td>12.000000</td>\n",
       "      <td>99998.000000</td>\n",
       "    </tr>\n",
       "  </tbody>\n",
       "</table>\n",
       "</div>"
      ],
      "text/plain": [
       "               Price  RegistrationYear          Power      Kilometer  \\\n",
       "count  284185.000000     284185.000000  284185.000000  284185.000000   \n",
       "mean     4917.996055       2002.647677     113.814170  128212.713549   \n",
       "std      4609.514907          6.203136      59.952009   36695.362102   \n",
       "min       101.000000       1910.000000       0.000000    5000.000000   \n",
       "25%      1400.000000       1999.000000      75.000000  125000.000000   \n",
       "50%      3250.000000       2003.000000     109.000000  150000.000000   \n",
       "75%      7000.000000       2007.000000     146.000000  150000.000000   \n",
       "max     20000.000000       2018.000000     606.000000  150000.000000   \n",
       "\n",
       "       RegistrationMonth     PostalCode  \n",
       "count      284185.000000  284185.000000  \n",
       "mean            6.088886   51172.092095  \n",
       "std             3.544751   25716.046403  \n",
       "min             0.000000    1067.000000  \n",
       "25%             3.000000   30900.000000  \n",
       "50%             6.000000   50226.000000  \n",
       "75%             9.000000   71706.000000  \n",
       "max            12.000000   99998.000000  "
      ]
     },
     "execution_count": 20,
     "metadata": {},
     "output_type": "execute_result"
    }
   ],
   "source": [
    "df.describe()"
   ]
  },
  {
   "cell_type": "markdown",
   "metadata": {},
   "source": [
    "В признаке мощности автомобиля остались объекты с 0 мощностью. Исторически одни из самых маломощных машин были до 20 лс. Сделаю срез по этому уровню."
   ]
  },
  {
   "cell_type": "code",
   "execution_count": 21,
   "metadata": {},
   "outputs": [
    {
     "data": {
      "text/html": [
       "<div>\n",
       "<style scoped>\n",
       "    .dataframe tbody tr th:only-of-type {\n",
       "        vertical-align: middle;\n",
       "    }\n",
       "\n",
       "    .dataframe tbody tr th {\n",
       "        vertical-align: top;\n",
       "    }\n",
       "\n",
       "    .dataframe thead th {\n",
       "        text-align: right;\n",
       "    }\n",
       "</style>\n",
       "<table border=\"1\" class=\"dataframe\">\n",
       "  <thead>\n",
       "    <tr style=\"text-align: right;\">\n",
       "      <th></th>\n",
       "      <th>DateCrawled</th>\n",
       "      <th>Price</th>\n",
       "      <th>VehicleType</th>\n",
       "      <th>RegistrationYear</th>\n",
       "      <th>Gearbox</th>\n",
       "      <th>Power</th>\n",
       "      <th>Model</th>\n",
       "      <th>Kilometer</th>\n",
       "      <th>RegistrationMonth</th>\n",
       "      <th>FuelType</th>\n",
       "      <th>Brand</th>\n",
       "      <th>NotRepaired</th>\n",
       "      <th>DateCreated</th>\n",
       "      <th>PostalCode</th>\n",
       "      <th>LastSeen</th>\n",
       "    </tr>\n",
       "  </thead>\n",
       "  <tbody>\n",
       "    <tr>\n",
       "      <th>15</th>\n",
       "      <td>2016-03-11 21:39:15</td>\n",
       "      <td>450</td>\n",
       "      <td>small</td>\n",
       "      <td>1910</td>\n",
       "      <td>NaN</td>\n",
       "      <td>0</td>\n",
       "      <td>ka</td>\n",
       "      <td>5000</td>\n",
       "      <td>0</td>\n",
       "      <td>petrol</td>\n",
       "      <td>ford</td>\n",
       "      <td>NaN</td>\n",
       "      <td>2016-03-11 00:00:00</td>\n",
       "      <td>24148</td>\n",
       "      <td>2016-03-19 08:46:47</td>\n",
       "    </tr>\n",
       "    <tr>\n",
       "      <th>32</th>\n",
       "      <td>2016-03-15 20:59:01</td>\n",
       "      <td>245</td>\n",
       "      <td>sedan</td>\n",
       "      <td>1994</td>\n",
       "      <td>NaN</td>\n",
       "      <td>0</td>\n",
       "      <td>golf</td>\n",
       "      <td>150000</td>\n",
       "      <td>2</td>\n",
       "      <td>petrol</td>\n",
       "      <td>volkswagen</td>\n",
       "      <td>no</td>\n",
       "      <td>2016-03-15 00:00:00</td>\n",
       "      <td>44145</td>\n",
       "      <td>2016-03-17 18:17:43</td>\n",
       "    </tr>\n",
       "    <tr>\n",
       "      <th>55</th>\n",
       "      <td>2016-03-26 10:39:35</td>\n",
       "      <td>550</td>\n",
       "      <td>wagon</td>\n",
       "      <td>1999</td>\n",
       "      <td>manual</td>\n",
       "      <td>0</td>\n",
       "      <td>astra</td>\n",
       "      <td>150000</td>\n",
       "      <td>8</td>\n",
       "      <td>gasoline</td>\n",
       "      <td>opel</td>\n",
       "      <td>yes</td>\n",
       "      <td>2016-03-26 00:00:00</td>\n",
       "      <td>56759</td>\n",
       "      <td>2016-04-01 23:17:27</td>\n",
       "    </tr>\n",
       "    <tr>\n",
       "      <th>70</th>\n",
       "      <td>2016-03-08 01:36:42</td>\n",
       "      <td>800</td>\n",
       "      <td>small</td>\n",
       "      <td>1993</td>\n",
       "      <td>manual</td>\n",
       "      <td>0</td>\n",
       "      <td>polo</td>\n",
       "      <td>150000</td>\n",
       "      <td>3</td>\n",
       "      <td>petrol</td>\n",
       "      <td>volkswagen</td>\n",
       "      <td>no</td>\n",
       "      <td>2016-03-08 00:00:00</td>\n",
       "      <td>8258</td>\n",
       "      <td>2016-04-05 23:46:00</td>\n",
       "    </tr>\n",
       "    <tr>\n",
       "      <th>90</th>\n",
       "      <td>2016-03-23 11:53:21</td>\n",
       "      <td>2400</td>\n",
       "      <td>sedan</td>\n",
       "      <td>2003</td>\n",
       "      <td>manual</td>\n",
       "      <td>0</td>\n",
       "      <td>a4</td>\n",
       "      <td>150000</td>\n",
       "      <td>9</td>\n",
       "      <td>gasoline</td>\n",
       "      <td>audi</td>\n",
       "      <td>NaN</td>\n",
       "      <td>2016-03-23 00:00:00</td>\n",
       "      <td>40210</td>\n",
       "      <td>2016-03-23 11:53:21</td>\n",
       "    </tr>\n",
       "    <tr>\n",
       "      <th>98</th>\n",
       "      <td>2016-03-11 19:00:25</td>\n",
       "      <td>4290</td>\n",
       "      <td>bus</td>\n",
       "      <td>2008</td>\n",
       "      <td>manual</td>\n",
       "      <td>0</td>\n",
       "      <td>combo</td>\n",
       "      <td>150000</td>\n",
       "      <td>2</td>\n",
       "      <td>gasoline</td>\n",
       "      <td>opel</td>\n",
       "      <td>no</td>\n",
       "      <td>2016-03-11 00:00:00</td>\n",
       "      <td>23568</td>\n",
       "      <td>2016-04-05 22:45:32</td>\n",
       "    </tr>\n",
       "    <tr>\n",
       "      <th>110</th>\n",
       "      <td>2016-04-03 03:57:26</td>\n",
       "      <td>350</td>\n",
       "      <td>small</td>\n",
       "      <td>1998</td>\n",
       "      <td>NaN</td>\n",
       "      <td>0</td>\n",
       "      <td>corsa</td>\n",
       "      <td>150000</td>\n",
       "      <td>2</td>\n",
       "      <td>petrol</td>\n",
       "      <td>opel</td>\n",
       "      <td>NaN</td>\n",
       "      <td>2016-04-03 00:00:00</td>\n",
       "      <td>82110</td>\n",
       "      <td>2016-04-03 08:53:37</td>\n",
       "    </tr>\n",
       "    <tr>\n",
       "      <th>158</th>\n",
       "      <td>2016-04-01 16:06:24</td>\n",
       "      <td>800</td>\n",
       "      <td>sedan</td>\n",
       "      <td>1993</td>\n",
       "      <td>manual</td>\n",
       "      <td>0</td>\n",
       "      <td>golf</td>\n",
       "      <td>10000</td>\n",
       "      <td>9</td>\n",
       "      <td>petrol</td>\n",
       "      <td>volkswagen</td>\n",
       "      <td>yes</td>\n",
       "      <td>2016-04-01 00:00:00</td>\n",
       "      <td>65929</td>\n",
       "      <td>2016-04-07 11:17:07</td>\n",
       "    </tr>\n",
       "    <tr>\n",
       "      <th>162</th>\n",
       "      <td>2016-03-30 10:50:00</td>\n",
       "      <td>300</td>\n",
       "      <td>small</td>\n",
       "      <td>1994</td>\n",
       "      <td>manual</td>\n",
       "      <td>0</td>\n",
       "      <td>other</td>\n",
       "      <td>150000</td>\n",
       "      <td>7</td>\n",
       "      <td>petrol</td>\n",
       "      <td>mitsubishi</td>\n",
       "      <td>NaN</td>\n",
       "      <td>2016-03-30 00:00:00</td>\n",
       "      <td>26340</td>\n",
       "      <td>2016-03-30 10:50:00</td>\n",
       "    </tr>\n",
       "    <tr>\n",
       "      <th>166</th>\n",
       "      <td>2016-03-16 12:53:29</td>\n",
       "      <td>300</td>\n",
       "      <td>wagon</td>\n",
       "      <td>1998</td>\n",
       "      <td>manual</td>\n",
       "      <td>0</td>\n",
       "      <td>v40</td>\n",
       "      <td>150000</td>\n",
       "      <td>6</td>\n",
       "      <td>petrol</td>\n",
       "      <td>volvo</td>\n",
       "      <td>no</td>\n",
       "      <td>2016-03-16 00:00:00</td>\n",
       "      <td>47137</td>\n",
       "      <td>2016-03-25 10:18:16</td>\n",
       "    </tr>\n",
       "    <tr>\n",
       "      <th>177</th>\n",
       "      <td>2016-03-22 10:55:42</td>\n",
       "      <td>300</td>\n",
       "      <td>bus</td>\n",
       "      <td>1997</td>\n",
       "      <td>manual</td>\n",
       "      <td>0</td>\n",
       "      <td>other</td>\n",
       "      <td>150000</td>\n",
       "      <td>7</td>\n",
       "      <td>petrol</td>\n",
       "      <td>opel</td>\n",
       "      <td>NaN</td>\n",
       "      <td>2016-03-22 00:00:00</td>\n",
       "      <td>24147</td>\n",
       "      <td>2016-03-28 00:15:33</td>\n",
       "    </tr>\n",
       "    <tr>\n",
       "      <th>180</th>\n",
       "      <td>2016-03-12 17:47:07</td>\n",
       "      <td>2999</td>\n",
       "      <td>wagon</td>\n",
       "      <td>2001</td>\n",
       "      <td>manual</td>\n",
       "      <td>0</td>\n",
       "      <td>3er</td>\n",
       "      <td>150000</td>\n",
       "      <td>7</td>\n",
       "      <td>petrol</td>\n",
       "      <td>bmw</td>\n",
       "      <td>NaN</td>\n",
       "      <td>2016-03-12 00:00:00</td>\n",
       "      <td>45891</td>\n",
       "      <td>2016-04-07 09:17:32</td>\n",
       "    </tr>\n",
       "    <tr>\n",
       "      <th>197</th>\n",
       "      <td>2016-03-08 09:56:53</td>\n",
       "      <td>3200</td>\n",
       "      <td>wagon</td>\n",
       "      <td>2006</td>\n",
       "      <td>NaN</td>\n",
       "      <td>0</td>\n",
       "      <td>a3</td>\n",
       "      <td>150000</td>\n",
       "      <td>11</td>\n",
       "      <td>gasoline</td>\n",
       "      <td>audi</td>\n",
       "      <td>no</td>\n",
       "      <td>2016-03-08 00:00:00</td>\n",
       "      <td>41748</td>\n",
       "      <td>2016-03-08 09:56:53</td>\n",
       "    </tr>\n",
       "    <tr>\n",
       "      <th>202</th>\n",
       "      <td>2016-03-30 16:39:39</td>\n",
       "      <td>1600</td>\n",
       "      <td>sedan</td>\n",
       "      <td>1996</td>\n",
       "      <td>auto</td>\n",
       "      <td>0</td>\n",
       "      <td>7er</td>\n",
       "      <td>150000</td>\n",
       "      <td>5</td>\n",
       "      <td>petrol</td>\n",
       "      <td>bmw</td>\n",
       "      <td>no</td>\n",
       "      <td>2016-03-30 00:00:00</td>\n",
       "      <td>12057</td>\n",
       "      <td>2016-04-01 10:45:49</td>\n",
       "    </tr>\n",
       "    <tr>\n",
       "      <th>243</th>\n",
       "      <td>2016-03-06 18:49:03</td>\n",
       "      <td>10200</td>\n",
       "      <td>coupe</td>\n",
       "      <td>2008</td>\n",
       "      <td>manual</td>\n",
       "      <td>0</td>\n",
       "      <td>other</td>\n",
       "      <td>90000</td>\n",
       "      <td>6</td>\n",
       "      <td>petrol</td>\n",
       "      <td>nissan</td>\n",
       "      <td>NaN</td>\n",
       "      <td>2016-03-06 00:00:00</td>\n",
       "      <td>71131</td>\n",
       "      <td>2016-04-06 22:17:28</td>\n",
       "    </tr>\n",
       "  </tbody>\n",
       "</table>\n",
       "</div>"
      ],
      "text/plain": [
       "             DateCrawled  Price VehicleType  RegistrationYear Gearbox  Power  \\\n",
       "15   2016-03-11 21:39:15    450       small              1910     NaN      0   \n",
       "32   2016-03-15 20:59:01    245       sedan              1994     NaN      0   \n",
       "55   2016-03-26 10:39:35    550       wagon              1999  manual      0   \n",
       "70   2016-03-08 01:36:42    800       small              1993  manual      0   \n",
       "90   2016-03-23 11:53:21   2400       sedan              2003  manual      0   \n",
       "98   2016-03-11 19:00:25   4290         bus              2008  manual      0   \n",
       "110  2016-04-03 03:57:26    350       small              1998     NaN      0   \n",
       "158  2016-04-01 16:06:24    800       sedan              1993  manual      0   \n",
       "162  2016-03-30 10:50:00    300       small              1994  manual      0   \n",
       "166  2016-03-16 12:53:29    300       wagon              1998  manual      0   \n",
       "177  2016-03-22 10:55:42    300         bus              1997  manual      0   \n",
       "180  2016-03-12 17:47:07   2999       wagon              2001  manual      0   \n",
       "197  2016-03-08 09:56:53   3200       wagon              2006     NaN      0   \n",
       "202  2016-03-30 16:39:39   1600       sedan              1996    auto      0   \n",
       "243  2016-03-06 18:49:03  10200       coupe              2008  manual      0   \n",
       "\n",
       "     Model  Kilometer  RegistrationMonth  FuelType       Brand NotRepaired  \\\n",
       "15      ka       5000                  0    petrol        ford         NaN   \n",
       "32    golf     150000                  2    petrol  volkswagen          no   \n",
       "55   astra     150000                  8  gasoline        opel         yes   \n",
       "70    polo     150000                  3    petrol  volkswagen          no   \n",
       "90      a4     150000                  9  gasoline        audi         NaN   \n",
       "98   combo     150000                  2  gasoline        opel          no   \n",
       "110  corsa     150000                  2    petrol        opel         NaN   \n",
       "158   golf      10000                  9    petrol  volkswagen         yes   \n",
       "162  other     150000                  7    petrol  mitsubishi         NaN   \n",
       "166    v40     150000                  6    petrol       volvo          no   \n",
       "177  other     150000                  7    petrol        opel         NaN   \n",
       "180    3er     150000                  7    petrol         bmw         NaN   \n",
       "197     a3     150000                 11  gasoline        audi          no   \n",
       "202    7er     150000                  5    petrol         bmw          no   \n",
       "243  other      90000                  6    petrol      nissan         NaN   \n",
       "\n",
       "             DateCreated  PostalCode             LastSeen  \n",
       "15   2016-03-11 00:00:00       24148  2016-03-19 08:46:47  \n",
       "32   2016-03-15 00:00:00       44145  2016-03-17 18:17:43  \n",
       "55   2016-03-26 00:00:00       56759  2016-04-01 23:17:27  \n",
       "70   2016-03-08 00:00:00        8258  2016-04-05 23:46:00  \n",
       "90   2016-03-23 00:00:00       40210  2016-03-23 11:53:21  \n",
       "98   2016-03-11 00:00:00       23568  2016-04-05 22:45:32  \n",
       "110  2016-04-03 00:00:00       82110  2016-04-03 08:53:37  \n",
       "158  2016-04-01 00:00:00       65929  2016-04-07 11:17:07  \n",
       "162  2016-03-30 00:00:00       26340  2016-03-30 10:50:00  \n",
       "166  2016-03-16 00:00:00       47137  2016-03-25 10:18:16  \n",
       "177  2016-03-22 00:00:00       24147  2016-03-28 00:15:33  \n",
       "180  2016-03-12 00:00:00       45891  2016-04-07 09:17:32  \n",
       "197  2016-03-08 00:00:00       41748  2016-03-08 09:56:53  \n",
       "202  2016-03-30 00:00:00       12057  2016-04-01 10:45:49  \n",
       "243  2016-03-06 00:00:00       71131  2016-04-06 22:17:28  "
      ]
     },
     "execution_count": 21,
     "metadata": {},
     "output_type": "execute_result"
    }
   ],
   "source": [
    "df[df['Power']<20].head(15)"
   ]
  },
  {
   "cell_type": "code",
   "execution_count": 22,
   "metadata": {},
   "outputs": [
    {
     "data": {
      "text/plain": [
       "0.06571071661065855"
      ]
     },
     "execution_count": 22,
     "metadata": {},
     "output_type": "execute_result"
    }
   ],
   "source": [
    "len(df[df['Power']<20]) / len(df)"
   ]
  },
  {
   "cell_type": "markdown",
   "metadata": {},
   "source": [
    "Объявления с нулевой мощностью имеют объем окло 6,5%. Большинство признаков в этих объявлениях заполнено, возможно 0 значения связаны с тем, что продавец незнал реальной мощности машины и указал 0. Заменю значение 0 на 'no_info' для сохранения остальных данных. "
   ]
  },
  {
   "cell_type": "code",
   "execution_count": 23,
   "metadata": {},
   "outputs": [],
   "source": [
    "df = df.query('Power>20')"
   ]
  },
  {
   "cell_type": "markdown",
   "metadata": {},
   "source": [
    "В данных присутсвует месяц регистрации автомобиля. В данных есть год. Проверю есть ли какая-то корреляция между ценой и месяцем реистрации."
   ]
  },
  {
   "cell_type": "code",
   "execution_count": 24,
   "metadata": {},
   "outputs": [
    {
     "data": {
      "text/plain": [
       "0.046943597246208016"
      ]
     },
     "execution_count": 24,
     "metadata": {},
     "output_type": "execute_result"
    }
   ],
   "source": [
    "df['RegistrationMonth'].corr(df['Price'])"
   ]
  },
  {
   "cell_type": "markdown",
   "metadata": {},
   "source": [
    "Как и ожидалось. Никакой явной взаимосвязи нет. При наличии года регистрации данный признак ненужен для построения модели. Можно удалить столбец с признаком."
   ]
  },
  {
   "cell_type": "code",
   "execution_count": 25,
   "metadata": {},
   "outputs": [],
   "source": [
    "df = df.drop('RegistrationMonth', axis = 1)"
   ]
  },
  {
   "cell_type": "markdown",
   "metadata": {},
   "source": [
    "Проверка столбца с данными года регистрации автомобиля. Определяю максимальную дату создания объявления и автомобиля."
   ]
  },
  {
   "cell_type": "code",
   "execution_count": 26,
   "metadata": {},
   "outputs": [
    {
     "name": "stdout",
     "output_type": "stream",
     "text": [
      "Маскимальная дата создания объявления 2016-04-07 00:00:00\n"
     ]
    }
   ],
   "source": [
    "print('Маскимальная дата создания объявления',df['DateCreated'].max())"
   ]
  },
  {
   "cell_type": "code",
   "execution_count": 27,
   "metadata": {},
   "outputs": [
    {
     "name": "stdout",
     "output_type": "stream",
     "text": [
      "Маскимальная дата регистрации автомобиля 2018\n"
     ]
    }
   ],
   "source": [
    "print('Маскимальная дата регистрации автомобиля',df['RegistrationYear'].max())"
   ]
  },
  {
   "cell_type": "markdown",
   "metadata": {},
   "source": [
    "Есть объявления в которых год регистрации стоит больше чем текущая дата. Оценю объем таких объектов."
   ]
  },
  {
   "cell_type": "code",
   "execution_count": 28,
   "metadata": {},
   "outputs": [
    {
     "data": {
      "text/plain": [
       "9"
      ]
     },
     "execution_count": 28,
     "metadata": {},
     "output_type": "execute_result"
    }
   ],
   "source": [
    "len(df[df['RegistrationYear']>2016])"
   ]
  },
  {
   "cell_type": "markdown",
   "metadata": {},
   "source": [
    "Объем данных небольшой. Можно удалить."
   ]
  },
  {
   "cell_type": "code",
   "execution_count": 29,
   "metadata": {},
   "outputs": [],
   "source": [
    "df = df.query(\"RegistrationYear < 2017\")"
   ]
  },
  {
   "cell_type": "markdown",
   "metadata": {},
   "source": [
    "Уберём из датасета столбцы - Дата скачивания объявления, создания анкеты, почтовый индекс и дата последнего визита. Они не относятся к харрактеристикам машины и никак не влияют на её стоимость. Для создания алгоритма они не нужны.\n"
   ]
  },
  {
   "cell_type": "code",
   "execution_count": 30,
   "metadata": {},
   "outputs": [],
   "source": [
    "df = df.drop(['DateCrawled', 'DateCreated' , 'PostalCode', 'LastSeen'], axis = 1)"
   ]
  },
  {
   "cell_type": "markdown",
   "metadata": {},
   "source": [
    "Обработаю оставшиеся пропуски в признаках и заменю их на на значение \"no_info\".\n",
    "Наличие пропусков в двнных не окажет критического вдияния, тк их немного и данные для предсказания также поступать с пропусками.\n",
    "\n",
    "Т.к. достоверно неизвестно отдавал ли владелец машину в ремонт или нет, заполнять пропуски в признаке \"NotRepaired\" каким либо значением не буду."
   ]
  },
  {
   "cell_type": "code",
   "execution_count": 31,
   "metadata": {},
   "outputs": [],
   "source": [
    "df = df.fillna('no_info')"
   ]
  },
  {
   "cell_type": "markdown",
   "metadata": {},
   "source": [
    "Основные пропуски заполнены. Данные восстановлены на основе имеющихся. Прлпуски заменены информацией о пропуске значения."
   ]
  },
  {
   "cell_type": "code",
   "execution_count": 32,
   "metadata": {},
   "outputs": [
    {
     "name": "stdout",
     "output_type": "stream",
     "text": [
      "<class 'pandas.core.frame.DataFrame'>\n",
      "Int64Index: 265493 entries, 2 to 354368\n",
      "Data columns (total 10 columns):\n",
      " #   Column            Non-Null Count   Dtype \n",
      "---  ------            --------------   ----- \n",
      " 0   Price             265493 non-null  int64 \n",
      " 1   VehicleType       265493 non-null  object\n",
      " 2   RegistrationYear  265493 non-null  int64 \n",
      " 3   Gearbox           265493 non-null  object\n",
      " 4   Power             265493 non-null  int64 \n",
      " 5   Model             265493 non-null  object\n",
      " 6   Kilometer         265493 non-null  int64 \n",
      " 7   FuelType          265493 non-null  object\n",
      " 8   Brand             265493 non-null  object\n",
      " 9   NotRepaired       265493 non-null  object\n",
      "dtypes: int64(4), object(6)\n",
      "memory usage: 22.3+ MB\n"
     ]
    }
   ],
   "source": [
    "df.info()"
   ]
  },
  {
   "cell_type": "markdown",
   "metadata": {},
   "source": [
    "Промежуточные выводы:\n",
    "1. Загружен датасет.\n",
    "2. удалены явные дубликаты.\n",
    "3. Обработаны пропуски. \n",
    "4. Обнаружены аномальные данные:\n",
    "    4.1. Машины с мощностью 0 и более 650 л.с.\n",
    "    4.2. Цена машины ниже 100 евро.\n",
    "    4.3. Максимальный километраж 150 т. км. Более 50% машин выставлены с таким пробегом.\n",
    "    Данные аномальные значения возможно можно объяснить человеческим фактором, ошибки при заполнении данных пользователями."
   ]
  },
  {
   "cell_type": "markdown",
   "metadata": {},
   "source": [
    "## Обучение моделей"
   ]
  },
  {
   "cell_type": "markdown",
   "metadata": {},
   "source": [
    "Преобразуем категориальные признаки в численные."
   ]
  },
  {
   "cell_type": "markdown",
   "metadata": {},
   "source": [
    "Выделим целевой признак и разобьём выборки. "
   ]
  },
  {
   "cell_type": "code",
   "execution_count": 34,
   "metadata": {},
   "outputs": [],
   "source": [
    "df_ohe = pd.get_dummies(df, drop_first=True)\n",
    "\n",
    "features = df_ohe.drop('Price', axis = 1)\n",
    "target = df_ohe['Price']\n",
    "\n",
    "features_train, features_test, target_train, target_test = train_test_split(\n",
    "    features, target, test_size=0.25, random_state=RANDOM_STATE)"
   ]
  },
  {
   "cell_type": "markdown",
   "metadata": {},
   "source": [
    "Обучим модель линейной регрессии."
   ]
  },
  {
   "cell_type": "code",
   "execution_count": 35,
   "metadata": {
    "scrolled": true
   },
   "outputs": [
    {
     "name": "stdout",
     "output_type": "stream",
     "text": [
      "CPU times: user 22.4 s, sys: 49.6 s, total: 1min 11s\n",
      "Wall time: 1min 12s\n"
     ]
    },
    {
     "data": {
      "text/plain": [
       "LinearRegression()"
      ]
     },
     "execution_count": 35,
     "metadata": {},
     "output_type": "execute_result"
    }
   ],
   "source": [
    "%%time\n",
    "model = LinearRegression()\n",
    "model.fit(features_train, target_train)"
   ]
  },
  {
   "cell_type": "code",
   "execution_count": 36,
   "metadata": {},
   "outputs": [
    {
     "name": "stdout",
     "output_type": "stream",
     "text": [
      "CPU times: user 144 ms, sys: 165 ms, total: 309 ms\n",
      "Wall time: 297 ms\n"
     ]
    }
   ],
   "source": [
    "%%time\n",
    "predicts = model.predict(features_test)"
   ]
  },
  {
   "cell_type": "code",
   "execution_count": 37,
   "metadata": {},
   "outputs": [],
   "source": [
    "RMSE_reg = mean_squared_error(target_test, predicts, squared=False)"
   ]
  },
  {
   "cell_type": "markdown",
   "metadata": {},
   "source": [
    "Дерево решений"
   ]
  },
  {
   "cell_type": "code",
   "execution_count": 38,
   "metadata": {
    "scrolled": true
   },
   "outputs": [
    {
     "name": "stdout",
     "output_type": "stream",
     "text": [
      "CPU times: user 6.24 s, sys: 113 ms, total: 6.35 s\n",
      "Wall time: 6.36 s\n"
     ]
    },
    {
     "data": {
      "text/plain": [
       "DecisionTreeRegressor(random_state=12345)"
      ]
     },
     "execution_count": 38,
     "metadata": {},
     "output_type": "execute_result"
    }
   ],
   "source": [
    "%%time\n",
    "model = DecisionTreeRegressor(random_state=RANDOM_STATE)\n",
    "model.fit(features_train, target_train)"
   ]
  },
  {
   "cell_type": "code",
   "execution_count": 39,
   "metadata": {},
   "outputs": [
    {
     "name": "stdout",
     "output_type": "stream",
     "text": [
      "CPU times: user 77.2 ms, sys: 77.3 ms, total: 155 ms\n",
      "Wall time: 159 ms\n"
     ]
    }
   ],
   "source": [
    "%%time\n",
    "predicts = model.predict(features_test)"
   ]
  },
  {
   "cell_type": "code",
   "execution_count": 40,
   "metadata": {},
   "outputs": [],
   "source": [
    "RMSE_des_tree = mean_squared_error(target_test, predicts, squared=False)"
   ]
  },
  {
   "cell_type": "markdown",
   "metadata": {},
   "source": [
    "Модель случайного леса"
   ]
  },
  {
   "cell_type": "markdown",
   "metadata": {},
   "source": [
    "Подбираю гиперпараметры"
   ]
  },
  {
   "cell_type": "code",
   "execution_count": 41,
   "metadata": {},
   "outputs": [],
   "source": [
    "model = RandomForestRegressor()\n",
    "params = {\n",
    "    'max_depth': [1, 3, 5, 10],\n",
    "    'n_estimators': [5, 10, 15]}\n",
    "\n",
    "grid = GridSearchCV(model, params, scoring='neg_mean_squared_error', cv = 3)"
   ]
  },
  {
   "cell_type": "code",
   "execution_count": 42,
   "metadata": {},
   "outputs": [
    {
     "data": {
      "text/plain": [
       "GridSearchCV(cv=3, estimator=RandomForestRegressor(),\n",
       "             param_grid={'max_depth': [1, 3, 5, 10],\n",
       "                         'n_estimators': [5, 10, 15]},\n",
       "             scoring='neg_mean_squared_error')"
      ]
     },
     "execution_count": 42,
     "metadata": {},
     "output_type": "execute_result"
    }
   ],
   "source": [
    "grid.fit(features_train, target_train)"
   ]
  },
  {
   "cell_type": "markdown",
   "metadata": {},
   "source": [
    "Обучаю модель на лучших гиперпараметрах"
   ]
  },
  {
   "cell_type": "code",
   "execution_count": 43,
   "metadata": {},
   "outputs": [
    {
     "name": "stdout",
     "output_type": "stream",
     "text": [
      "CPU times: user 34.4 s, sys: 199 ms, total: 34.6 s\n",
      "Wall time: 34.6 s\n"
     ]
    },
    {
     "data": {
      "text/plain": [
       "RandomForestRegressor(max_depth=10, n_estimators=15, random_state=12345)"
      ]
     },
     "execution_count": 43,
     "metadata": {},
     "output_type": "execute_result"
    }
   ],
   "source": [
    "%%time\n",
    "model = RandomForestRegressor(max_depth=grid.best_params_['max_depth'], n_estimators = grid.best_params_['n_estimators'], random_state=RANDOM_STATE)\n",
    "model.fit(features_train, target_train)"
   ]
  },
  {
   "cell_type": "code",
   "execution_count": 44,
   "metadata": {
    "scrolled": true
   },
   "outputs": [
    {
     "name": "stdout",
     "output_type": "stream",
     "text": [
      "CPU times: user 136 ms, sys: 76.2 ms, total: 212 ms\n",
      "Wall time: 216 ms\n"
     ]
    }
   ],
   "source": [
    "%%time\n",
    "predicts_rand_for = model.predict(features_test)"
   ]
  },
  {
   "cell_type": "code",
   "execution_count": 45,
   "metadata": {},
   "outputs": [],
   "source": [
    "RMSE_rand_for = mean_squared_error(target_test, predicts_rand_for, squared=False)"
   ]
  },
  {
   "cell_type": "markdown",
   "metadata": {},
   "source": [
    "Пробую градиентный бустинг начну с LightGBM"
   ]
  },
  {
   "cell_type": "markdown",
   "metadata": {},
   "source": [
    "Разделим выборки без изменений. Сначала изменю тип признака."
   ]
  },
  {
   "cell_type": "code",
   "execution_count": 46,
   "metadata": {},
   "outputs": [],
   "source": [
    "df[['VehicleType','Gearbox', 'Model', 'FuelType', 'Brand', 'NotRepaired']] = df[['VehicleType','Gearbox', 'Model', 'FuelType', 'Brand', 'NotRepaired']].astype(\"category\")"
   ]
  },
  {
   "cell_type": "code",
   "execution_count": 47,
   "metadata": {},
   "outputs": [],
   "source": [
    "features = df.drop('Price', axis = 1)\n",
    "target = df['Price']\n",
    "\n",
    "features_train, features_test, target_train, target_test = train_test_split(\n",
    "    features, target, test_size=0.25, random_state=RANDOM_STATE)"
   ]
  },
  {
   "cell_type": "markdown",
   "metadata": {},
   "source": [
    "Подбираю гиперпараметры."
   ]
  },
  {
   "cell_type": "code",
   "execution_count": 48,
   "metadata": {},
   "outputs": [],
   "source": [
    "model = LGBMRegressor()\n",
    "params = {\n",
    "    'num_leaves': [7, 14, 20],\n",
    "    'max_depth': [1, 3, 5],\n",
    "    'n_estimators': [10, 20, 30]}\n",
    "\n",
    "grid = GridSearchCV(model, params, scoring='neg_mean_squared_error', cv = 3)"
   ]
  },
  {
   "cell_type": "code",
   "execution_count": 49,
   "metadata": {},
   "outputs": [
    {
     "data": {
      "text/plain": [
       "GridSearchCV(cv=3, estimator=LGBMRegressor(),\n",
       "             param_grid={'max_depth': [1, 3, 5], 'n_estimators': [10, 20, 30],\n",
       "                         'num_leaves': [7, 14, 20]},\n",
       "             scoring='neg_mean_squared_error')"
      ]
     },
     "execution_count": 49,
     "metadata": {},
     "output_type": "execute_result"
    }
   ],
   "source": [
    "grid.fit(features_train, target_train)"
   ]
  },
  {
   "cell_type": "markdown",
   "metadata": {},
   "source": [
    "Обучаю модель на лучших гиперпараметрах."
   ]
  },
  {
   "cell_type": "code",
   "execution_count": 50,
   "metadata": {},
   "outputs": [
    {
     "name": "stdout",
     "output_type": "stream",
     "text": [
      "CPU times: user 1.59 s, sys: 0 ns, total: 1.59 s\n",
      "Wall time: 1.6 s\n"
     ]
    },
    {
     "data": {
      "text/plain": [
       "LGBMRegressor(max_depth=5, n_estimators=30, num_leaves=20, random_state=12345)"
      ]
     },
     "execution_count": 50,
     "metadata": {},
     "output_type": "execute_result"
    }
   ],
   "source": [
    "%%time\n",
    "model = LGBMRegressor(max_depth=grid.best_params_['max_depth'], n_estimators = grid.best_params_['n_estimators'],\n",
    "                      num_leaves = grid.best_params_['num_leaves'], random_state=RANDOM_STATE)\n",
    "model.fit(features_train, target_train)"
   ]
  },
  {
   "cell_type": "code",
   "execution_count": 51,
   "metadata": {},
   "outputs": [
    {
     "name": "stdout",
     "output_type": "stream",
     "text": [
      "CPU times: user 195 ms, sys: 0 ns, total: 195 ms\n",
      "Wall time: 197 ms\n"
     ]
    }
   ],
   "source": [
    "%%time\n",
    "predicts_lgbmr = model.predict(features_test)"
   ]
  },
  {
   "cell_type": "code",
   "execution_count": 52,
   "metadata": {},
   "outputs": [],
   "source": [
    "RMSE_lgbmr = mean_squared_error(target_test, predicts_lgbmr, squared=False)"
   ]
  },
  {
   "cell_type": "markdown",
   "metadata": {},
   "source": [
    "Теперь обучим модель и сделаем предсказания на CatBoost"
   ]
  },
  {
   "cell_type": "code",
   "execution_count": 53,
   "metadata": {},
   "outputs": [],
   "source": [
    "c_f = cat_features=['VehicleType','Gearbox', 'Model', 'FuelType', 'Brand', 'NotRepaired']"
   ]
  },
  {
   "cell_type": "code",
   "execution_count": 54,
   "metadata": {},
   "outputs": [],
   "source": [
    "model = CatBoostRegressor( cat_features= c_f, silent = True)\n",
    "params = {'depth': [6,8,10],\n",
    "          'learning_rate': [0.01, 0.05, 0.1],\n",
    "          'iterations': [30, 50, 100]}\n",
    "\n",
    "grid = GridSearchCV(model, params, scoring='neg_mean_squared_error', cv = 3)"
   ]
  },
  {
   "cell_type": "code",
   "execution_count": 55,
   "metadata": {},
   "outputs": [
    {
     "data": {
      "text/plain": [
       "GridSearchCV(cv=3,\n",
       "             estimator=<catboost.core.CatBoostRegressor object at 0x7fcc019dcc70>,\n",
       "             param_grid={'depth': [6, 8, 10], 'iterations': [30, 50, 100],\n",
       "                         'learning_rate': [0.01, 0.05, 0.1]},\n",
       "             scoring='neg_mean_squared_error')"
      ]
     },
     "execution_count": 55,
     "metadata": {},
     "output_type": "execute_result"
    }
   ],
   "source": [
    "grid.fit(features_train, target_train)"
   ]
  },
  {
   "cell_type": "code",
   "execution_count": 56,
   "metadata": {},
   "outputs": [
    {
     "name": "stdout",
     "output_type": "stream",
     "text": [
      "CPU times: user 11.7 s, sys: 94.2 ms, total: 11.8 s\n",
      "Wall time: 12.4 s\n"
     ]
    },
    {
     "data": {
      "text/plain": [
       "<catboost.core.CatBoostRegressor at 0x7fcc0196e850>"
      ]
     },
     "execution_count": 56,
     "metadata": {},
     "output_type": "execute_result"
    }
   ],
   "source": [
    "%%time\n",
    "model = CatBoostRegressor(depth = grid.best_params_['depth'], learning_rate = grid.best_params_['learning_rate'],\n",
    "                          iterations = grid.best_params_['iterations'], cat_features= c_f, silent = True)\n",
    "model.fit(features_train, target_train)"
   ]
  },
  {
   "cell_type": "code",
   "execution_count": 57,
   "metadata": {},
   "outputs": [
    {
     "name": "stdout",
     "output_type": "stream",
     "text": [
      "CPU times: user 69.9 ms, sys: 3.83 ms, total: 73.8 ms\n",
      "Wall time: 71.1 ms\n"
     ]
    }
   ],
   "source": [
    "%%time\n",
    "predicts_CB = model.predict(features_test)"
   ]
  },
  {
   "cell_type": "code",
   "execution_count": 58,
   "metadata": {},
   "outputs": [],
   "source": [
    "RMSE_CB = mean_squared_error(target_test, predicts_CB, squared=False)"
   ]
  },
  {
   "cell_type": "markdown",
   "metadata": {},
   "source": [
    "Промежуточные выводы:\n",
    "1. Обучены модели регрессии - линейная регрессия, дерево решений, случайный лес, LightGBR, CatBoost.\n",
    "2. Лучшее время обучения - LightGBM.\n",
    "3. Лучшая скорость предсказания - CatBoost.\n",
    "4. Лучшее качество предсказания - CatBoost."
   ]
  },
  {
   "cell_type": "markdown",
   "metadata": {},
   "source": [
    "## Анализ моделей"
   ]
  },
  {
   "cell_type": "code",
   "execution_count": 59,
   "metadata": {},
   "outputs": [
    {
     "name": "stdout",
     "output_type": "stream",
     "text": [
      "RMSE линейной регрессии: 2488.3811254539264\n",
      "RMSE дерева решений: 1797.8457407852195\n",
      "RMSE случайного леса: 1828.7572566241304\n",
      "RMSE LightGbM 1756.8744738097193\n",
      "RMSE CatBoost 1614.608590227124\n"
     ]
    }
   ],
   "source": [
    "print('RMSE линейной регрессии:', RMSE_reg)\n",
    "print('RMSE дерева решений:', RMSE_des_tree)\n",
    "print('RMSE случайного леса:', RMSE_rand_for)\n",
    "print('RMSE LightGbM', RMSE_lgbmr)\n",
    "print('RMSE CatBoost', RMSE_CB)"
   ]
  },
  {
   "cell_type": "markdown",
   "metadata": {},
   "source": [
    "Лучший результат по метрике RMSE - CatBoost."
   ]
  },
  {
   "cell_type": "markdown",
   "metadata": {},
   "source": [
    "## Выводы"
   ]
  },
  {
   "cell_type": "markdown",
   "metadata": {},
   "source": [
    "1. Загружены данные.\n",
    "2. обработаны пропуски в данных, удалены дубликаты.\n",
    "3. Выявлены аномальные значения в признках - Цена, Мощность и пробег.\n",
    "4. Данные разбиты на 2 выборки и обучены модели регрессии - линейная, решающее дерево, случайный лес, LightGBR, CatBoost.\n",
    "5. Определена самая быстро обучаемая модель - LightGBM.\n",
    "6. Модель с максимальной скоростью предсказаний - CatBoost.\n",
    "6. Модель с лучшей метрикой RMSE - 1614, CatBoost.\n",
    "\n",
    "Рекомендуемая модель - CatBoost."
   ]
  }
 ],
 "metadata": {
  "ExecuteTimeLog": [
   {
    "duration": 142,
    "start_time": "2022-06-28T05:28:39.853Z"
   },
   {
    "duration": 470,
    "start_time": "2022-06-28T05:28:49.166Z"
   },
   {
    "duration": 4269,
    "start_time": "2022-06-28T05:29:23.160Z"
   },
   {
    "duration": 244,
    "start_time": "2022-06-28T05:29:44.817Z"
   },
   {
    "duration": 123,
    "start_time": "2022-06-28T05:31:10.644Z"
   },
   {
    "duration": 616,
    "start_time": "2022-06-28T05:31:16.303Z"
   },
   {
    "duration": 588,
    "start_time": "2022-06-28T05:31:32.895Z"
   },
   {
    "duration": 574,
    "start_time": "2022-06-28T05:31:37.560Z"
   },
   {
    "duration": 101,
    "start_time": "2022-06-28T05:36:02.350Z"
   },
   {
    "duration": 21,
    "start_time": "2022-06-28T05:36:07.316Z"
   },
   {
    "duration": 22,
    "start_time": "2022-06-28T05:36:15.700Z"
   },
   {
    "duration": 23,
    "start_time": "2022-06-28T05:37:39.897Z"
   },
   {
    "duration": 28,
    "start_time": "2022-06-28T05:37:59.393Z"
   },
   {
    "duration": 188,
    "start_time": "2022-06-28T05:39:08.505Z"
   },
   {
    "duration": 20,
    "start_time": "2022-06-28T05:39:15.559Z"
   },
   {
    "duration": 819,
    "start_time": "2022-06-28T05:39:36.662Z"
   },
   {
    "duration": 159,
    "start_time": "2022-06-28T05:40:10.497Z"
   },
   {
    "duration": 25,
    "start_time": "2022-06-28T05:40:37.377Z"
   },
   {
    "duration": 418,
    "start_time": "2022-06-28T05:41:07.526Z"
   },
   {
    "duration": 939,
    "start_time": "2022-06-28T05:41:07.946Z"
   },
   {
    "duration": 180,
    "start_time": "2022-06-28T05:41:08.889Z"
   },
   {
    "duration": 104,
    "start_time": "2022-06-28T05:41:09.072Z"
   },
   {
    "duration": 27,
    "start_time": "2022-06-28T05:41:22.925Z"
   },
   {
    "duration": 16,
    "start_time": "2022-06-28T05:41:31.877Z"
   },
   {
    "duration": 156,
    "start_time": "2022-06-28T05:41:39.389Z"
   },
   {
    "duration": 142,
    "start_time": "2022-06-28T05:41:50.173Z"
   },
   {
    "duration": 115,
    "start_time": "2022-06-28T05:42:13.718Z"
   },
   {
    "duration": 1411,
    "start_time": "2022-06-28T05:42:57.085Z"
   },
   {
    "duration": 27,
    "start_time": "2022-06-28T05:43:14.126Z"
   },
   {
    "duration": 105,
    "start_time": "2022-06-28T05:43:37.278Z"
   },
   {
    "duration": 99,
    "start_time": "2022-06-28T05:44:04.567Z"
   },
   {
    "duration": 157,
    "start_time": "2022-06-28T05:44:08.397Z"
   },
   {
    "duration": 338,
    "start_time": "2022-06-28T05:44:53.465Z"
   },
   {
    "duration": 354,
    "start_time": "2022-06-28T05:45:00.561Z"
   },
   {
    "duration": 322,
    "start_time": "2022-06-28T05:45:11.850Z"
   },
   {
    "duration": 24,
    "start_time": "2022-06-28T05:45:23.777Z"
   },
   {
    "duration": 310,
    "start_time": "2022-06-28T05:45:55.251Z"
   },
   {
    "duration": 12,
    "start_time": "2022-06-28T05:47:40.198Z"
   },
   {
    "duration": 375,
    "start_time": "2022-06-28T05:54:04.781Z"
   },
   {
    "duration": 440,
    "start_time": "2022-06-28T05:54:10.459Z"
   },
   {
    "duration": 1379,
    "start_time": "2022-06-28T06:16:30.112Z"
   },
   {
    "duration": 16,
    "start_time": "2022-06-28T06:16:36.138Z"
   },
   {
    "duration": 169,
    "start_time": "2022-06-28T06:16:57.256Z"
   },
   {
    "duration": 24,
    "start_time": "2022-06-28T06:17:27.620Z"
   },
   {
    "duration": 27,
    "start_time": "2022-06-28T06:17:45.952Z"
   },
   {
    "duration": 10,
    "start_time": "2022-06-28T06:20:06.377Z"
   },
   {
    "duration": 15,
    "start_time": "2022-06-28T06:20:33.840Z"
   },
   {
    "duration": 758,
    "start_time": "2022-06-28T06:23:45.852Z"
   },
   {
    "duration": 52,
    "start_time": "2022-06-28T06:28:02.815Z"
   },
   {
    "duration": 5,
    "start_time": "2022-06-28T06:28:08.028Z"
   },
   {
    "duration": 109,
    "start_time": "2022-06-28T06:28:11.984Z"
   },
   {
    "duration": 38,
    "start_time": "2022-06-28T06:28:21.405Z"
   },
   {
    "duration": 14,
    "start_time": "2022-06-28T06:34:55.662Z"
   },
   {
    "duration": 112,
    "start_time": "2022-06-28T06:36:09.347Z"
   },
   {
    "duration": 65,
    "start_time": "2022-06-28T06:36:13.178Z"
   },
   {
    "duration": 101,
    "start_time": "2022-06-28T06:36:28.840Z"
   },
   {
    "duration": 79,
    "start_time": "2022-06-28T06:36:33.078Z"
   },
   {
    "duration": 1609,
    "start_time": "2022-06-28T06:37:39.647Z"
   },
   {
    "duration": 1682,
    "start_time": "2022-06-28T06:37:52.928Z"
   },
   {
    "duration": 60,
    "start_time": "2022-06-28T06:38:10.754Z"
   },
   {
    "duration": 51,
    "start_time": "2022-06-28T06:42:24.165Z"
   },
   {
    "duration": 15,
    "start_time": "2022-06-28T06:42:48.907Z"
   },
   {
    "duration": 12,
    "start_time": "2022-06-28T06:45:21.870Z"
   },
   {
    "duration": 26,
    "start_time": "2022-06-28T06:45:28.354Z"
   },
   {
    "duration": 1139,
    "start_time": "2022-06-28T10:34:18.590Z"
   },
   {
    "duration": 6,
    "start_time": "2022-06-28T10:34:19.735Z"
   },
   {
    "duration": 3759,
    "start_time": "2022-06-28T10:34:19.743Z"
   },
   {
    "duration": 163,
    "start_time": "2022-06-28T10:34:23.504Z"
   },
   {
    "duration": 312,
    "start_time": "2022-06-28T10:34:23.669Z"
   },
   {
    "duration": 118,
    "start_time": "2022-06-28T10:34:23.983Z"
   },
   {
    "duration": 11,
    "start_time": "2022-06-28T10:34:24.102Z"
   },
   {
    "duration": 55,
    "start_time": "2022-06-28T10:34:24.125Z"
   },
   {
    "duration": 17,
    "start_time": "2022-06-28T10:34:24.183Z"
   },
   {
    "duration": 312,
    "start_time": "2022-06-28T10:34:24.201Z"
   },
   {
    "duration": 300,
    "start_time": "2022-06-28T10:34:24.514Z"
   },
   {
    "duration": 7,
    "start_time": "2022-06-28T10:35:54.382Z"
   },
   {
    "duration": 6,
    "start_time": "2022-06-28T10:36:01.155Z"
   },
   {
    "duration": 3,
    "start_time": "2022-06-28T10:36:10.221Z"
   },
   {
    "duration": 26,
    "start_time": "2022-06-28T10:36:17.743Z"
   },
   {
    "duration": 2302,
    "start_time": "2022-06-28T10:37:10.775Z"
   },
   {
    "duration": 223,
    "start_time": "2022-06-28T10:38:48.564Z"
   },
   {
    "duration": 17,
    "start_time": "2022-06-28T10:38:55.649Z"
   },
   {
    "duration": 5,
    "start_time": "2022-06-28T10:39:03.749Z"
   },
   {
    "duration": 9,
    "start_time": "2022-06-28T10:39:09.322Z"
   },
   {
    "duration": 25,
    "start_time": "2022-06-28T10:39:19.878Z"
   },
   {
    "duration": 5,
    "start_time": "2022-06-28T10:44:20.595Z"
   },
   {
    "duration": 4,
    "start_time": "2022-06-28T10:44:28.580Z"
   },
   {
    "duration": 4,
    "start_time": "2022-06-28T10:45:04.282Z"
   },
   {
    "duration": 54,
    "start_time": "2022-06-28T10:45:12.057Z"
   },
   {
    "duration": 18,
    "start_time": "2022-06-28T10:48:54.103Z"
   },
   {
    "duration": 13,
    "start_time": "2022-06-28T10:50:37.623Z"
   },
   {
    "duration": 637,
    "start_time": "2022-06-28T10:50:57.211Z"
   },
   {
    "duration": 318,
    "start_time": "2022-06-28T10:51:58.251Z"
   },
   {
    "duration": 179,
    "start_time": "2022-06-28T10:52:13.183Z"
   },
   {
    "duration": 3,
    "start_time": "2022-06-28T10:54:58.356Z"
   },
   {
    "duration": 14,
    "start_time": "2022-06-28T10:57:15.048Z"
   },
   {
    "duration": 15,
    "start_time": "2022-06-28T10:57:21.256Z"
   },
   {
    "duration": 4,
    "start_time": "2022-06-28T10:57:31.552Z"
   },
   {
    "duration": 13,
    "start_time": "2022-06-28T10:57:31.952Z"
   },
   {
    "duration": 4,
    "start_time": "2022-06-28T10:57:44.572Z"
   },
   {
    "duration": 166,
    "start_time": "2022-06-28T10:57:44.752Z"
   },
   {
    "duration": 3,
    "start_time": "2022-06-28T10:58:10.197Z"
   },
   {
    "duration": 1018,
    "start_time": "2022-06-28T10:58:10.341Z"
   },
   {
    "duration": 4,
    "start_time": "2022-06-28T10:59:39.109Z"
   },
   {
    "duration": 242,
    "start_time": "2022-06-28T10:59:39.215Z"
   },
   {
    "duration": 3,
    "start_time": "2022-06-28T11:00:47.116Z"
   },
   {
    "duration": 1433,
    "start_time": "2022-06-29T04:45:30.482Z"
   },
   {
    "duration": 3,
    "start_time": "2022-06-29T04:45:31.917Z"
   },
   {
    "duration": 1088,
    "start_time": "2022-06-29T04:45:31.922Z"
   },
   {
    "duration": 150,
    "start_time": "2022-06-29T04:45:33.011Z"
   },
   {
    "duration": 288,
    "start_time": "2022-06-29T04:45:33.164Z"
   },
   {
    "duration": 97,
    "start_time": "2022-06-29T04:45:33.454Z"
   },
   {
    "duration": 10,
    "start_time": "2022-06-29T04:45:33.553Z"
   },
   {
    "duration": 65,
    "start_time": "2022-06-29T04:45:33.564Z"
   },
   {
    "duration": 50,
    "start_time": "2022-06-29T04:45:33.630Z"
   },
   {
    "duration": 0,
    "start_time": "2022-06-29T04:45:33.682Z"
   },
   {
    "duration": 0,
    "start_time": "2022-06-29T04:45:33.683Z"
   },
   {
    "duration": 0,
    "start_time": "2022-06-29T04:45:33.684Z"
   },
   {
    "duration": 131,
    "start_time": "2022-06-29T04:46:15.713Z"
   },
   {
    "duration": 48,
    "start_time": "2022-06-29T04:46:23.479Z"
   },
   {
    "duration": 127,
    "start_time": "2022-06-29T04:46:27.722Z"
   },
   {
    "duration": 4,
    "start_time": "2022-06-29T04:47:34.427Z"
   },
   {
    "duration": 1005,
    "start_time": "2022-06-29T04:47:35.320Z"
   },
   {
    "duration": 719,
    "start_time": "2022-06-29T04:47:52.784Z"
   },
   {
    "duration": 3,
    "start_time": "2022-06-29T04:50:20.279Z"
   },
   {
    "duration": 430,
    "start_time": "2022-06-29T04:50:20.504Z"
   },
   {
    "duration": 95,
    "start_time": "2022-06-29T04:52:49.405Z"
   },
   {
    "duration": 11,
    "start_time": "2022-06-29T04:53:02.727Z"
   },
   {
    "duration": 5,
    "start_time": "2022-06-29T04:53:09.110Z"
   },
   {
    "duration": 9532,
    "start_time": "2022-06-29T04:53:24.638Z"
   },
   {
    "duration": 17,
    "start_time": "2022-06-29T04:54:36.930Z"
   },
   {
    "duration": 22,
    "start_time": "2022-06-29T04:55:35.741Z"
   },
   {
    "duration": 11,
    "start_time": "2022-06-29T04:56:58.105Z"
   },
   {
    "duration": 12,
    "start_time": "2022-06-29T04:57:02.668Z"
   },
   {
    "duration": 89,
    "start_time": "2022-06-29T04:57:06.822Z"
   },
   {
    "duration": 15,
    "start_time": "2022-06-29T05:18:46.699Z"
   },
   {
    "duration": 14,
    "start_time": "2022-06-29T05:19:14.569Z"
   },
   {
    "duration": 15,
    "start_time": "2022-06-29T05:20:45.903Z"
   },
   {
    "duration": 3,
    "start_time": "2022-06-29T05:21:17.706Z"
   },
   {
    "duration": 384,
    "start_time": "2022-06-29T05:21:18.252Z"
   },
   {
    "duration": 3,
    "start_time": "2022-06-29T05:21:26.744Z"
   },
   {
    "duration": 389,
    "start_time": "2022-06-29T05:21:27.443Z"
   },
   {
    "duration": 24,
    "start_time": "2022-06-29T05:30:02.807Z"
   },
   {
    "duration": 48,
    "start_time": "2022-06-29T05:31:39.665Z"
   },
   {
    "duration": 7,
    "start_time": "2022-06-29T05:31:50.022Z"
   },
   {
    "duration": 52,
    "start_time": "2022-06-29T05:32:27.183Z"
   },
   {
    "duration": 50,
    "start_time": "2022-06-29T05:34:04.727Z"
   },
   {
    "duration": 14,
    "start_time": "2022-06-29T05:34:49.256Z"
   },
   {
    "duration": 11,
    "start_time": "2022-06-29T05:34:58.822Z"
   },
   {
    "duration": 11,
    "start_time": "2022-06-29T05:35:02.823Z"
   },
   {
    "duration": 9,
    "start_time": "2022-06-29T05:35:08.238Z"
   },
   {
    "duration": 10,
    "start_time": "2022-06-29T05:36:32.111Z"
   },
   {
    "duration": 13,
    "start_time": "2022-06-29T05:36:39.733Z"
   },
   {
    "duration": 5,
    "start_time": "2022-06-29T05:36:48.573Z"
   },
   {
    "duration": 11,
    "start_time": "2022-06-29T05:37:16.151Z"
   },
   {
    "duration": 5,
    "start_time": "2022-06-29T05:38:01.472Z"
   },
   {
    "duration": 11,
    "start_time": "2022-06-29T05:38:20.005Z"
   },
   {
    "duration": 1339,
    "start_time": "2022-06-29T05:38:46.199Z"
   },
   {
    "duration": 3,
    "start_time": "2022-06-29T05:38:47.540Z"
   },
   {
    "duration": 785,
    "start_time": "2022-06-29T05:38:47.544Z"
   },
   {
    "duration": 146,
    "start_time": "2022-06-29T05:38:48.331Z"
   },
   {
    "duration": 290,
    "start_time": "2022-06-29T05:38:48.479Z"
   },
   {
    "duration": 102,
    "start_time": "2022-06-29T05:38:48.771Z"
   },
   {
    "duration": 11,
    "start_time": "2022-06-29T05:38:48.875Z"
   },
   {
    "duration": 65,
    "start_time": "2022-06-29T05:38:48.887Z"
   },
   {
    "duration": 4,
    "start_time": "2022-06-29T05:38:48.954Z"
   },
   {
    "duration": 408,
    "start_time": "2022-06-29T05:38:48.960Z"
   },
   {
    "duration": 8,
    "start_time": "2022-06-29T05:38:49.370Z"
   },
   {
    "duration": 63,
    "start_time": "2022-06-29T05:38:49.379Z"
   },
   {
    "duration": 66,
    "start_time": "2022-06-29T05:38:49.444Z"
   },
   {
    "duration": 277,
    "start_time": "2022-06-29T05:38:49.512Z"
   },
   {
    "duration": 335,
    "start_time": "2022-06-29T05:38:49.791Z"
   },
   {
    "duration": 3,
    "start_time": "2022-06-29T05:39:34.580Z"
   },
   {
    "duration": 350,
    "start_time": "2022-06-29T05:39:35.514Z"
   },
   {
    "duration": 1432,
    "start_time": "2022-06-29T05:39:47.003Z"
   },
   {
    "duration": 3,
    "start_time": "2022-06-29T05:39:48.437Z"
   },
   {
    "duration": 842,
    "start_time": "2022-06-29T05:39:48.442Z"
   },
   {
    "duration": 182,
    "start_time": "2022-06-29T05:39:49.286Z"
   },
   {
    "duration": 294,
    "start_time": "2022-06-29T05:39:49.469Z"
   },
   {
    "duration": 103,
    "start_time": "2022-06-29T05:39:49.764Z"
   },
   {
    "duration": 3,
    "start_time": "2022-06-29T05:39:49.869Z"
   },
   {
    "duration": 428,
    "start_time": "2022-06-29T05:39:49.873Z"
   },
   {
    "duration": 26,
    "start_time": "2022-06-29T05:39:50.303Z"
   },
   {
    "duration": 47,
    "start_time": "2022-06-29T05:39:50.332Z"
   },
   {
    "duration": 79,
    "start_time": "2022-06-29T05:39:50.381Z"
   },
   {
    "duration": 278,
    "start_time": "2022-06-29T05:39:50.462Z"
   },
   {
    "duration": 317,
    "start_time": "2022-06-29T05:39:50.741Z"
   },
   {
    "duration": 24,
    "start_time": "2022-06-29T05:40:56.905Z"
   },
   {
    "duration": 17,
    "start_time": "2022-06-29T05:44:39.380Z"
   },
   {
    "duration": 15,
    "start_time": "2022-06-29T05:44:48.289Z"
   },
   {
    "duration": 23,
    "start_time": "2022-06-29T05:44:49.410Z"
   },
   {
    "duration": 5,
    "start_time": "2022-06-29T05:46:03.610Z"
   },
   {
    "duration": 7,
    "start_time": "2022-06-29T05:48:01.618Z"
   },
   {
    "duration": 30,
    "start_time": "2022-06-29T05:49:03.344Z"
   },
   {
    "duration": 98,
    "start_time": "2022-06-29T05:49:13.494Z"
   },
   {
    "duration": 1272,
    "start_time": "2022-06-29T05:49:36.253Z"
   },
   {
    "duration": 3,
    "start_time": "2022-06-29T05:49:37.527Z"
   },
   {
    "duration": 777,
    "start_time": "2022-06-29T05:49:37.531Z"
   },
   {
    "duration": 151,
    "start_time": "2022-06-29T05:49:38.309Z"
   },
   {
    "duration": 290,
    "start_time": "2022-06-29T05:49:38.462Z"
   },
   {
    "duration": 6,
    "start_time": "2022-06-29T05:49:38.754Z"
   },
   {
    "duration": 35,
    "start_time": "2022-06-29T05:49:38.761Z"
   },
   {
    "duration": 96,
    "start_time": "2022-06-29T05:49:38.798Z"
   },
   {
    "duration": 105,
    "start_time": "2022-06-29T05:49:38.896Z"
   },
   {
    "duration": 3,
    "start_time": "2022-06-29T05:49:39.003Z"
   },
   {
    "duration": 423,
    "start_time": "2022-06-29T05:49:39.008Z"
   },
   {
    "duration": 11,
    "start_time": "2022-06-29T05:49:39.433Z"
   },
   {
    "duration": 48,
    "start_time": "2022-06-29T05:49:39.445Z"
   },
   {
    "duration": 30,
    "start_time": "2022-06-29T05:49:39.495Z"
   },
   {
    "duration": 911,
    "start_time": "2022-06-29T05:49:39.527Z"
   },
   {
    "duration": 0,
    "start_time": "2022-06-29T05:49:40.440Z"
   },
   {
    "duration": 0,
    "start_time": "2022-06-29T05:49:40.441Z"
   },
   {
    "duration": 31,
    "start_time": "2022-06-29T05:50:15.126Z"
   },
   {
    "duration": 13,
    "start_time": "2022-06-29T05:50:46.146Z"
   },
   {
    "duration": 67,
    "start_time": "2022-06-29T05:55:41.101Z"
   },
   {
    "duration": 24,
    "start_time": "2022-06-29T05:55:43.645Z"
   },
   {
    "duration": 23,
    "start_time": "2022-06-29T05:56:38.254Z"
   },
   {
    "duration": 18,
    "start_time": "2022-06-29T05:57:21.549Z"
   },
   {
    "duration": 50,
    "start_time": "2022-06-29T05:57:29.615Z"
   },
   {
    "duration": 70,
    "start_time": "2022-06-29T05:57:53.847Z"
   },
   {
    "duration": 46,
    "start_time": "2022-06-29T05:58:15.758Z"
   },
   {
    "duration": 45,
    "start_time": "2022-06-29T05:58:40.573Z"
   },
   {
    "duration": 4,
    "start_time": "2022-06-29T05:59:43.200Z"
   },
   {
    "duration": 105,
    "start_time": "2022-06-29T06:06:04.523Z"
   },
   {
    "duration": 100,
    "start_time": "2022-06-29T06:06:55.555Z"
   },
   {
    "duration": 92,
    "start_time": "2022-06-29T06:12:02.217Z"
   },
   {
    "duration": 7,
    "start_time": "2022-06-29T06:12:05.772Z"
   },
   {
    "duration": 4,
    "start_time": "2022-06-29T06:12:09.633Z"
   },
   {
    "duration": 7,
    "start_time": "2022-06-29T06:12:14.432Z"
   },
   {
    "duration": 10,
    "start_time": "2022-06-29T06:14:00.793Z"
   },
   {
    "duration": 12,
    "start_time": "2022-06-29T06:14:06.592Z"
   },
   {
    "duration": 3,
    "start_time": "2022-06-29T06:14:26.520Z"
   },
   {
    "duration": 1434,
    "start_time": "2022-06-29T06:14:35.049Z"
   },
   {
    "duration": 3382,
    "start_time": "2022-06-29T06:14:42.000Z"
   },
   {
    "duration": 12,
    "start_time": "2022-06-29T06:14:51.879Z"
   },
   {
    "duration": 10,
    "start_time": "2022-06-29T06:14:56.728Z"
   },
   {
    "duration": 11,
    "start_time": "2022-06-29T06:18:07.105Z"
   },
   {
    "duration": 47,
    "start_time": "2022-06-29T06:18:48.744Z"
   },
   {
    "duration": 1252,
    "start_time": "2022-06-29T06:22:01.026Z"
   },
   {
    "duration": 31,
    "start_time": "2022-06-29T06:22:05.751Z"
   },
   {
    "duration": 517,
    "start_time": "2022-06-29T06:22:13.518Z"
   },
   {
    "duration": 58,
    "start_time": "2022-06-29T06:23:04.161Z"
   },
   {
    "duration": 32,
    "start_time": "2022-06-29T06:23:07.478Z"
   },
   {
    "duration": 30,
    "start_time": "2022-06-29T06:23:28.551Z"
   },
   {
    "duration": 4,
    "start_time": "2022-06-29T06:25:14.238Z"
   },
   {
    "duration": 767,
    "start_time": "2022-06-29T06:26:05.693Z"
   },
   {
    "duration": 32,
    "start_time": "2022-06-29T06:27:14.544Z"
   },
   {
    "duration": 31,
    "start_time": "2022-06-29T06:27:24.022Z"
   },
   {
    "duration": 3941,
    "start_time": "2022-06-29T06:30:48.848Z"
   },
   {
    "duration": 48,
    "start_time": "2022-06-29T06:37:53.535Z"
   },
   {
    "duration": 59,
    "start_time": "2022-06-29T06:38:33.849Z"
   },
   {
    "duration": 4,
    "start_time": "2022-06-29T06:38:49.665Z"
   },
   {
    "duration": 38,
    "start_time": "2022-06-29T06:38:53.617Z"
   },
   {
    "duration": 3693,
    "start_time": "2022-06-29T06:38:54.778Z"
   },
   {
    "duration": 3,
    "start_time": "2022-06-29T06:40:20.442Z"
   },
   {
    "duration": 49,
    "start_time": "2022-06-29T06:40:23.665Z"
   },
   {
    "duration": 3,
    "start_time": "2022-06-29T06:42:31.480Z"
   },
   {
    "duration": 1352,
    "start_time": "2022-06-29T06:45:23.227Z"
   },
   {
    "duration": 3,
    "start_time": "2022-06-29T06:45:24.581Z"
   },
   {
    "duration": 856,
    "start_time": "2022-06-29T06:45:24.586Z"
   },
   {
    "duration": 155,
    "start_time": "2022-06-29T06:45:25.445Z"
   },
   {
    "duration": 310,
    "start_time": "2022-06-29T06:45:25.601Z"
   },
   {
    "duration": 10,
    "start_time": "2022-06-29T06:45:25.913Z"
   },
   {
    "duration": 56,
    "start_time": "2022-06-29T06:45:25.925Z"
   },
   {
    "duration": 95,
    "start_time": "2022-06-29T06:45:25.983Z"
   },
   {
    "duration": 4,
    "start_time": "2022-06-29T06:45:26.080Z"
   },
   {
    "duration": 411,
    "start_time": "2022-06-29T06:45:26.087Z"
   },
   {
    "duration": 27,
    "start_time": "2022-06-29T06:45:26.500Z"
   },
   {
    "duration": 52,
    "start_time": "2022-06-29T06:45:26.534Z"
   },
   {
    "duration": 15,
    "start_time": "2022-06-29T06:45:26.587Z"
   },
   {
    "duration": 39,
    "start_time": "2022-06-29T06:45:26.603Z"
   },
   {
    "duration": 116,
    "start_time": "2022-06-29T06:45:26.644Z"
   },
   {
    "duration": 12,
    "start_time": "2022-06-29T06:45:26.761Z"
   },
   {
    "duration": 45,
    "start_time": "2022-06-29T06:45:26.774Z"
   },
   {
    "duration": 0,
    "start_time": "2022-06-29T06:45:26.821Z"
   },
   {
    "duration": 0,
    "start_time": "2022-06-29T06:45:26.822Z"
   },
   {
    "duration": 0,
    "start_time": "2022-06-29T06:45:26.823Z"
   },
   {
    "duration": 0,
    "start_time": "2022-06-29T06:45:26.824Z"
   },
   {
    "duration": 102,
    "start_time": "2022-06-29T06:46:06.680Z"
   },
   {
    "duration": 10,
    "start_time": "2022-06-29T06:46:13.608Z"
   },
   {
    "duration": 10,
    "start_time": "2022-06-29T06:48:01.479Z"
   },
   {
    "duration": 8,
    "start_time": "2022-06-29T06:48:21.191Z"
   },
   {
    "duration": 9,
    "start_time": "2022-06-29T06:48:36.968Z"
   },
   {
    "duration": 10,
    "start_time": "2022-06-29T06:50:06.552Z"
   },
   {
    "duration": 16,
    "start_time": "2022-06-29T06:50:20.456Z"
   },
   {
    "duration": 23,
    "start_time": "2022-06-29T06:50:26.584Z"
   },
   {
    "duration": 23,
    "start_time": "2022-06-29T06:50:51.391Z"
   },
   {
    "duration": 4,
    "start_time": "2022-06-29T06:50:58.762Z"
   },
   {
    "duration": 7,
    "start_time": "2022-06-29T06:51:09.293Z"
   },
   {
    "duration": 21,
    "start_time": "2022-06-29T06:51:22.954Z"
   },
   {
    "duration": 18,
    "start_time": "2022-06-29T06:51:33.919Z"
   },
   {
    "duration": 50,
    "start_time": "2022-06-29T06:51:52.521Z"
   },
   {
    "duration": 49,
    "start_time": "2022-06-29T06:51:59.097Z"
   },
   {
    "duration": 32,
    "start_time": "2022-06-29T06:52:28.328Z"
   },
   {
    "duration": 1503,
    "start_time": "2022-06-29T09:18:58.548Z"
   },
   {
    "duration": 3,
    "start_time": "2022-06-29T09:19:00.054Z"
   },
   {
    "duration": 1061,
    "start_time": "2022-06-29T09:19:00.058Z"
   },
   {
    "duration": 133,
    "start_time": "2022-06-29T09:19:01.121Z"
   },
   {
    "duration": 299,
    "start_time": "2022-06-29T09:19:01.256Z"
   },
   {
    "duration": 20,
    "start_time": "2022-06-29T09:19:01.557Z"
   },
   {
    "duration": 41,
    "start_time": "2022-06-29T09:19:01.579Z"
   },
   {
    "duration": 92,
    "start_time": "2022-06-29T09:19:01.621Z"
   },
   {
    "duration": 3,
    "start_time": "2022-06-29T09:19:01.715Z"
   },
   {
    "duration": 433,
    "start_time": "2022-06-29T09:19:01.720Z"
   },
   {
    "duration": 18,
    "start_time": "2022-06-29T09:19:02.155Z"
   },
   {
    "duration": 48,
    "start_time": "2022-06-29T09:19:02.175Z"
   },
   {
    "duration": 16,
    "start_time": "2022-06-29T09:19:02.225Z"
   },
   {
    "duration": 42,
    "start_time": "2022-06-29T09:19:02.244Z"
   },
   {
    "duration": 112,
    "start_time": "2022-06-29T09:19:02.288Z"
   },
   {
    "duration": 11,
    "start_time": "2022-06-29T09:19:02.402Z"
   },
   {
    "duration": 73,
    "start_time": "2022-06-29T09:19:02.415Z"
   },
   {
    "duration": 0,
    "start_time": "2022-06-29T09:19:02.490Z"
   },
   {
    "duration": 0,
    "start_time": "2022-06-29T09:19:02.491Z"
   },
   {
    "duration": 0,
    "start_time": "2022-06-29T09:19:02.492Z"
   },
   {
    "duration": 0,
    "start_time": "2022-06-29T09:19:02.493Z"
   },
   {
    "duration": 108,
    "start_time": "2022-06-29T09:19:40.143Z"
   },
   {
    "duration": 9,
    "start_time": "2022-06-29T09:20:16.324Z"
   },
   {
    "duration": 11,
    "start_time": "2022-06-29T09:21:36.507Z"
   },
   {
    "duration": 4,
    "start_time": "2022-06-29T09:21:45.412Z"
   },
   {
    "duration": 21,
    "start_time": "2022-06-29T09:21:57.356Z"
   },
   {
    "duration": 4,
    "start_time": "2022-06-29T09:22:09.503Z"
   },
   {
    "duration": 5,
    "start_time": "2022-06-29T09:22:19.059Z"
   },
   {
    "duration": 21,
    "start_time": "2022-06-29T09:23:20.980Z"
   },
   {
    "duration": 49,
    "start_time": "2022-06-29T09:23:29.110Z"
   },
   {
    "duration": 24,
    "start_time": "2022-06-29T09:23:45.084Z"
   },
   {
    "duration": 4,
    "start_time": "2022-06-29T09:25:34.619Z"
   },
   {
    "duration": 29,
    "start_time": "2022-06-29T09:26:18.579Z"
   },
   {
    "duration": 3,
    "start_time": "2022-06-29T09:26:19.515Z"
   },
   {
    "duration": 2439,
    "start_time": "2022-06-29T09:26:27.330Z"
   },
   {
    "duration": 3,
    "start_time": "2022-06-29T09:27:51.665Z"
   },
   {
    "duration": 19667,
    "start_time": "2022-06-29T09:28:00.226Z"
   },
   {
    "duration": 5087,
    "start_time": "2022-06-29T09:29:02.922Z"
   },
   {
    "duration": 956,
    "start_time": "2022-06-29T09:29:13.924Z"
   },
   {
    "duration": 269,
    "start_time": "2022-06-29T09:29:31.290Z"
   },
   {
    "duration": 8,
    "start_time": "2022-06-29T09:29:48.136Z"
   },
   {
    "duration": 3,
    "start_time": "2022-06-29T09:30:14.520Z"
   },
   {
    "duration": 8,
    "start_time": "2022-06-29T09:30:17.608Z"
   },
   {
    "duration": 15,
    "start_time": "2022-06-29T09:30:23.553Z"
   },
   {
    "duration": 6,
    "start_time": "2022-06-29T09:30:56.160Z"
   },
   {
    "duration": 14,
    "start_time": "2022-06-29T09:30:58.010Z"
   },
   {
    "duration": 8,
    "start_time": "2022-06-29T09:31:04.376Z"
   },
   {
    "duration": 17,
    "start_time": "2022-06-29T09:31:04.673Z"
   },
   {
    "duration": 2,
    "start_time": "2022-06-29T09:31:57.305Z"
   },
   {
    "duration": 5,
    "start_time": "2022-06-29T09:31:59.648Z"
   },
   {
    "duration": 4,
    "start_time": "2022-06-29T09:31:59.864Z"
   },
   {
    "duration": 2,
    "start_time": "2022-06-29T09:32:25.536Z"
   },
   {
    "duration": 6,
    "start_time": "2022-06-29T09:32:29.982Z"
   },
   {
    "duration": 46,
    "start_time": "2022-06-29T09:37:26.486Z"
   },
   {
    "duration": 4,
    "start_time": "2022-06-29T09:37:33.671Z"
   },
   {
    "duration": 129,
    "start_time": "2022-06-29T09:37:35.312Z"
   },
   {
    "duration": 29,
    "start_time": "2022-06-29T09:38:14.160Z"
   },
   {
    "duration": 3,
    "start_time": "2022-06-29T09:38:35.405Z"
   },
   {
    "duration": 137,
    "start_time": "2022-06-29T09:38:40.255Z"
   },
   {
    "duration": 25,
    "start_time": "2022-06-29T09:41:16.118Z"
   },
   {
    "duration": 3,
    "start_time": "2022-06-29T09:41:59.731Z"
   },
   {
    "duration": 57,
    "start_time": "2022-06-29T09:42:06.901Z"
   },
   {
    "duration": 4,
    "start_time": "2022-06-29T09:42:08.741Z"
   },
   {
    "duration": 4,
    "start_time": "2022-06-29T09:42:10.196Z"
   },
   {
    "duration": 20,
    "start_time": "2022-06-29T09:42:18.116Z"
   },
   {
    "duration": 56,
    "start_time": "2022-06-29T09:42:21.700Z"
   },
   {
    "duration": 3,
    "start_time": "2022-06-29T09:43:29.013Z"
   },
   {
    "duration": 59,
    "start_time": "2022-06-29T09:43:32.972Z"
   },
   {
    "duration": 3,
    "start_time": "2022-06-29T09:43:52.172Z"
   },
   {
    "duration": 55,
    "start_time": "2022-06-29T09:43:54.820Z"
   },
   {
    "duration": 3,
    "start_time": "2022-06-29T09:44:01.396Z"
   },
   {
    "duration": 58,
    "start_time": "2022-06-29T09:44:02.770Z"
   },
   {
    "duration": 3,
    "start_time": "2022-06-29T09:44:54.852Z"
   },
   {
    "duration": 55,
    "start_time": "2022-06-29T09:44:57.252Z"
   },
   {
    "duration": 4,
    "start_time": "2022-06-29T09:45:25.754Z"
   },
   {
    "duration": 57,
    "start_time": "2022-06-29T09:45:27.619Z"
   },
   {
    "duration": 13,
    "start_time": "2022-06-29T09:45:29.971Z"
   },
   {
    "duration": 3,
    "start_time": "2022-06-29T09:47:51.620Z"
   },
   {
    "duration": 66942,
    "start_time": "2022-06-29T09:48:03.035Z"
   },
   {
    "duration": 3,
    "start_time": "2022-06-29T09:49:09.981Z"
   },
   {
    "duration": 4,
    "start_time": "2022-06-29T09:49:13.585Z"
   },
   {
    "duration": 53168,
    "start_time": "2022-06-29T09:49:15.634Z"
   },
   {
    "duration": 3,
    "start_time": "2022-06-29T09:50:49.498Z"
   },
   {
    "duration": 262,
    "start_time": "2022-06-29T09:50:51.001Z"
   },
   {
    "duration": 16,
    "start_time": "2022-06-29T09:50:53.546Z"
   },
   {
    "duration": 4,
    "start_time": "2022-06-29T09:51:20.418Z"
   },
   {
    "duration": 268,
    "start_time": "2022-06-29T09:51:21.945Z"
   },
   {
    "duration": 4,
    "start_time": "2022-06-29T09:51:49.226Z"
   },
   {
    "duration": 7,
    "start_time": "2022-06-29T09:51:50.794Z"
   },
   {
    "duration": 13,
    "start_time": "2022-06-29T09:51:52.314Z"
   },
   {
    "duration": 4,
    "start_time": "2022-06-29T09:53:06.633Z"
   },
   {
    "duration": 169,
    "start_time": "2022-06-29T09:53:08.378Z"
   },
   {
    "duration": 14,
    "start_time": "2022-06-29T09:53:11.545Z"
   },
   {
    "duration": 3,
    "start_time": "2022-06-29T09:53:21.371Z"
   },
   {
    "duration": 1448,
    "start_time": "2022-06-29T09:54:47.344Z"
   },
   {
    "duration": 4,
    "start_time": "2022-06-29T09:54:48.794Z"
   },
   {
    "duration": 843,
    "start_time": "2022-06-29T09:54:48.799Z"
   },
   {
    "duration": 134,
    "start_time": "2022-06-29T09:54:49.644Z"
   },
   {
    "duration": 286,
    "start_time": "2022-06-29T09:54:49.779Z"
   },
   {
    "duration": 5,
    "start_time": "2022-06-29T09:54:50.067Z"
   },
   {
    "duration": 42,
    "start_time": "2022-06-29T09:54:50.073Z"
   },
   {
    "duration": 92,
    "start_time": "2022-06-29T09:54:50.116Z"
   },
   {
    "duration": 3,
    "start_time": "2022-06-29T09:54:50.210Z"
   },
   {
    "duration": 394,
    "start_time": "2022-06-29T09:54:50.216Z"
   },
   {
    "duration": 11,
    "start_time": "2022-06-29T09:54:50.611Z"
   },
   {
    "duration": 63,
    "start_time": "2022-06-29T09:54:50.624Z"
   },
   {
    "duration": 25,
    "start_time": "2022-06-29T09:54:50.688Z"
   },
   {
    "duration": 94,
    "start_time": "2022-06-29T09:54:50.715Z"
   },
   {
    "duration": 10,
    "start_time": "2022-06-29T09:54:50.811Z"
   },
   {
    "duration": 16,
    "start_time": "2022-06-29T09:54:50.823Z"
   },
   {
    "duration": 4,
    "start_time": "2022-06-29T09:54:50.841Z"
   },
   {
    "duration": 56,
    "start_time": "2022-06-29T09:54:50.847Z"
   },
   {
    "duration": 0,
    "start_time": "2022-06-29T09:54:50.905Z"
   },
   {
    "duration": 0,
    "start_time": "2022-06-29T09:54:50.906Z"
   },
   {
    "duration": 0,
    "start_time": "2022-06-29T09:54:50.907Z"
   },
   {
    "duration": 0,
    "start_time": "2022-06-29T09:54:50.908Z"
   },
   {
    "duration": 3,
    "start_time": "2022-06-29T09:55:17.782Z"
   },
   {
    "duration": 737,
    "start_time": "2022-06-29T09:55:45.278Z"
   },
   {
    "duration": 24,
    "start_time": "2022-06-29T09:55:51.933Z"
   },
   {
    "duration": 49,
    "start_time": "2022-06-29T09:56:35.472Z"
   },
   {
    "duration": 18,
    "start_time": "2022-06-29T09:56:39.468Z"
   },
   {
    "duration": 3676,
    "start_time": "2022-06-29T09:56:53.228Z"
   },
   {
    "duration": 8,
    "start_time": "2022-06-29T09:58:23.470Z"
   },
   {
    "duration": 3289,
    "start_time": "2022-06-29T09:58:25.381Z"
   },
   {
    "duration": 5,
    "start_time": "2022-06-29T09:59:11.970Z"
   },
   {
    "duration": 810457,
    "start_time": "2022-06-29T09:59:14.003Z"
   },
   {
    "duration": 59,
    "start_time": "2022-06-29T10:12:44.463Z"
   },
   {
    "duration": 278,
    "start_time": "2022-06-29T11:09:58.931Z"
   },
   {
    "duration": 23,
    "start_time": "2022-06-29T11:10:14.395Z"
   },
   {
    "duration": 56,
    "start_time": "2022-06-29T11:10:20.529Z"
   },
   {
    "duration": 14,
    "start_time": "2022-06-29T11:48:17.168Z"
   },
   {
    "duration": 81,
    "start_time": "2022-06-29T11:48:20.789Z"
   },
   {
    "duration": 12,
    "start_time": "2022-06-29T11:48:26.716Z"
   },
   {
    "duration": 27,
    "start_time": "2022-06-29T11:51:10.149Z"
   },
   {
    "duration": 27,
    "start_time": "2022-06-29T11:53:23.079Z"
   },
   {
    "duration": 13,
    "start_time": "2022-06-29T11:53:26.321Z"
   },
   {
    "duration": 256,
    "start_time": "2022-06-29T11:55:23.602Z"
   },
   {
    "duration": 11,
    "start_time": "2022-06-29T11:55:48.705Z"
   },
   {
    "duration": 11,
    "start_time": "2022-06-29T11:55:53.304Z"
   },
   {
    "duration": 10,
    "start_time": "2022-06-29T11:56:00.122Z"
   },
   {
    "duration": 331,
    "start_time": "2022-06-29T11:56:21.240Z"
   },
   {
    "duration": 404,
    "start_time": "2022-06-29T11:56:28.913Z"
   },
   {
    "duration": 1338,
    "start_time": "2022-06-29T11:57:15.454Z"
   },
   {
    "duration": 3,
    "start_time": "2022-06-29T11:57:16.794Z"
   },
   {
    "duration": 789,
    "start_time": "2022-06-29T11:57:16.799Z"
   },
   {
    "duration": 134,
    "start_time": "2022-06-29T11:57:17.590Z"
   },
   {
    "duration": 271,
    "start_time": "2022-06-29T11:57:17.726Z"
   },
   {
    "duration": 5,
    "start_time": "2022-06-29T11:57:17.999Z"
   },
   {
    "duration": 37,
    "start_time": "2022-06-29T11:57:18.006Z"
   },
   {
    "duration": 95,
    "start_time": "2022-06-29T11:57:18.045Z"
   },
   {
    "duration": 3,
    "start_time": "2022-06-29T11:57:18.142Z"
   },
   {
    "duration": 432,
    "start_time": "2022-06-29T11:57:18.148Z"
   },
   {
    "duration": 11,
    "start_time": "2022-06-29T11:57:18.581Z"
   },
   {
    "duration": 50,
    "start_time": "2022-06-29T11:57:18.594Z"
   },
   {
    "duration": 47,
    "start_time": "2022-06-29T11:57:18.646Z"
   },
   {
    "duration": 15,
    "start_time": "2022-06-29T11:57:18.695Z"
   },
   {
    "duration": 4,
    "start_time": "2022-06-29T11:57:18.712Z"
   },
   {
    "duration": 759971,
    "start_time": "2022-06-29T11:57:18.718Z"
   },
   {
    "duration": 239,
    "start_time": "2022-06-29T12:09:58.691Z"
   },
   {
    "duration": 46,
    "start_time": "2022-06-29T12:09:58.933Z"
   },
   {
    "duration": 62,
    "start_time": "2022-06-29T12:10:50.937Z"
   },
   {
    "duration": 25,
    "start_time": "2022-06-29T12:11:04.779Z"
   },
   {
    "duration": 57,
    "start_time": "2022-06-29T12:25:44.244Z"
   },
   {
    "duration": 22,
    "start_time": "2022-06-29T12:36:46.604Z"
   },
   {
    "duration": 3,
    "start_time": "2022-06-29T12:43:24.241Z"
   },
   {
    "duration": 46,
    "start_time": "2022-06-29T12:46:22.480Z"
   },
   {
    "duration": 2174,
    "start_time": "2022-06-29T12:46:27.176Z"
   },
   {
    "duration": 2408,
    "start_time": "2022-06-29T12:47:01.387Z"
   },
   {
    "duration": 2395,
    "start_time": "2022-06-29T12:48:42.248Z"
   },
   {
    "duration": 22,
    "start_time": "2022-06-29T12:48:54.075Z"
   },
   {
    "duration": 55,
    "start_time": "2022-06-29T12:49:06.911Z"
   },
   {
    "duration": 10,
    "start_time": "2022-06-29T12:50:34.877Z"
   },
   {
    "duration": 5,
    "start_time": "2022-06-29T12:51:44.185Z"
   },
   {
    "duration": 74,
    "start_time": "2022-06-29T12:52:37.791Z"
   },
   {
    "duration": 4,
    "start_time": "2022-06-29T12:52:42.934Z"
   },
   {
    "duration": 54,
    "start_time": "2022-06-29T12:53:31.503Z"
   },
   {
    "duration": 22,
    "start_time": "2022-06-29T12:54:54.528Z"
   },
   {
    "duration": 18,
    "start_time": "2022-06-29T12:55:37.576Z"
   },
   {
    "duration": 20,
    "start_time": "2022-06-29T12:55:54.930Z"
   },
   {
    "duration": 53,
    "start_time": "2022-06-29T12:56:01.592Z"
   },
   {
    "duration": 31,
    "start_time": "2022-06-29T12:56:22.494Z"
   },
   {
    "duration": 58,
    "start_time": "2022-06-29T12:57:25.750Z"
   },
   {
    "duration": 67,
    "start_time": "2022-06-29T12:58:24.067Z"
   },
   {
    "duration": 54,
    "start_time": "2022-06-29T12:58:25.989Z"
   },
   {
    "duration": 12,
    "start_time": "2022-06-29T12:58:55.510Z"
   },
   {
    "duration": 21,
    "start_time": "2022-06-29T12:59:08.994Z"
   },
   {
    "duration": 36,
    "start_time": "2022-06-29T13:03:31.847Z"
   },
   {
    "duration": 29,
    "start_time": "2022-06-29T13:10:05.694Z"
   },
   {
    "duration": 9,
    "start_time": "2022-06-29T13:19:27.275Z"
   },
   {
    "duration": 21,
    "start_time": "2022-06-29T13:19:48.843Z"
   },
   {
    "duration": 19,
    "start_time": "2022-06-29T13:21:49.633Z"
   },
   {
    "duration": 18,
    "start_time": "2022-06-29T13:22:36.904Z"
   },
   {
    "duration": 16,
    "start_time": "2022-06-29T13:22:54.578Z"
   },
   {
    "duration": 31,
    "start_time": "2022-06-29T13:23:23.240Z"
   },
   {
    "duration": 4,
    "start_time": "2022-06-29T13:23:40.255Z"
   },
   {
    "duration": 19,
    "start_time": "2022-06-29T13:23:43.939Z"
   },
   {
    "duration": 19,
    "start_time": "2022-06-29T13:25:04.656Z"
   },
   {
    "duration": 40,
    "start_time": "2022-06-29T13:25:29.879Z"
   },
   {
    "duration": 18,
    "start_time": "2022-06-29T13:32:20.148Z"
   },
   {
    "duration": 902,
    "start_time": "2022-06-29T13:32:31.885Z"
   },
   {
    "duration": 7,
    "start_time": "2022-06-29T13:32:42.468Z"
   },
   {
    "duration": 104,
    "start_time": "2022-06-29T13:35:37.448Z"
   },
   {
    "duration": 51,
    "start_time": "2022-06-29T13:35:47.970Z"
   },
   {
    "duration": 57,
    "start_time": "2022-06-29T13:35:50.249Z"
   },
   {
    "duration": 16,
    "start_time": "2022-06-29T13:35:59.640Z"
   },
   {
    "duration": 16,
    "start_time": "2022-06-29T13:37:39.869Z"
   },
   {
    "duration": 5,
    "start_time": "2022-06-29T13:37:46.299Z"
   },
   {
    "duration": 26,
    "start_time": "2022-06-29T13:40:09.856Z"
   },
   {
    "duration": 5,
    "start_time": "2022-06-29T13:40:28.949Z"
   },
   {
    "duration": 5,
    "start_time": "2022-06-29T13:40:34.929Z"
   },
   {
    "duration": 88,
    "start_time": "2022-06-29T13:41:54.631Z"
   },
   {
    "duration": 46,
    "start_time": "2022-06-29T13:41:58.271Z"
   },
   {
    "duration": 52,
    "start_time": "2022-06-29T13:42:02.983Z"
   },
   {
    "duration": 102,
    "start_time": "2022-06-29T13:42:15.433Z"
   },
   {
    "duration": 4,
    "start_time": "2022-06-29T13:42:19.723Z"
   },
   {
    "duration": 9,
    "start_time": "2022-06-29T13:42:26.774Z"
   },
   {
    "duration": 3,
    "start_time": "2022-06-29T13:43:29.696Z"
   },
   {
    "duration": 4,
    "start_time": "2022-06-29T13:44:13.344Z"
   },
   {
    "duration": 5,
    "start_time": "2022-06-29T13:46:56.361Z"
   },
   {
    "duration": 17074,
    "start_time": "2022-06-29T13:46:58.670Z"
   },
   {
    "duration": 32,
    "start_time": "2022-06-29T13:47:38.895Z"
   },
   {
    "duration": 15,
    "start_time": "2022-06-29T13:47:50.086Z"
   },
   {
    "duration": 35,
    "start_time": "2022-06-29T15:23:25.256Z"
   },
   {
    "duration": 4,
    "start_time": "2022-06-29T15:24:12.323Z"
   },
   {
    "duration": 67,
    "start_time": "2022-06-29T15:24:18.640Z"
   },
   {
    "duration": 17,
    "start_time": "2022-06-29T15:24:36.822Z"
   },
   {
    "duration": 11,
    "start_time": "2022-06-29T15:24:48.562Z"
   },
   {
    "duration": 13,
    "start_time": "2022-06-29T15:25:00.094Z"
   },
   {
    "duration": 95,
    "start_time": "2022-06-29T15:25:12.286Z"
   },
   {
    "duration": 13,
    "start_time": "2022-06-29T15:25:21.771Z"
   },
   {
    "duration": 17,
    "start_time": "2022-06-29T15:25:47.203Z"
   },
   {
    "duration": 47,
    "start_time": "2022-06-29T15:25:57.476Z"
   },
   {
    "duration": 58,
    "start_time": "2022-06-29T15:28:29.772Z"
   },
   {
    "duration": 5,
    "start_time": "2022-06-29T15:29:56.130Z"
   },
   {
    "duration": 824205,
    "start_time": "2022-06-29T15:29:58.011Z"
   },
   {
    "duration": 1677,
    "start_time": "2022-06-29T20:18:40.103Z"
   },
   {
    "duration": 3,
    "start_time": "2022-06-29T20:18:41.783Z"
   },
   {
    "duration": 1407,
    "start_time": "2022-06-29T20:18:41.788Z"
   },
   {
    "duration": 193,
    "start_time": "2022-06-29T20:18:43.197Z"
   },
   {
    "duration": 327,
    "start_time": "2022-06-29T20:18:43.392Z"
   },
   {
    "duration": 12,
    "start_time": "2022-06-29T20:18:43.720Z"
   },
   {
    "duration": 53,
    "start_time": "2022-06-29T20:18:43.734Z"
   },
   {
    "duration": 104,
    "start_time": "2022-06-29T20:18:43.789Z"
   },
   {
    "duration": 4,
    "start_time": "2022-06-29T20:18:43.895Z"
   },
   {
    "duration": 451,
    "start_time": "2022-06-29T20:18:43.902Z"
   },
   {
    "duration": 11,
    "start_time": "2022-06-29T20:18:44.355Z"
   },
   {
    "duration": 79,
    "start_time": "2022-06-29T20:18:44.368Z"
   },
   {
    "duration": 62,
    "start_time": "2022-06-29T20:18:44.449Z"
   },
   {
    "duration": 30,
    "start_time": "2022-06-29T20:18:44.513Z"
   },
   {
    "duration": 10,
    "start_time": "2022-06-29T20:18:44.545Z"
   },
   {
    "duration": 17848,
    "start_time": "2022-06-29T20:18:44.557Z"
   },
   {
    "duration": 13,
    "start_time": "2022-06-29T20:19:02.407Z"
   },
   {
    "duration": 124,
    "start_time": "2022-06-29T20:19:02.429Z"
   },
   {
    "duration": 25,
    "start_time": "2022-06-29T20:19:02.556Z"
   },
   {
    "duration": 31,
    "start_time": "2022-06-29T20:19:02.583Z"
   },
   {
    "duration": 19,
    "start_time": "2022-06-29T20:19:02.615Z"
   },
   {
    "duration": 1460,
    "start_time": "2022-06-29T20:19:02.636Z"
   },
   {
    "duration": 0,
    "start_time": "2022-06-29T20:19:04.098Z"
   },
   {
    "duration": 0,
    "start_time": "2022-06-29T20:19:04.099Z"
   },
   {
    "duration": 0,
    "start_time": "2022-06-29T20:19:04.100Z"
   },
   {
    "duration": 0,
    "start_time": "2022-06-29T20:19:04.101Z"
   },
   {
    "duration": 0,
    "start_time": "2022-06-29T20:19:04.102Z"
   },
   {
    "duration": 1046,
    "start_time": "2022-06-29T20:20:59.039Z"
   },
   {
    "duration": 116,
    "start_time": "2022-06-29T20:21:13.742Z"
   },
   {
    "duration": 1182,
    "start_time": "2022-06-29T20:21:19.149Z"
   },
   {
    "duration": 1378,
    "start_time": "2022-06-29T20:21:44.701Z"
   },
   {
    "duration": 8,
    "start_time": "2022-06-29T20:22:05.793Z"
   },
   {
    "duration": 96,
    "start_time": "2022-06-29T20:22:35.592Z"
   },
   {
    "duration": 42,
    "start_time": "2022-06-29T20:22:41.794Z"
   },
   {
    "duration": 7,
    "start_time": "2022-06-29T20:23:15.444Z"
   },
   {
    "duration": 38,
    "start_time": "2022-06-29T20:23:21.812Z"
   },
   {
    "duration": 17,
    "start_time": "2022-06-29T20:23:31.649Z"
   },
   {
    "duration": 736369,
    "start_time": "2022-06-29T20:23:44.457Z"
   },
   {
    "duration": 26,
    "start_time": "2022-06-29T20:37:13.055Z"
   },
   {
    "duration": 24,
    "start_time": "2022-06-29T20:37:30.874Z"
   },
   {
    "duration": 5,
    "start_time": "2022-06-29T20:37:38.546Z"
   },
   {
    "duration": 29,
    "start_time": "2022-06-29T20:37:59.354Z"
   },
   {
    "duration": 26,
    "start_time": "2022-06-29T20:38:44.698Z"
   },
   {
    "duration": 23,
    "start_time": "2022-06-29T20:38:49.553Z"
   },
   {
    "duration": 98,
    "start_time": "2022-06-29T20:38:58.949Z"
   },
   {
    "duration": 58,
    "start_time": "2022-06-29T20:40:45.414Z"
   },
   {
    "duration": 135,
    "start_time": "2022-06-29T20:41:01.080Z"
   },
   {
    "duration": 83,
    "start_time": "2022-06-29T20:42:08.310Z"
   },
   {
    "duration": 59,
    "start_time": "2022-06-29T20:46:01.388Z"
   },
   {
    "duration": 72,
    "start_time": "2022-06-29T20:46:06.657Z"
   },
   {
    "duration": 217,
    "start_time": "2022-06-29T20:46:16.631Z"
   },
   {
    "duration": 187,
    "start_time": "2022-06-29T20:46:32.875Z"
   },
   {
    "duration": 217,
    "start_time": "2022-06-29T20:46:43.989Z"
   },
   {
    "duration": 211,
    "start_time": "2022-06-29T20:47:38.830Z"
   },
   {
    "duration": 252,
    "start_time": "2022-06-29T20:47:46.658Z"
   },
   {
    "duration": 323,
    "start_time": "2022-06-29T20:47:56.403Z"
   },
   {
    "duration": 252,
    "start_time": "2022-06-29T20:48:05.744Z"
   },
   {
    "duration": 15,
    "start_time": "2022-06-29T20:48:25.243Z"
   },
   {
    "duration": 236,
    "start_time": "2022-06-29T20:48:29.374Z"
   },
   {
    "duration": 243,
    "start_time": "2022-06-29T20:48:35.456Z"
   },
   {
    "duration": 28,
    "start_time": "2022-06-29T20:49:29.849Z"
   },
   {
    "duration": 4,
    "start_time": "2022-06-29T20:49:35.047Z"
   },
   {
    "duration": 2046,
    "start_time": "2022-06-29T20:49:40.687Z"
   },
   {
    "duration": 14,
    "start_time": "2022-06-29T20:52:21.056Z"
   },
   {
    "duration": 23,
    "start_time": "2022-06-29T20:57:32.597Z"
   },
   {
    "duration": 1490,
    "start_time": "2022-06-29T20:59:21.486Z"
   },
   {
    "duration": 3,
    "start_time": "2022-06-29T20:59:22.978Z"
   },
   {
    "duration": 983,
    "start_time": "2022-06-29T20:59:22.983Z"
   },
   {
    "duration": 178,
    "start_time": "2022-06-29T20:59:23.968Z"
   },
   {
    "duration": 7,
    "start_time": "2022-06-29T20:59:24.149Z"
   },
   {
    "duration": 21,
    "start_time": "2022-06-29T20:59:24.158Z"
   },
   {
    "duration": 71,
    "start_time": "2022-06-29T20:59:24.181Z"
   },
   {
    "duration": 208,
    "start_time": "2022-06-29T20:59:24.254Z"
   },
   {
    "duration": 3,
    "start_time": "2022-06-29T20:59:24.464Z"
   },
   {
    "duration": 512,
    "start_time": "2022-06-29T20:59:24.468Z"
   },
   {
    "duration": 15,
    "start_time": "2022-06-29T20:59:24.982Z"
   },
   {
    "duration": 167,
    "start_time": "2022-06-29T20:59:24.998Z"
   },
   {
    "duration": 5,
    "start_time": "2022-06-29T20:59:25.168Z"
   },
   {
    "duration": 832688,
    "start_time": "2022-06-29T20:59:25.175Z"
   },
   {
    "duration": 20,
    "start_time": "2022-06-29T21:13:17.865Z"
   },
   {
    "duration": 167,
    "start_time": "2022-06-29T21:13:17.888Z"
   },
   {
    "duration": 103,
    "start_time": "2022-06-29T21:13:18.058Z"
   },
   {
    "duration": 184,
    "start_time": "2022-06-29T21:13:18.163Z"
   },
   {
    "duration": 79,
    "start_time": "2022-06-29T21:13:18.350Z"
   },
   {
    "duration": 626,
    "start_time": "2022-06-29T21:13:18.431Z"
   },
   {
    "duration": 657,
    "start_time": "2022-06-29T21:13:19.061Z"
   },
   {
    "duration": 59,
    "start_time": "2022-06-29T21:13:19.721Z"
   },
   {
    "duration": 28,
    "start_time": "2022-06-29T21:13:19.782Z"
   },
   {
    "duration": 311,
    "start_time": "2022-06-29T21:13:19.811Z"
   },
   {
    "duration": 23,
    "start_time": "2022-06-29T21:28:49.851Z"
   },
   {
    "duration": 25,
    "start_time": "2022-06-29T21:28:58.874Z"
   },
   {
    "duration": 34,
    "start_time": "2022-06-29T21:29:52.979Z"
   },
   {
    "duration": 41,
    "start_time": "2022-06-29T21:30:13.414Z"
   },
   {
    "duration": 57,
    "start_time": "2022-06-29T21:30:34.608Z"
   },
   {
    "duration": 39,
    "start_time": "2022-06-29T21:30:47.781Z"
   },
   {
    "duration": 102,
    "start_time": "2022-06-29T21:30:49.155Z"
   },
   {
    "duration": 8,
    "start_time": "2022-06-29T21:32:09.311Z"
   },
   {
    "duration": 50,
    "start_time": "2022-06-29T21:34:10.496Z"
   },
   {
    "duration": 38,
    "start_time": "2022-06-29T21:34:57.454Z"
   },
   {
    "duration": 92,
    "start_time": "2022-06-29T21:35:02.447Z"
   },
   {
    "duration": 1400,
    "start_time": "2022-06-29T21:35:11.391Z"
   },
   {
    "duration": 3,
    "start_time": "2022-06-29T21:35:12.793Z"
   },
   {
    "duration": 877,
    "start_time": "2022-06-29T21:35:12.798Z"
   },
   {
    "duration": 165,
    "start_time": "2022-06-29T21:35:13.676Z"
   },
   {
    "duration": 6,
    "start_time": "2022-06-29T21:35:13.844Z"
   },
   {
    "duration": 59,
    "start_time": "2022-06-29T21:35:13.852Z"
   },
   {
    "duration": 79,
    "start_time": "2022-06-29T21:35:13.913Z"
   },
   {
    "duration": 101,
    "start_time": "2022-06-29T21:35:13.995Z"
   },
   {
    "duration": 3,
    "start_time": "2022-06-29T21:35:14.099Z"
   },
   {
    "duration": 454,
    "start_time": "2022-06-29T21:35:14.104Z"
   },
   {
    "duration": 14,
    "start_time": "2022-06-29T21:35:14.559Z"
   },
   {
    "duration": 67,
    "start_time": "2022-06-29T21:35:14.575Z"
   },
   {
    "duration": 6,
    "start_time": "2022-06-29T21:35:14.644Z"
   },
   {
    "duration": 8,
    "start_time": "2022-06-29T21:35:14.653Z"
   },
   {
    "duration": 675118,
    "start_time": "2022-06-29T21:35:14.662Z"
   },
   {
    "duration": 14,
    "start_time": "2022-06-29T21:46:29.781Z"
   },
   {
    "duration": 75,
    "start_time": "2022-06-29T21:46:29.797Z"
   },
   {
    "duration": 28,
    "start_time": "2022-06-29T21:46:29.874Z"
   },
   {
    "duration": 92,
    "start_time": "2022-06-29T21:46:29.904Z"
   },
   {
    "duration": 82,
    "start_time": "2022-06-29T21:46:29.998Z"
   },
   {
    "duration": 130,
    "start_time": "2022-06-29T21:46:30.082Z"
   },
   {
    "duration": 140,
    "start_time": "2022-06-29T21:46:30.214Z"
   },
   {
    "duration": 16,
    "start_time": "2022-06-29T21:46:30.356Z"
   },
   {
    "duration": 193,
    "start_time": "2022-06-29T21:46:30.374Z"
   },
   {
    "duration": 1600,
    "start_time": "2022-07-01T05:58:50.822Z"
   },
   {
    "duration": 2,
    "start_time": "2022-07-01T05:58:53.142Z"
   },
   {
    "duration": 2858,
    "start_time": "2022-07-01T05:58:53.998Z"
   },
   {
    "duration": 126,
    "start_time": "2022-07-01T05:58:58.173Z"
   },
   {
    "duration": 8,
    "start_time": "2022-07-01T05:59:13.830Z"
   },
   {
    "duration": 45,
    "start_time": "2022-07-01T05:59:17.837Z"
   },
   {
    "duration": 43,
    "start_time": "2022-07-01T05:59:28.205Z"
   },
   {
    "duration": 83,
    "start_time": "2022-07-01T05:59:38.644Z"
   },
   {
    "duration": 3,
    "start_time": "2022-07-01T05:59:40.578Z"
   },
   {
    "duration": 439,
    "start_time": "2022-07-01T05:59:43.181Z"
   },
   {
    "duration": 12,
    "start_time": "2022-07-01T06:00:21.108Z"
   },
   {
    "duration": 10,
    "start_time": "2022-07-01T06:00:33.529Z"
   },
   {
    "duration": 11,
    "start_time": "2022-07-01T06:00:47.694Z"
   },
   {
    "duration": 10,
    "start_time": "2022-07-01T06:00:55.311Z"
   },
   {
    "duration": 30,
    "start_time": "2022-07-01T06:01:40.245Z"
   },
   {
    "duration": 6,
    "start_time": "2022-07-01T06:10:00.948Z"
   },
   {
    "duration": 169,
    "start_time": "2022-07-01T06:10:05.581Z"
   },
   {
    "duration": 42,
    "start_time": "2022-07-01T06:10:22.055Z"
   },
   {
    "duration": 23,
    "start_time": "2022-07-01T06:13:09.768Z"
   },
   {
    "duration": 23,
    "start_time": "2022-07-01T06:13:22.651Z"
   },
   {
    "duration": 14,
    "start_time": "2022-07-01T06:13:26.567Z"
   },
   {
    "duration": 4,
    "start_time": "2022-07-01T06:13:39.420Z"
   },
   {
    "duration": 10,
    "start_time": "2022-07-01T06:13:46.322Z"
   },
   {
    "duration": 4,
    "start_time": "2022-07-01T06:14:33.571Z"
   },
   {
    "duration": 81,
    "start_time": "2022-07-01T06:14:58.818Z"
   },
   {
    "duration": 91,
    "start_time": "2022-07-01T06:16:11.564Z"
   },
   {
    "duration": 101,
    "start_time": "2022-07-01T06:16:43.603Z"
   },
   {
    "duration": 107,
    "start_time": "2022-07-01T06:16:49.386Z"
   },
   {
    "duration": 6,
    "start_time": "2022-07-01T06:18:10.226Z"
   },
   {
    "duration": 1421,
    "start_time": "2022-07-01T06:18:48.445Z"
   },
   {
    "duration": 3,
    "start_time": "2022-07-01T06:18:49.868Z"
   },
   {
    "duration": 868,
    "start_time": "2022-07-01T06:18:49.872Z"
   },
   {
    "duration": 148,
    "start_time": "2022-07-01T06:18:50.743Z"
   },
   {
    "duration": 6,
    "start_time": "2022-07-01T06:18:50.893Z"
   },
   {
    "duration": 61,
    "start_time": "2022-07-01T06:18:50.901Z"
   },
   {
    "duration": 47,
    "start_time": "2022-07-01T06:18:50.964Z"
   },
   {
    "duration": 90,
    "start_time": "2022-07-01T06:18:51.013Z"
   },
   {
    "duration": 4,
    "start_time": "2022-07-01T06:18:51.105Z"
   },
   {
    "duration": 481,
    "start_time": "2022-07-01T06:18:51.111Z"
   },
   {
    "duration": 11,
    "start_time": "2022-07-01T06:18:51.594Z"
   },
   {
    "duration": 45,
    "start_time": "2022-07-01T06:18:51.607Z"
   },
   {
    "duration": 5,
    "start_time": "2022-07-01T06:18:51.654Z"
   },
   {
    "duration": 10,
    "start_time": "2022-07-01T06:18:51.661Z"
   },
   {
    "duration": 1582,
    "start_time": "2022-07-01T06:21:05.727Z"
   },
   {
    "duration": 12,
    "start_time": "2022-07-01T06:21:07.312Z"
   },
   {
    "duration": 887,
    "start_time": "2022-07-01T06:21:07.327Z"
   },
   {
    "duration": 137,
    "start_time": "2022-07-01T06:21:08.217Z"
   },
   {
    "duration": 6,
    "start_time": "2022-07-01T06:21:08.356Z"
   },
   {
    "duration": 48,
    "start_time": "2022-07-01T06:21:08.364Z"
   },
   {
    "duration": 65,
    "start_time": "2022-07-01T06:21:08.414Z"
   },
   {
    "duration": 91,
    "start_time": "2022-07-01T06:21:08.481Z"
   },
   {
    "duration": 7,
    "start_time": "2022-07-01T06:21:08.573Z"
   },
   {
    "duration": 440,
    "start_time": "2022-07-01T06:21:08.584Z"
   },
   {
    "duration": 22,
    "start_time": "2022-07-01T06:21:09.026Z"
   },
   {
    "duration": 27,
    "start_time": "2022-07-01T06:21:09.049Z"
   },
   {
    "duration": 120,
    "start_time": "2022-07-01T06:21:57.181Z"
   },
   {
    "duration": 127,
    "start_time": "2022-07-01T06:23:34.481Z"
   },
   {
    "duration": 161,
    "start_time": "2022-07-01T06:23:45.033Z"
   },
   {
    "duration": 6,
    "start_time": "2022-07-01T06:23:52.964Z"
   },
   {
    "duration": 10,
    "start_time": "2022-07-01T06:23:59.427Z"
   },
   {
    "duration": 8,
    "start_time": "2022-07-01T06:24:05.601Z"
   },
   {
    "duration": 1421,
    "start_time": "2022-07-01T06:25:56.000Z"
   },
   {
    "duration": 3,
    "start_time": "2022-07-01T06:25:57.424Z"
   },
   {
    "duration": 820,
    "start_time": "2022-07-01T06:25:57.430Z"
   },
   {
    "duration": 147,
    "start_time": "2022-07-01T06:25:58.252Z"
   },
   {
    "duration": 6,
    "start_time": "2022-07-01T06:25:58.401Z"
   },
   {
    "duration": 62,
    "start_time": "2022-07-01T06:25:58.410Z"
   },
   {
    "duration": 50,
    "start_time": "2022-07-01T06:25:58.474Z"
   },
   {
    "duration": 96,
    "start_time": "2022-07-01T06:25:58.526Z"
   },
   {
    "duration": 4,
    "start_time": "2022-07-01T06:25:58.623Z"
   },
   {
    "duration": 437,
    "start_time": "2022-07-01T06:25:58.629Z"
   },
   {
    "duration": 12,
    "start_time": "2022-07-01T06:25:59.068Z"
   },
   {
    "duration": 27,
    "start_time": "2022-07-01T06:25:59.082Z"
   },
   {
    "duration": 32,
    "start_time": "2022-07-01T06:25:59.110Z"
   },
   {
    "duration": 146,
    "start_time": "2022-07-01T06:25:59.144Z"
   },
   {
    "duration": 6,
    "start_time": "2022-07-01T06:25:59.292Z"
   },
   {
    "duration": 63014,
    "start_time": "2022-07-01T06:25:59.300Z"
   },
   {
    "duration": 0,
    "start_time": "2022-07-01T06:27:02.317Z"
   },
   {
    "duration": 0,
    "start_time": "2022-07-01T06:27:02.318Z"
   },
   {
    "duration": 0,
    "start_time": "2022-07-01T06:27:02.319Z"
   },
   {
    "duration": 0,
    "start_time": "2022-07-01T06:27:02.321Z"
   },
   {
    "duration": 0,
    "start_time": "2022-07-01T06:27:02.322Z"
   },
   {
    "duration": 0,
    "start_time": "2022-07-01T06:27:02.324Z"
   },
   {
    "duration": 0,
    "start_time": "2022-07-01T06:27:02.343Z"
   },
   {
    "duration": 0,
    "start_time": "2022-07-01T06:27:02.344Z"
   },
   {
    "duration": 0,
    "start_time": "2022-07-01T06:27:02.345Z"
   },
   {
    "duration": 0,
    "start_time": "2022-07-01T06:27:02.347Z"
   },
   {
    "duration": 0,
    "start_time": "2022-07-01T06:27:02.352Z"
   },
   {
    "duration": 26,
    "start_time": "2022-07-01T06:27:06.688Z"
   },
   {
    "duration": 797,
    "start_time": "2022-07-01T06:28:14.360Z"
   },
   {
    "duration": 144,
    "start_time": "2022-07-01T06:28:15.160Z"
   },
   {
    "duration": 6,
    "start_time": "2022-07-01T06:28:19.439Z"
   },
   {
    "duration": 39,
    "start_time": "2022-07-01T06:28:19.815Z"
   },
   {
    "duration": 45,
    "start_time": "2022-07-01T06:28:20.286Z"
   },
   {
    "duration": 72,
    "start_time": "2022-07-01T06:28:21.422Z"
   },
   {
    "duration": 3,
    "start_time": "2022-07-01T06:28:23.182Z"
   },
   {
    "duration": 419,
    "start_time": "2022-07-01T06:28:24.271Z"
   },
   {
    "duration": 11,
    "start_time": "2022-07-01T06:28:26.631Z"
   },
   {
    "duration": 20,
    "start_time": "2022-07-01T06:28:27.918Z"
   },
   {
    "duration": 5,
    "start_time": "2022-07-01T06:28:29.647Z"
   },
   {
    "duration": 22,
    "start_time": "2022-07-01T06:28:31.327Z"
   },
   {
    "duration": 810,
    "start_time": "2022-07-01T06:29:16.384Z"
   },
   {
    "duration": 78,
    "start_time": "2022-07-01T06:31:26.233Z"
   },
   {
    "duration": 5,
    "start_time": "2022-07-01T06:34:35.783Z"
   },
   {
    "duration": 633244,
    "start_time": "2022-07-01T06:34:46.413Z"
   },
   {
    "duration": 48,
    "start_time": "2022-07-01T06:45:19.660Z"
   },
   {
    "duration": 32,
    "start_time": "2022-07-01T06:48:26.396Z"
   },
   {
    "duration": 62,
    "start_time": "2022-07-01T06:48:41.394Z"
   },
   {
    "duration": 31,
    "start_time": "2022-07-01T06:51:08.624Z"
   },
   {
    "duration": 22,
    "start_time": "2022-07-01T06:53:29.459Z"
   },
   {
    "duration": 23,
    "start_time": "2022-07-01T06:53:35.482Z"
   },
   {
    "duration": 12,
    "start_time": "2022-07-01T06:54:26.274Z"
   },
   {
    "duration": 18,
    "start_time": "2022-07-01T06:54:32.147Z"
   },
   {
    "duration": 31,
    "start_time": "2022-07-01T06:54:48.377Z"
   },
   {
    "duration": 19,
    "start_time": "2022-07-01T06:55:23.078Z"
   },
   {
    "duration": 21,
    "start_time": "2022-07-01T06:55:35.600Z"
   },
   {
    "duration": 24,
    "start_time": "2022-07-01T06:55:44.906Z"
   },
   {
    "duration": 20,
    "start_time": "2022-07-01T06:55:53.202Z"
   },
   {
    "duration": 18,
    "start_time": "2022-07-01T06:56:18.513Z"
   },
   {
    "duration": 20,
    "start_time": "2022-07-01T06:56:31.298Z"
   },
   {
    "duration": 28,
    "start_time": "2022-07-01T06:56:34.024Z"
   },
   {
    "duration": 19,
    "start_time": "2022-07-01T06:56:36.593Z"
   },
   {
    "duration": 78,
    "start_time": "2022-07-01T06:58:37.697Z"
   },
   {
    "duration": 29,
    "start_time": "2022-07-01T06:58:44.706Z"
   },
   {
    "duration": 26,
    "start_time": "2022-07-01T06:58:56.402Z"
   },
   {
    "duration": 27,
    "start_time": "2022-07-01T07:00:28.466Z"
   },
   {
    "duration": 42,
    "start_time": "2022-07-01T07:01:59.448Z"
   },
   {
    "duration": 48,
    "start_time": "2022-07-01T07:02:20.752Z"
   },
   {
    "duration": 41,
    "start_time": "2022-07-01T07:07:42.602Z"
   },
   {
    "duration": 131,
    "start_time": "2022-07-01T07:08:06.639Z"
   },
   {
    "duration": 133,
    "start_time": "2022-07-01T07:08:11.566Z"
   },
   {
    "duration": 29,
    "start_time": "2022-07-01T07:08:20.798Z"
   },
   {
    "duration": 43,
    "start_time": "2022-07-01T07:08:40.918Z"
   },
   {
    "duration": 42,
    "start_time": "2022-07-01T07:09:17.991Z"
   },
   {
    "duration": 41,
    "start_time": "2022-07-01T07:09:22.126Z"
   },
   {
    "duration": 53,
    "start_time": "2022-07-01T07:09:29.765Z"
   },
   {
    "duration": 38,
    "start_time": "2022-07-01T07:11:14.494Z"
   },
   {
    "duration": 1313,
    "start_time": "2022-07-01T09:59:32.991Z"
   },
   {
    "duration": 3,
    "start_time": "2022-07-01T09:59:34.306Z"
   },
   {
    "duration": 1002,
    "start_time": "2022-07-01T09:59:34.310Z"
   },
   {
    "duration": 118,
    "start_time": "2022-07-01T09:59:35.314Z"
   },
   {
    "duration": 16,
    "start_time": "2022-07-01T09:59:35.435Z"
   },
   {
    "duration": 47,
    "start_time": "2022-07-01T09:59:35.453Z"
   },
   {
    "duration": 50,
    "start_time": "2022-07-01T09:59:35.501Z"
   },
   {
    "duration": 76,
    "start_time": "2022-07-01T09:59:35.553Z"
   },
   {
    "duration": 3,
    "start_time": "2022-07-01T09:59:35.631Z"
   },
   {
    "duration": 363,
    "start_time": "2022-07-01T09:59:35.651Z"
   },
   {
    "duration": 10,
    "start_time": "2022-07-01T09:59:36.015Z"
   },
   {
    "duration": 37,
    "start_time": "2022-07-01T09:59:36.027Z"
   },
   {
    "duration": 5,
    "start_time": "2022-07-01T09:59:36.065Z"
   },
   {
    "duration": 523744,
    "start_time": "2022-07-01T09:59:36.071Z"
   },
   {
    "duration": 56,
    "start_time": "2022-07-01T10:08:19.817Z"
   },
   {
    "duration": 24,
    "start_time": "2022-07-01T10:08:19.874Z"
   },
   {
    "duration": 133,
    "start_time": "2022-07-01T10:08:19.899Z"
   },
   {
    "duration": 0,
    "start_time": "2022-07-01T10:08:20.034Z"
   },
   {
    "duration": 0,
    "start_time": "2022-07-01T10:08:20.035Z"
   },
   {
    "duration": 0,
    "start_time": "2022-07-01T10:08:20.035Z"
   },
   {
    "duration": 0,
    "start_time": "2022-07-01T10:08:20.036Z"
   },
   {
    "duration": 0,
    "start_time": "2022-07-01T10:08:20.037Z"
   },
   {
    "duration": 0,
    "start_time": "2022-07-01T10:08:20.038Z"
   },
   {
    "duration": 0,
    "start_time": "2022-07-01T10:08:20.051Z"
   },
   {
    "duration": 0,
    "start_time": "2022-07-01T10:08:20.052Z"
   },
   {
    "duration": 1647,
    "start_time": "2022-07-01T12:16:50.441Z"
   },
   {
    "duration": 3,
    "start_time": "2022-07-01T12:16:52.090Z"
   },
   {
    "duration": 1182,
    "start_time": "2022-07-01T12:16:52.094Z"
   },
   {
    "duration": 167,
    "start_time": "2022-07-01T12:16:53.278Z"
   },
   {
    "duration": 5,
    "start_time": "2022-07-01T12:16:53.447Z"
   },
   {
    "duration": 59,
    "start_time": "2022-07-01T12:16:53.454Z"
   },
   {
    "duration": 59,
    "start_time": "2022-07-01T12:16:53.515Z"
   },
   {
    "duration": 98,
    "start_time": "2022-07-01T12:16:53.576Z"
   },
   {
    "duration": 3,
    "start_time": "2022-07-01T12:16:53.676Z"
   },
   {
    "duration": 439,
    "start_time": "2022-07-01T12:16:53.681Z"
   },
   {
    "duration": 19,
    "start_time": "2022-07-01T12:16:54.127Z"
   },
   {
    "duration": 25,
    "start_time": "2022-07-01T12:16:54.148Z"
   },
   {
    "duration": 7,
    "start_time": "2022-07-01T12:16:54.175Z"
   },
   {
    "duration": 659148,
    "start_time": "2022-07-01T12:16:54.185Z"
   },
   {
    "duration": 52,
    "start_time": "2022-07-01T12:27:53.337Z"
   },
   {
    "duration": 26,
    "start_time": "2022-07-01T12:27:53.390Z"
   },
   {
    "duration": 179,
    "start_time": "2022-07-01T12:27:53.418Z"
   },
   {
    "duration": 0,
    "start_time": "2022-07-01T12:27:53.599Z"
   },
   {
    "duration": 0,
    "start_time": "2022-07-01T12:27:53.600Z"
   },
   {
    "duration": 0,
    "start_time": "2022-07-01T12:27:53.602Z"
   },
   {
    "duration": 0,
    "start_time": "2022-07-01T12:27:53.604Z"
   },
   {
    "duration": 0,
    "start_time": "2022-07-01T12:27:53.605Z"
   },
   {
    "duration": 0,
    "start_time": "2022-07-01T12:27:53.606Z"
   },
   {
    "duration": 0,
    "start_time": "2022-07-01T12:27:53.608Z"
   },
   {
    "duration": 0,
    "start_time": "2022-07-01T12:27:53.609Z"
   },
   {
    "duration": 45,
    "start_time": "2022-07-01T12:29:42.075Z"
   },
   {
    "duration": 52,
    "start_time": "2022-07-01T12:32:40.067Z"
   },
   {
    "duration": 34,
    "start_time": "2022-07-01T12:32:59.290Z"
   },
   {
    "duration": 35,
    "start_time": "2022-07-01T12:33:41.522Z"
   },
   {
    "duration": 17,
    "start_time": "2022-07-01T12:34:10.763Z"
   },
   {
    "duration": 79,
    "start_time": "2022-07-01T12:34:58.667Z"
   },
   {
    "duration": 67,
    "start_time": "2022-07-01T12:35:06.966Z"
   },
   {
    "duration": 27,
    "start_time": "2022-07-01T12:37:47.090Z"
   },
   {
    "duration": 23,
    "start_time": "2022-07-01T12:39:43.434Z"
   },
   {
    "duration": 48,
    "start_time": "2022-07-01T12:40:15.634Z"
   },
   {
    "duration": 25,
    "start_time": "2022-07-01T12:40:19.089Z"
   },
   {
    "duration": 1290,
    "start_time": "2022-07-01T12:40:33.362Z"
   },
   {
    "duration": 26,
    "start_time": "2022-07-01T12:41:59.017Z"
   },
   {
    "duration": 19,
    "start_time": "2022-07-01T12:42:12.363Z"
   },
   {
    "duration": 61,
    "start_time": "2022-07-01T12:43:33.931Z"
   },
   {
    "duration": 21,
    "start_time": "2022-07-01T12:43:43.905Z"
   },
   {
    "duration": 20,
    "start_time": "2022-07-01T12:44:07.794Z"
   },
   {
    "duration": 31,
    "start_time": "2022-07-01T12:44:44.067Z"
   },
   {
    "duration": 31,
    "start_time": "2022-07-01T12:44:58.245Z"
   },
   {
    "duration": 42,
    "start_time": "2022-07-01T12:45:05.194Z"
   },
   {
    "duration": 842,
    "start_time": "2022-07-01T12:45:12.834Z"
   },
   {
    "duration": 40,
    "start_time": "2022-07-01T12:45:24.713Z"
   },
   {
    "duration": 15,
    "start_time": "2022-07-01T12:45:39.375Z"
   },
   {
    "duration": 35,
    "start_time": "2022-07-01T12:46:28.146Z"
   },
   {
    "duration": 48,
    "start_time": "2022-07-01T12:46:59.763Z"
   },
   {
    "duration": 102,
    "start_time": "2022-07-01T12:47:09.201Z"
   },
   {
    "duration": 15,
    "start_time": "2022-07-01T12:47:47.784Z"
   },
   {
    "duration": 32,
    "start_time": "2022-07-01T12:47:50.188Z"
   },
   {
    "duration": 1462,
    "start_time": "2022-07-01T12:49:44.624Z"
   },
   {
    "duration": 3,
    "start_time": "2022-07-01T12:50:00.081Z"
   },
   {
    "duration": 8,
    "start_time": "2022-07-01T12:50:04.784Z"
   },
   {
    "duration": 18,
    "start_time": "2022-07-01T12:50:09.666Z"
   },
   {
    "duration": 53,
    "start_time": "2022-07-01T12:50:26.863Z"
   },
   {
    "duration": 91,
    "start_time": "2022-07-01T12:50:29.963Z"
   },
   {
    "duration": 11,
    "start_time": "2022-07-01T12:51:20.215Z"
   },
   {
    "duration": 42,
    "start_time": "2022-07-01T12:51:26.474Z"
   },
   {
    "duration": 16,
    "start_time": "2022-07-01T12:51:31.335Z"
   },
   {
    "duration": 13,
    "start_time": "2022-07-01T12:51:52.399Z"
   },
   {
    "duration": 77,
    "start_time": "2022-07-01T12:52:12.837Z"
   },
   {
    "duration": 12,
    "start_time": "2022-07-01T12:52:17.728Z"
   },
   {
    "duration": 35,
    "start_time": "2022-07-01T12:52:22.783Z"
   },
   {
    "duration": 66,
    "start_time": "2022-07-01T12:52:26.831Z"
   },
   {
    "duration": 7,
    "start_time": "2022-07-01T12:52:44.089Z"
   },
   {
    "duration": 57,
    "start_time": "2022-07-01T12:52:45.784Z"
   },
   {
    "duration": 45,
    "start_time": "2022-07-01T12:54:25.759Z"
   },
   {
    "duration": 55,
    "start_time": "2022-07-01T12:54:36.347Z"
   },
   {
    "duration": 65,
    "start_time": "2022-07-01T12:57:04.928Z"
   },
   {
    "duration": 70,
    "start_time": "2022-07-01T12:57:59.517Z"
   },
   {
    "duration": 35,
    "start_time": "2022-07-01T12:58:08.173Z"
   },
   {
    "duration": 59,
    "start_time": "2022-07-01T12:58:15.606Z"
   },
   {
    "duration": 37,
    "start_time": "2022-07-01T12:58:28.877Z"
   },
   {
    "duration": 83,
    "start_time": "2022-07-01T12:58:33.414Z"
   },
   {
    "duration": 38,
    "start_time": "2022-07-01T12:58:36.672Z"
   },
   {
    "duration": 56,
    "start_time": "2022-07-01T13:00:38.295Z"
   },
   {
    "duration": 118,
    "start_time": "2022-07-01T13:01:28.822Z"
   },
   {
    "duration": 92,
    "start_time": "2022-07-01T13:02:14.893Z"
   },
   {
    "duration": 121,
    "start_time": "2022-07-01T13:02:21.576Z"
   },
   {
    "duration": 86,
    "start_time": "2022-07-01T13:02:29.495Z"
   },
   {
    "duration": 5,
    "start_time": "2022-07-01T13:04:24.079Z"
   },
   {
    "duration": 120,
    "start_time": "2022-07-01T13:04:26.441Z"
   },
   {
    "duration": 9,
    "start_time": "2022-07-01T13:04:50.949Z"
   },
   {
    "duration": 100,
    "start_time": "2022-07-01T13:04:52.860Z"
   },
   {
    "duration": 6,
    "start_time": "2022-07-01T13:06:18.676Z"
   },
   {
    "duration": 98,
    "start_time": "2022-07-01T13:06:19.847Z"
   },
   {
    "duration": 6,
    "start_time": "2022-07-01T13:06:36.518Z"
   },
   {
    "duration": 92,
    "start_time": "2022-07-01T13:06:37.700Z"
   },
   {
    "duration": 100,
    "start_time": "2022-07-01T13:07:02.449Z"
   },
   {
    "duration": 9,
    "start_time": "2022-07-01T13:07:13.094Z"
   },
   {
    "duration": 104,
    "start_time": "2022-07-01T13:07:14.229Z"
   },
   {
    "duration": 1378,
    "start_time": "2022-07-01T13:11:50.907Z"
   },
   {
    "duration": 5,
    "start_time": "2022-07-01T13:11:52.287Z"
   },
   {
    "duration": 1329,
    "start_time": "2022-07-01T13:11:52.293Z"
   },
   {
    "duration": 182,
    "start_time": "2022-07-01T13:11:53.625Z"
   },
   {
    "duration": 24,
    "start_time": "2022-07-01T13:11:53.810Z"
   },
   {
    "duration": 55,
    "start_time": "2022-07-01T13:11:53.844Z"
   },
   {
    "duration": 58,
    "start_time": "2022-07-01T13:11:53.901Z"
   },
   {
    "duration": 103,
    "start_time": "2022-07-01T13:11:53.961Z"
   },
   {
    "duration": 4,
    "start_time": "2022-07-01T13:11:54.065Z"
   },
   {
    "duration": 474,
    "start_time": "2022-07-01T13:11:54.070Z"
   },
   {
    "duration": 13,
    "start_time": "2022-07-01T13:11:54.547Z"
   },
   {
    "duration": 27,
    "start_time": "2022-07-01T13:11:54.562Z"
   },
   {
    "duration": 6,
    "start_time": "2022-07-01T13:11:54.591Z"
   },
   {
    "duration": 1426,
    "start_time": "2022-07-01T13:34:06.366Z"
   },
   {
    "duration": 3,
    "start_time": "2022-07-01T13:34:07.794Z"
   },
   {
    "duration": 939,
    "start_time": "2022-07-01T13:34:07.798Z"
   },
   {
    "duration": 182,
    "start_time": "2022-07-01T13:34:08.744Z"
   },
   {
    "duration": 12,
    "start_time": "2022-07-01T13:34:08.932Z"
   },
   {
    "duration": 66,
    "start_time": "2022-07-01T13:34:08.948Z"
   },
   {
    "duration": 77,
    "start_time": "2022-07-01T13:34:09.016Z"
   },
   {
    "duration": 104,
    "start_time": "2022-07-01T13:34:09.095Z"
   },
   {
    "duration": 3,
    "start_time": "2022-07-01T13:34:09.201Z"
   },
   {
    "duration": 478,
    "start_time": "2022-07-01T13:34:09.205Z"
   },
   {
    "duration": 12,
    "start_time": "2022-07-01T13:34:09.685Z"
   },
   {
    "duration": 52,
    "start_time": "2022-07-01T13:34:09.699Z"
   },
   {
    "duration": 17,
    "start_time": "2022-07-01T13:34:09.753Z"
   },
   {
    "duration": 1669899,
    "start_time": "2022-07-01T13:34:09.774Z"
   },
   {
    "duration": 60,
    "start_time": "2022-07-01T14:01:59.676Z"
   },
   {
    "duration": 36,
    "start_time": "2022-07-01T14:01:59.741Z"
   },
   {
    "duration": 125,
    "start_time": "2022-07-01T14:01:59.778Z"
   },
   {
    "duration": 0,
    "start_time": "2022-07-01T14:01:59.905Z"
   },
   {
    "duration": 0,
    "start_time": "2022-07-01T14:01:59.906Z"
   },
   {
    "duration": 0,
    "start_time": "2022-07-01T14:01:59.908Z"
   },
   {
    "duration": 0,
    "start_time": "2022-07-01T14:01:59.909Z"
   },
   {
    "duration": 0,
    "start_time": "2022-07-01T14:01:59.909Z"
   },
   {
    "duration": 0,
    "start_time": "2022-07-01T14:01:59.927Z"
   },
   {
    "duration": 0,
    "start_time": "2022-07-01T14:01:59.928Z"
   },
   {
    "duration": 0,
    "start_time": "2022-07-01T14:01:59.930Z"
   },
   {
    "duration": 1532,
    "start_time": "2022-07-01T17:23:06.489Z"
   },
   {
    "duration": 2,
    "start_time": "2022-07-01T17:23:08.024Z"
   },
   {
    "duration": 2783,
    "start_time": "2022-07-01T17:23:08.028Z"
   },
   {
    "duration": 127,
    "start_time": "2022-07-01T17:23:10.813Z"
   },
   {
    "duration": 5,
    "start_time": "2022-07-01T17:23:10.942Z"
   },
   {
    "duration": 68,
    "start_time": "2022-07-01T17:23:10.949Z"
   },
   {
    "duration": 51,
    "start_time": "2022-07-01T17:23:11.029Z"
   },
   {
    "duration": 90,
    "start_time": "2022-07-01T17:23:11.081Z"
   },
   {
    "duration": 3,
    "start_time": "2022-07-01T17:23:11.174Z"
   },
   {
    "duration": 375,
    "start_time": "2022-07-01T17:23:11.180Z"
   },
   {
    "duration": 11,
    "start_time": "2022-07-01T17:23:11.556Z"
   },
   {
    "duration": 24,
    "start_time": "2022-07-01T17:23:11.568Z"
   },
   {
    "duration": 6,
    "start_time": "2022-07-01T17:23:11.593Z"
   },
   {
    "duration": 1295452,
    "start_time": "2022-07-01T17:23:11.600Z"
   },
   {
    "duration": 49,
    "start_time": "2022-07-01T17:44:47.054Z"
   },
   {
    "duration": 37,
    "start_time": "2022-07-01T17:44:47.104Z"
   },
   {
    "duration": 135,
    "start_time": "2022-07-01T17:44:47.143Z"
   },
   {
    "duration": 0,
    "start_time": "2022-07-01T17:44:47.280Z"
   },
   {
    "duration": 0,
    "start_time": "2022-07-01T17:44:47.281Z"
   },
   {
    "duration": 0,
    "start_time": "2022-07-01T17:44:47.283Z"
   },
   {
    "duration": 0,
    "start_time": "2022-07-01T17:44:47.284Z"
   },
   {
    "duration": 0,
    "start_time": "2022-07-01T17:44:47.284Z"
   },
   {
    "duration": 0,
    "start_time": "2022-07-01T17:44:47.285Z"
   },
   {
    "duration": 0,
    "start_time": "2022-07-01T17:44:47.286Z"
   },
   {
    "duration": 0,
    "start_time": "2022-07-01T17:44:47.288Z"
   },
   {
    "duration": 18,
    "start_time": "2022-07-01T17:51:26.952Z"
   },
   {
    "duration": 20,
    "start_time": "2022-07-01T17:51:43.360Z"
   },
   {
    "duration": 20,
    "start_time": "2022-07-01T17:55:56.697Z"
   },
   {
    "duration": 26,
    "start_time": "2022-07-01T18:10:28.876Z"
   },
   {
    "duration": 29,
    "start_time": "2022-07-01T18:10:53.264Z"
   },
   {
    "duration": 22,
    "start_time": "2022-07-01T18:11:18.907Z"
   },
   {
    "duration": 28,
    "start_time": "2022-07-01T18:11:26.385Z"
   },
   {
    "duration": 19,
    "start_time": "2022-07-01T18:11:31.816Z"
   },
   {
    "duration": 19,
    "start_time": "2022-07-01T18:11:36.897Z"
   },
   {
    "duration": 80,
    "start_time": "2022-07-01T18:12:13.784Z"
   },
   {
    "duration": 20,
    "start_time": "2022-07-01T18:12:22.592Z"
   },
   {
    "duration": 20,
    "start_time": "2022-07-01T18:16:13.443Z"
   },
   {
    "duration": 36,
    "start_time": "2022-07-01T18:19:11.055Z"
   },
   {
    "duration": 16,
    "start_time": "2022-07-01T18:19:58.921Z"
   },
   {
    "duration": 46,
    "start_time": "2022-07-01T18:21:02.793Z"
   },
   {
    "duration": 42,
    "start_time": "2022-07-01T18:21:58.759Z"
   },
   {
    "duration": 47,
    "start_time": "2022-07-01T18:22:02.431Z"
   },
   {
    "duration": 12,
    "start_time": "2022-07-01T18:32:01.959Z"
   },
   {
    "duration": 13,
    "start_time": "2022-07-01T18:34:56.132Z"
   },
   {
    "duration": 19,
    "start_time": "2022-07-01T18:35:07.486Z"
   },
   {
    "duration": 12,
    "start_time": "2022-07-01T18:35:12.178Z"
   },
   {
    "duration": 12,
    "start_time": "2022-07-01T18:35:36.233Z"
   },
   {
    "duration": 13,
    "start_time": "2022-07-01T18:35:44.851Z"
   },
   {
    "duration": 13,
    "start_time": "2022-07-01T18:35:48.040Z"
   },
   {
    "duration": 5,
    "start_time": "2022-07-01T18:35:54.239Z"
   },
   {
    "duration": 18,
    "start_time": "2022-07-01T18:36:52.505Z"
   },
   {
    "duration": 10,
    "start_time": "2022-07-01T18:37:14.190Z"
   },
   {
    "duration": 9,
    "start_time": "2022-07-01T18:37:23.231Z"
   },
   {
    "duration": 4,
    "start_time": "2022-07-01T18:37:29.058Z"
   },
   {
    "duration": 732,
    "start_time": "2022-07-01T18:37:39.035Z"
   },
   {
    "duration": 11,
    "start_time": "2022-07-01T18:42:39.161Z"
   },
   {
    "duration": 1364,
    "start_time": "2022-07-01T18:42:46.730Z"
   },
   {
    "duration": 2,
    "start_time": "2022-07-01T18:42:48.096Z"
   },
   {
    "duration": 809,
    "start_time": "2022-07-01T18:42:48.100Z"
   },
   {
    "duration": 140,
    "start_time": "2022-07-01T18:42:48.912Z"
   },
   {
    "duration": 5,
    "start_time": "2022-07-01T18:42:49.054Z"
   },
   {
    "duration": 50,
    "start_time": "2022-07-01T18:42:49.061Z"
   },
   {
    "duration": 51,
    "start_time": "2022-07-01T18:42:49.129Z"
   },
   {
    "duration": 96,
    "start_time": "2022-07-01T18:42:49.182Z"
   },
   {
    "duration": 3,
    "start_time": "2022-07-01T18:42:49.280Z"
   },
   {
    "duration": 391,
    "start_time": "2022-07-01T18:42:49.287Z"
   },
   {
    "duration": 12,
    "start_time": "2022-07-01T18:42:49.680Z"
   },
   {
    "duration": 45,
    "start_time": "2022-07-01T18:42:49.694Z"
   },
   {
    "duration": 6,
    "start_time": "2022-07-01T18:42:49.741Z"
   },
   {
    "duration": 1303,
    "start_time": "2022-07-01T18:45:24.562Z"
   },
   {
    "duration": 3,
    "start_time": "2022-07-01T18:45:25.868Z"
   },
   {
    "duration": 809,
    "start_time": "2022-07-01T18:45:25.872Z"
   },
   {
    "duration": 130,
    "start_time": "2022-07-01T18:45:26.683Z"
   },
   {
    "duration": 13,
    "start_time": "2022-07-01T18:45:26.816Z"
   },
   {
    "duration": 55,
    "start_time": "2022-07-01T18:45:26.831Z"
   },
   {
    "duration": 63,
    "start_time": "2022-07-01T18:45:26.888Z"
   },
   {
    "duration": 85,
    "start_time": "2022-07-01T18:45:26.953Z"
   },
   {
    "duration": 4,
    "start_time": "2022-07-01T18:45:27.040Z"
   },
   {
    "duration": 424,
    "start_time": "2022-07-01T18:45:27.048Z"
   },
   {
    "duration": 11,
    "start_time": "2022-07-01T18:45:27.473Z"
   },
   {
    "duration": 26,
    "start_time": "2022-07-01T18:45:27.486Z"
   },
   {
    "duration": 16,
    "start_time": "2022-07-01T18:45:27.514Z"
   },
   {
    "duration": 1435381,
    "start_time": "2022-07-01T18:45:27.531Z"
   },
   {
    "duration": 55,
    "start_time": "2022-07-01T19:09:22.914Z"
   },
   {
    "duration": 25,
    "start_time": "2022-07-01T19:09:22.970Z"
   },
   {
    "duration": 51,
    "start_time": "2022-07-01T19:09:22.997Z"
   },
   {
    "duration": 42,
    "start_time": "2022-07-01T19:09:23.050Z"
   },
   {
    "duration": 63,
    "start_time": "2022-07-01T19:09:23.093Z"
   },
   {
    "duration": 18,
    "start_time": "2022-07-01T19:09:23.158Z"
   },
   {
    "duration": 18,
    "start_time": "2022-07-01T19:09:23.177Z"
   },
   {
    "duration": 32,
    "start_time": "2022-07-01T19:09:23.197Z"
   },
   {
    "duration": 25,
    "start_time": "2022-07-01T19:09:23.231Z"
   },
   {
    "duration": 72,
    "start_time": "2022-07-01T19:09:23.257Z"
   },
   {
    "duration": 58,
    "start_time": "2022-07-01T19:09:23.331Z"
   },
   {
    "duration": 131,
    "start_time": "2022-07-01T19:09:23.391Z"
   },
   {
    "duration": 169,
    "start_time": "2022-07-01T19:09:23.524Z"
   },
   {
    "duration": 16,
    "start_time": "2022-07-01T19:09:23.696Z"
   },
   {
    "duration": 190,
    "start_time": "2022-07-01T19:09:23.714Z"
   },
   {
    "duration": 11,
    "start_time": "2022-07-01T20:08:37.981Z"
   },
   {
    "duration": 15,
    "start_time": "2022-07-01T20:08:43.109Z"
   },
   {
    "duration": 20,
    "start_time": "2022-07-01T20:08:59.469Z"
   },
   {
    "duration": 4,
    "start_time": "2022-07-01T20:09:15.325Z"
   },
   {
    "duration": 15,
    "start_time": "2022-07-01T20:09:19.550Z"
   },
   {
    "duration": 191,
    "start_time": "2022-07-01T20:09:25.583Z"
   },
   {
    "duration": 11,
    "start_time": "2022-07-01T20:09:34.946Z"
   },
   {
    "duration": 10,
    "start_time": "2022-07-01T20:09:49.869Z"
   },
   {
    "duration": 10,
    "start_time": "2022-07-01T20:10:12.776Z"
   },
   {
    "duration": 13,
    "start_time": "2022-07-01T20:10:18.179Z"
   },
   {
    "duration": 19,
    "start_time": "2022-07-01T20:10:22.841Z"
   },
   {
    "duration": 11,
    "start_time": "2022-07-01T20:11:03.684Z"
   },
   {
    "duration": 19,
    "start_time": "2022-07-01T20:14:58.879Z"
   },
   {
    "duration": 111,
    "start_time": "2022-07-01T20:18:05.649Z"
   },
   {
    "duration": 15,
    "start_time": "2022-07-01T20:30:56.880Z"
   },
   {
    "duration": 14,
    "start_time": "2022-07-01T20:32:01.636Z"
   },
   {
    "duration": 12,
    "start_time": "2022-07-01T20:32:10.879Z"
   },
   {
    "duration": 358,
    "start_time": "2022-07-01T20:32:16.251Z"
   },
   {
    "duration": 589,
    "start_time": "2022-07-01T20:32:46.387Z"
   },
   {
    "duration": 17,
    "start_time": "2022-07-01T20:32:47.278Z"
   },
   {
    "duration": 54,
    "start_time": "2022-07-01T20:32:51.344Z"
   },
   {
    "duration": 16,
    "start_time": "2022-07-01T20:33:11.100Z"
   },
   {
    "duration": 586,
    "start_time": "2022-07-01T20:34:59.096Z"
   },
   {
    "duration": 34072,
    "start_time": "2022-07-01T20:35:02.710Z"
   },
   {
    "duration": 1372,
    "start_time": "2022-07-01T20:42:39.551Z"
   },
   {
    "duration": 2,
    "start_time": "2022-07-01T20:42:40.925Z"
   },
   {
    "duration": 752,
    "start_time": "2022-07-01T20:42:40.928Z"
   },
   {
    "duration": 148,
    "start_time": "2022-07-01T20:42:41.682Z"
   },
   {
    "duration": 8,
    "start_time": "2022-07-01T20:42:41.838Z"
   },
   {
    "duration": 53,
    "start_time": "2022-07-01T20:42:41.848Z"
   },
   {
    "duration": 59,
    "start_time": "2022-07-01T20:42:41.903Z"
   },
   {
    "duration": 6,
    "start_time": "2022-07-01T20:42:41.964Z"
   },
   {
    "duration": 409,
    "start_time": "2022-07-01T20:42:41.972Z"
   },
   {
    "duration": 12,
    "start_time": "2022-07-01T20:42:42.383Z"
   },
   {
    "duration": 52,
    "start_time": "2022-07-01T20:42:42.396Z"
   },
   {
    "duration": 5,
    "start_time": "2022-07-01T20:42:42.450Z"
   },
   {
    "duration": 20957,
    "start_time": "2022-07-01T20:42:42.457Z"
   },
   {
    "duration": 26,
    "start_time": "2022-07-01T20:43:03.417Z"
   },
   {
    "duration": 73,
    "start_time": "2022-07-01T20:43:03.445Z"
   },
   {
    "duration": 49,
    "start_time": "2022-07-01T20:43:03.520Z"
   },
   {
    "duration": 75,
    "start_time": "2022-07-01T20:43:03.572Z"
   },
   {
    "duration": 117,
    "start_time": "2022-07-01T20:43:03.650Z"
   },
   {
    "duration": 19,
    "start_time": "2022-07-01T20:43:03.769Z"
   },
   {
    "duration": 56,
    "start_time": "2022-07-01T20:43:03.790Z"
   },
   {
    "duration": 59,
    "start_time": "2022-07-01T20:43:03.847Z"
   },
   {
    "duration": 83,
    "start_time": "2022-07-01T20:43:03.907Z"
   },
   {
    "duration": 150,
    "start_time": "2022-07-01T20:43:03.996Z"
   },
   {
    "duration": 177,
    "start_time": "2022-07-01T20:43:04.148Z"
   },
   {
    "duration": 714,
    "start_time": "2022-07-01T20:43:04.327Z"
   },
   {
    "duration": 0,
    "start_time": "2022-07-01T20:43:05.043Z"
   },
   {
    "duration": 136,
    "start_time": "2022-07-01T20:49:25.668Z"
   },
   {
    "duration": 6,
    "start_time": "2022-07-01T20:49:58.089Z"
   },
   {
    "duration": 1,
    "start_time": "2022-07-01T20:50:38.716Z"
   },
   {
    "duration": 0,
    "start_time": "2022-07-01T20:50:38.717Z"
   },
   {
    "duration": 0,
    "start_time": "2022-07-01T20:50:38.719Z"
   },
   {
    "duration": 0,
    "start_time": "2022-07-01T20:50:38.729Z"
   },
   {
    "duration": 0,
    "start_time": "2022-07-01T20:50:38.730Z"
   },
   {
    "duration": 0,
    "start_time": "2022-07-01T20:50:38.730Z"
   },
   {
    "duration": 0,
    "start_time": "2022-07-01T20:50:38.731Z"
   },
   {
    "duration": 0,
    "start_time": "2022-07-01T20:50:38.732Z"
   },
   {
    "duration": 0,
    "start_time": "2022-07-01T20:50:38.733Z"
   },
   {
    "duration": 0,
    "start_time": "2022-07-01T20:50:38.733Z"
   },
   {
    "duration": 0,
    "start_time": "2022-07-01T20:50:38.734Z"
   },
   {
    "duration": 0,
    "start_time": "2022-07-01T20:50:38.735Z"
   },
   {
    "duration": 0,
    "start_time": "2022-07-01T20:50:38.735Z"
   },
   {
    "duration": 0,
    "start_time": "2022-07-01T20:50:38.736Z"
   },
   {
    "duration": 0,
    "start_time": "2022-07-01T20:50:38.737Z"
   },
   {
    "duration": 0,
    "start_time": "2022-07-01T20:50:38.738Z"
   },
   {
    "duration": 0,
    "start_time": "2022-07-01T20:50:38.738Z"
   },
   {
    "duration": 0,
    "start_time": "2022-07-01T20:50:38.739Z"
   },
   {
    "duration": 0,
    "start_time": "2022-07-01T20:50:38.740Z"
   },
   {
    "duration": 0,
    "start_time": "2022-07-01T20:50:38.740Z"
   },
   {
    "duration": 0,
    "start_time": "2022-07-01T20:50:38.741Z"
   },
   {
    "duration": 0,
    "start_time": "2022-07-01T20:50:38.742Z"
   },
   {
    "duration": 0,
    "start_time": "2022-07-01T20:50:38.742Z"
   },
   {
    "duration": 0,
    "start_time": "2022-07-01T20:50:38.743Z"
   },
   {
    "duration": 0,
    "start_time": "2022-07-01T20:50:38.744Z"
   },
   {
    "duration": 0,
    "start_time": "2022-07-01T20:50:38.744Z"
   },
   {
    "duration": 1335,
    "start_time": "2022-07-01T20:52:37.614Z"
   },
   {
    "duration": 2,
    "start_time": "2022-07-01T20:52:38.951Z"
   },
   {
    "duration": 786,
    "start_time": "2022-07-01T20:52:38.955Z"
   },
   {
    "duration": 133,
    "start_time": "2022-07-01T20:52:39.747Z"
   },
   {
    "duration": 6,
    "start_time": "2022-07-01T20:52:39.883Z"
   },
   {
    "duration": 66,
    "start_time": "2022-07-01T20:52:39.890Z"
   },
   {
    "duration": 47,
    "start_time": "2022-07-01T20:52:39.958Z"
   },
   {
    "duration": 2,
    "start_time": "2022-07-01T20:52:40.007Z"
   },
   {
    "duration": 431,
    "start_time": "2022-07-01T20:52:40.011Z"
   },
   {
    "duration": 12,
    "start_time": "2022-07-01T20:52:40.444Z"
   },
   {
    "duration": 33,
    "start_time": "2022-07-01T20:52:40.458Z"
   },
   {
    "duration": 7,
    "start_time": "2022-07-01T20:52:40.492Z"
   },
   {
    "duration": 21492,
    "start_time": "2022-07-01T20:52:40.501Z"
   },
   {
    "duration": 15,
    "start_time": "2022-07-01T20:53:01.995Z"
   },
   {
    "duration": 83,
    "start_time": "2022-07-01T20:53:02.011Z"
   },
   {
    "duration": 53,
    "start_time": "2022-07-01T20:53:02.095Z"
   },
   {
    "duration": 51,
    "start_time": "2022-07-01T20:53:02.149Z"
   },
   {
    "duration": 76,
    "start_time": "2022-07-01T20:53:02.202Z"
   },
   {
    "duration": 18,
    "start_time": "2022-07-01T20:53:02.280Z"
   },
   {
    "duration": 60,
    "start_time": "2022-07-01T20:53:02.301Z"
   },
   {
    "duration": 63,
    "start_time": "2022-07-01T20:53:02.363Z"
   },
   {
    "duration": 70,
    "start_time": "2022-07-01T20:53:02.429Z"
   },
   {
    "duration": 148,
    "start_time": "2022-07-01T20:53:02.500Z"
   },
   {
    "duration": 172,
    "start_time": "2022-07-01T20:53:02.650Z"
   },
   {
    "duration": 585,
    "start_time": "2022-07-01T20:53:02.824Z"
   },
   {
    "duration": 0,
    "start_time": "2022-07-01T20:53:03.411Z"
   },
   {
    "duration": 542,
    "start_time": "2022-07-01T20:54:10.968Z"
   },
   {
    "duration": 95,
    "start_time": "2022-07-01T20:54:18.713Z"
   },
   {
    "duration": 496,
    "start_time": "2022-07-01T20:54:42.493Z"
   },
   {
    "duration": 74,
    "start_time": "2022-07-01T20:54:43.770Z"
   },
   {
    "duration": 27,
    "start_time": "2022-07-01T20:56:37.757Z"
   },
   {
    "duration": 1624,
    "start_time": "2022-07-01T20:57:28.180Z"
   },
   {
    "duration": 2174,
    "start_time": "2022-07-01T20:57:49.381Z"
   },
   {
    "duration": 18,
    "start_time": "2022-07-01T21:01:55.040Z"
   },
   {
    "duration": 20,
    "start_time": "2022-07-01T21:02:04.780Z"
   },
   {
    "duration": 113,
    "start_time": "2022-07-01T21:02:19.843Z"
   },
   {
    "duration": 482,
    "start_time": "2022-07-01T21:06:17.206Z"
   },
   {
    "duration": 858,
    "start_time": "2022-07-01T21:06:40.552Z"
   },
   {
    "duration": 26199,
    "start_time": "2022-07-01T21:06:46.541Z"
   },
   {
    "duration": 32009,
    "start_time": "2022-07-01T21:07:28.042Z"
   },
   {
    "duration": 27229,
    "start_time": "2022-07-01T21:08:19.007Z"
   },
   {
    "duration": 26876,
    "start_time": "2022-07-01T21:09:10.655Z"
   },
   {
    "duration": 26812,
    "start_time": "2022-07-01T21:10:30.340Z"
   },
   {
    "duration": 88,
    "start_time": "2022-07-01T21:18:54.984Z"
   },
   {
    "duration": 13,
    "start_time": "2022-07-01T21:19:06.186Z"
   },
   {
    "duration": 27,
    "start_time": "2022-07-01T21:19:18.952Z"
   },
   {
    "duration": 13,
    "start_time": "2022-07-01T21:19:23.440Z"
   },
   {
    "duration": 11,
    "start_time": "2022-07-01T21:19:32.304Z"
   },
   {
    "duration": 12,
    "start_time": "2022-07-01T21:20:05.275Z"
   },
   {
    "duration": 0,
    "start_time": "2022-07-01T21:22:04.417Z"
   },
   {
    "duration": 1611,
    "start_time": "2022-07-02T14:42:04.893Z"
   },
   {
    "duration": 3,
    "start_time": "2022-07-02T14:42:06.507Z"
   },
   {
    "duration": 1072,
    "start_time": "2022-07-02T14:42:06.511Z"
   },
   {
    "duration": 161,
    "start_time": "2022-07-02T14:42:07.585Z"
   },
   {
    "duration": 5,
    "start_time": "2022-07-02T14:42:07.748Z"
   },
   {
    "duration": 73,
    "start_time": "2022-07-02T14:42:07.755Z"
   },
   {
    "duration": 69,
    "start_time": "2022-07-02T14:42:07.830Z"
   },
   {
    "duration": 208,
    "start_time": "2022-07-02T14:42:07.900Z"
   },
   {
    "duration": 258,
    "start_time": "2022-07-02T14:42:08.110Z"
   },
   {
    "duration": 3,
    "start_time": "2022-07-02T14:42:08.371Z"
   },
   {
    "duration": 452,
    "start_time": "2022-07-02T14:42:08.376Z"
   },
   {
    "duration": 11,
    "start_time": "2022-07-02T14:42:08.830Z"
   },
   {
    "duration": 33,
    "start_time": "2022-07-02T14:42:08.843Z"
   },
   {
    "duration": 8,
    "start_time": "2022-07-02T14:42:08.879Z"
   },
   {
    "duration": 18492,
    "start_time": "2022-07-02T14:42:08.889Z"
   },
   {
    "duration": 15,
    "start_time": "2022-07-02T14:42:27.383Z"
   },
   {
    "duration": 67,
    "start_time": "2022-07-02T14:42:27.400Z"
   },
   {
    "duration": 43,
    "start_time": "2022-07-02T14:42:27.469Z"
   },
   {
    "duration": 66,
    "start_time": "2022-07-02T14:42:27.514Z"
   },
   {
    "duration": 73,
    "start_time": "2022-07-02T14:42:27.582Z"
   },
   {
    "duration": 13,
    "start_time": "2022-07-02T14:42:27.656Z"
   },
   {
    "duration": 33,
    "start_time": "2022-07-02T14:42:27.671Z"
   },
   {
    "duration": 83,
    "start_time": "2022-07-02T14:42:27.706Z"
   },
   {
    "duration": 75,
    "start_time": "2022-07-02T14:42:27.790Z"
   },
   {
    "duration": 894,
    "start_time": "2022-07-02T14:42:27.867Z"
   },
   {
    "duration": 31966,
    "start_time": "2022-07-02T14:42:28.762Z"
   },
   {
    "duration": 6868,
    "start_time": "2022-07-02T14:43:00.731Z"
   },
   {
    "duration": 1337,
    "start_time": "2022-07-02T15:16:40.040Z"
   },
   {
    "duration": 2,
    "start_time": "2022-07-02T15:16:41.379Z"
   },
   {
    "duration": 874,
    "start_time": "2022-07-02T15:16:41.383Z"
   },
   {
    "duration": 156,
    "start_time": "2022-07-02T15:16:42.259Z"
   },
   {
    "duration": 12,
    "start_time": "2022-07-02T15:16:42.417Z"
   },
   {
    "duration": 49,
    "start_time": "2022-07-02T15:16:42.431Z"
   },
   {
    "duration": 59,
    "start_time": "2022-07-02T15:16:42.481Z"
   },
   {
    "duration": 217,
    "start_time": "2022-07-02T15:16:42.542Z"
   },
   {
    "duration": 241,
    "start_time": "2022-07-02T15:16:42.760Z"
   },
   {
    "duration": 3,
    "start_time": "2022-07-02T15:16:43.004Z"
   },
   {
    "duration": 432,
    "start_time": "2022-07-02T15:16:43.008Z"
   },
   {
    "duration": 11,
    "start_time": "2022-07-02T15:16:43.442Z"
   },
   {
    "duration": 26,
    "start_time": "2022-07-02T15:16:43.455Z"
   },
   {
    "duration": 7,
    "start_time": "2022-07-02T15:16:43.483Z"
   },
   {
    "duration": 19239,
    "start_time": "2022-07-02T15:16:43.492Z"
   },
   {
    "duration": 16,
    "start_time": "2022-07-02T15:17:02.733Z"
   },
   {
    "duration": 64,
    "start_time": "2022-07-02T15:17:02.751Z"
   },
   {
    "duration": 46,
    "start_time": "2022-07-02T15:17:02.827Z"
   },
   {
    "duration": 72,
    "start_time": "2022-07-02T15:17:02.875Z"
   },
   {
    "duration": 64,
    "start_time": "2022-07-02T15:17:02.949Z"
   },
   {
    "duration": 39,
    "start_time": "2022-07-02T15:17:03.015Z"
   },
   {
    "duration": 32,
    "start_time": "2022-07-02T15:17:03.055Z"
   },
   {
    "duration": 67,
    "start_time": "2022-07-02T15:17:03.089Z"
   },
   {
    "duration": 82,
    "start_time": "2022-07-02T15:17:03.157Z"
   },
   {
    "duration": 955,
    "start_time": "2022-07-02T15:17:03.241Z"
   },
   {
    "duration": 27434,
    "start_time": "2022-07-02T15:17:04.198Z"
   },
   {
    "duration": 7043,
    "start_time": "2022-07-02T15:17:31.635Z"
   },
   {
    "duration": 1453,
    "start_time": "2022-07-02T15:36:54.626Z"
   },
   {
    "duration": 3,
    "start_time": "2022-07-02T15:36:56.082Z"
   },
   {
    "duration": 874,
    "start_time": "2022-07-02T15:36:56.086Z"
   },
   {
    "duration": 165,
    "start_time": "2022-07-02T15:36:56.963Z"
   },
   {
    "duration": 7,
    "start_time": "2022-07-02T15:36:57.130Z"
   },
   {
    "duration": 50,
    "start_time": "2022-07-02T15:36:57.139Z"
   },
   {
    "duration": 64,
    "start_time": "2022-07-02T15:36:57.190Z"
   },
   {
    "duration": 272,
    "start_time": "2022-07-02T15:36:57.256Z"
   },
   {
    "duration": 331,
    "start_time": "2022-07-02T15:36:57.530Z"
   },
   {
    "duration": 3,
    "start_time": "2022-07-02T15:36:57.866Z"
   },
   {
    "duration": 491,
    "start_time": "2022-07-02T15:36:57.871Z"
   },
   {
    "duration": 14,
    "start_time": "2022-07-02T15:36:58.364Z"
   },
   {
    "duration": 47,
    "start_time": "2022-07-02T15:36:58.380Z"
   },
   {
    "duration": 7,
    "start_time": "2022-07-02T15:36:58.429Z"
   },
   {
    "duration": 21759,
    "start_time": "2022-07-02T15:36:58.438Z"
   },
   {
    "duration": 16,
    "start_time": "2022-07-02T15:37:20.199Z"
   },
   {
    "duration": 67,
    "start_time": "2022-07-02T15:37:20.227Z"
   },
   {
    "duration": 88,
    "start_time": "2022-07-02T15:37:20.296Z"
   },
   {
    "duration": 106,
    "start_time": "2022-07-02T15:37:20.387Z"
   },
   {
    "duration": 89,
    "start_time": "2022-07-02T15:37:20.496Z"
   },
   {
    "duration": 14,
    "start_time": "2022-07-02T15:37:20.587Z"
   },
   {
    "duration": 47,
    "start_time": "2022-07-02T15:37:20.603Z"
   },
   {
    "duration": 74,
    "start_time": "2022-07-02T15:37:20.652Z"
   },
   {
    "duration": 68,
    "start_time": "2022-07-02T15:37:20.729Z"
   },
   {
    "duration": 1024,
    "start_time": "2022-07-02T15:37:20.800Z"
   },
   {
    "duration": 1465,
    "start_time": "2022-07-02T15:38:32.387Z"
   },
   {
    "duration": 5,
    "start_time": "2022-07-02T15:38:34.792Z"
   },
   {
    "duration": 4,
    "start_time": "2022-07-02T15:38:42.392Z"
   },
   {
    "duration": 831,
    "start_time": "2022-07-02T15:38:42.691Z"
   },
   {
    "duration": 162,
    "start_time": "2022-07-02T15:38:43.524Z"
   },
   {
    "duration": 6,
    "start_time": "2022-07-02T15:38:43.699Z"
   },
   {
    "duration": 53,
    "start_time": "2022-07-02T15:38:44.055Z"
   },
   {
    "duration": 48,
    "start_time": "2022-07-02T15:38:44.433Z"
   },
   {
    "duration": 198,
    "start_time": "2022-07-02T15:38:44.796Z"
   },
   {
    "duration": 248,
    "start_time": "2022-07-02T15:38:45.221Z"
   },
   {
    "duration": 3,
    "start_time": "2022-07-02T15:38:53.547Z"
   },
   {
    "duration": 462,
    "start_time": "2022-07-02T15:38:55.094Z"
   },
   {
    "duration": 14,
    "start_time": "2022-07-02T15:38:59.006Z"
   },
   {
    "duration": 35,
    "start_time": "2022-07-02T15:38:59.686Z"
   },
   {
    "duration": 8,
    "start_time": "2022-07-02T15:39:00.361Z"
   },
   {
    "duration": 20002,
    "start_time": "2022-07-02T15:39:01.886Z"
   },
   {
    "duration": 17,
    "start_time": "2022-07-02T15:39:21.890Z"
   },
   {
    "duration": 91,
    "start_time": "2022-07-02T15:39:21.909Z"
   },
   {
    "duration": 84,
    "start_time": "2022-07-02T15:39:22.003Z"
   },
   {
    "duration": 73,
    "start_time": "2022-07-02T15:39:22.089Z"
   },
   {
    "duration": 80,
    "start_time": "2022-07-02T15:39:22.164Z"
   },
   {
    "duration": 14,
    "start_time": "2022-07-02T15:39:22.245Z"
   },
   {
    "duration": 31,
    "start_time": "2022-07-02T15:39:22.261Z"
   },
   {
    "duration": 92,
    "start_time": "2022-07-02T15:39:22.293Z"
   },
   {
    "duration": 86,
    "start_time": "2022-07-02T15:39:22.388Z"
   },
   {
    "duration": 1022,
    "start_time": "2022-07-02T15:39:22.476Z"
   },
   {
    "duration": 66533,
    "start_time": "2022-07-02T15:39:23.500Z"
   },
   {
    "duration": 7233,
    "start_time": "2022-07-02T15:40:30.036Z"
   },
   {
    "duration": 1784336,
    "start_time": "2022-07-02T15:40:37.271Z"
   },
   {
    "duration": 54,
    "start_time": "2022-07-02T16:54:13.534Z"
   },
   {
    "duration": 0,
    "start_time": "2022-07-02T16:54:13.591Z"
   },
   {
    "duration": 0,
    "start_time": "2022-07-02T16:54:13.592Z"
   },
   {
    "duration": 0,
    "start_time": "2022-07-02T16:54:13.593Z"
   },
   {
    "duration": 0,
    "start_time": "2022-07-02T16:54:13.594Z"
   },
   {
    "duration": 0,
    "start_time": "2022-07-02T16:54:13.596Z"
   },
   {
    "duration": 0,
    "start_time": "2022-07-02T16:54:13.597Z"
   },
   {
    "duration": 0,
    "start_time": "2022-07-02T16:54:13.599Z"
   },
   {
    "duration": 0,
    "start_time": "2022-07-02T16:54:13.601Z"
   },
   {
    "duration": 0,
    "start_time": "2022-07-02T16:54:13.602Z"
   },
   {
    "duration": 0,
    "start_time": "2022-07-02T16:54:13.604Z"
   },
   {
    "duration": 52,
    "start_time": "2022-07-02T16:54:13.616Z"
   },
   {
    "duration": 0,
    "start_time": "2022-07-02T16:54:13.670Z"
   },
   {
    "duration": 0,
    "start_time": "2022-07-02T16:54:13.671Z"
   },
   {
    "duration": 0,
    "start_time": "2022-07-02T16:54:13.672Z"
   },
   {
    "duration": 0,
    "start_time": "2022-07-02T16:54:13.673Z"
   },
   {
    "duration": 0,
    "start_time": "2022-07-02T16:54:13.674Z"
   },
   {
    "duration": 0,
    "start_time": "2022-07-02T16:54:13.675Z"
   },
   {
    "duration": 0,
    "start_time": "2022-07-02T16:54:13.676Z"
   },
   {
    "duration": 0,
    "start_time": "2022-07-02T16:54:13.677Z"
   },
   {
    "duration": 0,
    "start_time": "2022-07-02T16:54:13.678Z"
   },
   {
    "duration": 0,
    "start_time": "2022-07-02T16:54:13.679Z"
   },
   {
    "duration": 0,
    "start_time": "2022-07-02T16:54:13.681Z"
   },
   {
    "duration": 0,
    "start_time": "2022-07-02T16:54:13.681Z"
   },
   {
    "duration": 0,
    "start_time": "2022-07-02T16:54:13.682Z"
   },
   {
    "duration": 0,
    "start_time": "2022-07-02T16:54:13.684Z"
   },
   {
    "duration": 0,
    "start_time": "2022-07-02T16:54:13.684Z"
   },
   {
    "duration": 0,
    "start_time": "2022-07-02T16:54:13.685Z"
   },
   {
    "duration": 0,
    "start_time": "2022-07-02T16:54:13.686Z"
   },
   {
    "duration": 67,
    "start_time": "2022-07-02T16:54:23.956Z"
   },
   {
    "duration": 0,
    "start_time": "2022-07-02T16:54:24.025Z"
   },
   {
    "duration": 0,
    "start_time": "2022-07-02T16:54:24.032Z"
   },
   {
    "duration": 0,
    "start_time": "2022-07-02T16:54:24.033Z"
   },
   {
    "duration": 0,
    "start_time": "2022-07-02T16:54:24.033Z"
   },
   {
    "duration": 0,
    "start_time": "2022-07-02T16:54:24.034Z"
   },
   {
    "duration": 0,
    "start_time": "2022-07-02T16:54:24.035Z"
   },
   {
    "duration": 0,
    "start_time": "2022-07-02T16:54:24.035Z"
   },
   {
    "duration": 0,
    "start_time": "2022-07-02T16:54:24.041Z"
   },
   {
    "duration": 0,
    "start_time": "2022-07-02T16:54:24.042Z"
   },
   {
    "duration": 0,
    "start_time": "2022-07-02T16:54:24.043Z"
   },
   {
    "duration": 0,
    "start_time": "2022-07-02T16:54:24.044Z"
   },
   {
    "duration": 0,
    "start_time": "2022-07-02T16:54:24.045Z"
   },
   {
    "duration": 0,
    "start_time": "2022-07-02T16:54:24.046Z"
   },
   {
    "duration": 0,
    "start_time": "2022-07-02T16:54:24.047Z"
   },
   {
    "duration": 0,
    "start_time": "2022-07-02T16:54:24.048Z"
   },
   {
    "duration": 0,
    "start_time": "2022-07-02T16:54:24.049Z"
   },
   {
    "duration": 0,
    "start_time": "2022-07-02T16:54:24.050Z"
   },
   {
    "duration": 0,
    "start_time": "2022-07-02T16:54:24.052Z"
   },
   {
    "duration": 94,
    "start_time": "2022-07-02T16:54:24.054Z"
   },
   {
    "duration": 6,
    "start_time": "2022-07-02T16:54:24.178Z"
   },
   {
    "duration": 0,
    "start_time": "2022-07-02T16:54:24.185Z"
   },
   {
    "duration": 0,
    "start_time": "2022-07-02T16:54:24.186Z"
   },
   {
    "duration": 0,
    "start_time": "2022-07-02T16:54:24.187Z"
   },
   {
    "duration": 0,
    "start_time": "2022-07-02T16:54:24.188Z"
   },
   {
    "duration": 0,
    "start_time": "2022-07-02T16:54:24.228Z"
   },
   {
    "duration": 59,
    "start_time": "2022-07-02T16:54:24.230Z"
   },
   {
    "duration": 76,
    "start_time": "2022-07-02T16:54:24.291Z"
   },
   {
    "duration": 6,
    "start_time": "2022-07-02T16:54:24.368Z"
   },
   {
    "duration": 910,
    "start_time": "2022-07-02T16:54:42.958Z"
   },
   {
    "duration": 1085,
    "start_time": "2022-07-02T16:54:50.088Z"
   },
   {
    "duration": 1348,
    "start_time": "2022-07-02T16:54:51.176Z"
   },
   {
    "duration": 11,
    "start_time": "2022-07-02T16:54:52.532Z"
   },
   {
    "duration": 864,
    "start_time": "2022-07-02T16:54:52.544Z"
   },
   {
    "duration": 168,
    "start_time": "2022-07-02T16:54:53.410Z"
   },
   {
    "duration": 5,
    "start_time": "2022-07-02T16:54:53.580Z"
   },
   {
    "duration": 74,
    "start_time": "2022-07-02T16:54:53.587Z"
   },
   {
    "duration": 52,
    "start_time": "2022-07-02T16:54:53.663Z"
   },
   {
    "duration": 199,
    "start_time": "2022-07-02T16:54:53.717Z"
   },
   {
    "duration": 196,
    "start_time": "2022-07-02T16:54:53.917Z"
   },
   {
    "duration": 3,
    "start_time": "2022-07-02T16:54:54.115Z"
   },
   {
    "duration": 478,
    "start_time": "2022-07-02T16:54:54.119Z"
   },
   {
    "duration": 13,
    "start_time": "2022-07-02T16:54:54.599Z"
   },
   {
    "duration": 29,
    "start_time": "2022-07-02T16:54:54.626Z"
   },
   {
    "duration": 8,
    "start_time": "2022-07-02T16:54:54.658Z"
   },
   {
    "duration": 20964,
    "start_time": "2022-07-02T16:54:54.667Z"
   },
   {
    "duration": 20,
    "start_time": "2022-07-02T16:55:15.640Z"
   },
   {
    "duration": 86,
    "start_time": "2022-07-02T16:55:15.662Z"
   },
   {
    "duration": 97,
    "start_time": "2022-07-02T16:55:15.749Z"
   },
   {
    "duration": 67,
    "start_time": "2022-07-02T16:55:15.847Z"
   },
   {
    "duration": 79,
    "start_time": "2022-07-02T16:55:15.916Z"
   },
   {
    "duration": 15,
    "start_time": "2022-07-02T16:55:15.998Z"
   },
   {
    "duration": 49,
    "start_time": "2022-07-02T16:55:16.015Z"
   },
   {
    "duration": 77,
    "start_time": "2022-07-02T16:55:16.066Z"
   },
   {
    "duration": 95,
    "start_time": "2022-07-02T16:55:16.145Z"
   },
   {
    "duration": 1055,
    "start_time": "2022-07-02T16:55:16.242Z"
   },
   {
    "duration": 58641,
    "start_time": "2022-07-02T16:55:17.299Z"
   },
   {
    "duration": 7683,
    "start_time": "2022-07-02T16:56:15.942Z"
   },
   {
    "duration": 900,
    "start_time": "2022-07-02T17:18:36.866Z"
   },
   {
    "duration": 1305,
    "start_time": "2022-07-02T17:18:37.768Z"
   },
   {
    "duration": 3,
    "start_time": "2022-07-02T17:18:39.074Z"
   },
   {
    "duration": 824,
    "start_time": "2022-07-02T17:18:39.079Z"
   },
   {
    "duration": 157,
    "start_time": "2022-07-02T17:18:39.905Z"
   },
   {
    "duration": 6,
    "start_time": "2022-07-02T17:18:40.063Z"
   },
   {
    "duration": 55,
    "start_time": "2022-07-02T17:18:40.071Z"
   },
   {
    "duration": 78,
    "start_time": "2022-07-02T17:18:40.128Z"
   },
   {
    "duration": 194,
    "start_time": "2022-07-02T17:18:40.208Z"
   },
   {
    "duration": 186,
    "start_time": "2022-07-02T17:18:40.404Z"
   },
   {
    "duration": 4,
    "start_time": "2022-07-02T17:18:40.591Z"
   },
   {
    "duration": 436,
    "start_time": "2022-07-02T17:18:40.596Z"
   },
   {
    "duration": 12,
    "start_time": "2022-07-02T17:18:41.034Z"
   },
   {
    "duration": 30,
    "start_time": "2022-07-02T17:18:41.047Z"
   },
   {
    "duration": 10,
    "start_time": "2022-07-02T17:18:41.079Z"
   },
   {
    "duration": 20416,
    "start_time": "2022-07-02T17:18:41.091Z"
   },
   {
    "duration": 24,
    "start_time": "2022-07-02T17:19:01.510Z"
   },
   {
    "duration": 134,
    "start_time": "2022-07-02T17:19:01.537Z"
   },
   {
    "duration": 68,
    "start_time": "2022-07-02T17:19:01.674Z"
   },
   {
    "duration": 84,
    "start_time": "2022-07-02T17:19:01.744Z"
   },
   {
    "duration": 103,
    "start_time": "2022-07-02T17:19:01.831Z"
   },
   {
    "duration": 19,
    "start_time": "2022-07-02T17:19:01.937Z"
   },
   {
    "duration": 38,
    "start_time": "2022-07-02T17:19:01.957Z"
   },
   {
    "duration": 91,
    "start_time": "2022-07-02T17:19:01.996Z"
   },
   {
    "duration": 115,
    "start_time": "2022-07-02T17:19:02.089Z"
   },
   {
    "duration": 1004,
    "start_time": "2022-07-02T17:19:02.206Z"
   },
   {
    "duration": 63727,
    "start_time": "2022-07-02T17:19:03.212Z"
   },
   {
    "duration": 7616,
    "start_time": "2022-07-02T17:20:06.944Z"
   },
   {
    "duration": 651055,
    "start_time": "2022-07-02T17:20:14.562Z"
   },
   {
    "duration": 11,
    "start_time": "2022-07-02T17:31:05.619Z"
   },
   {
    "duration": 0,
    "start_time": "2022-07-02T17:31:05.632Z"
   },
   {
    "duration": 0,
    "start_time": "2022-07-02T17:31:05.634Z"
   },
   {
    "duration": 409851,
    "start_time": "2022-07-02T17:31:47.651Z"
   },
   {
    "duration": 75,
    "start_time": "2022-07-02T17:38:37.503Z"
   },
   {
    "duration": 0,
    "start_time": "2022-07-02T17:38:37.580Z"
   },
   {
    "duration": 51,
    "start_time": "2022-07-02T17:38:55.946Z"
   },
   {
    "duration": 3,
    "start_time": "2022-07-02T17:39:02.757Z"
   },
   {
    "duration": 169281,
    "start_time": "2022-07-02T17:39:07.451Z"
   },
   {
    "duration": 61,
    "start_time": "2022-07-02T17:46:06.750Z"
   },
   {
    "duration": 18651,
    "start_time": "2022-07-02T17:51:33.935Z"
   },
   {
    "duration": 28946,
    "start_time": "2022-07-02T17:56:29.953Z"
   },
   {
    "duration": 4514,
    "start_time": "2022-07-02T17:59:46.451Z"
   },
   {
    "duration": 30356,
    "start_time": "2022-07-02T17:59:58.655Z"
   },
   {
    "duration": 30210,
    "start_time": "2022-07-02T18:00:38.492Z"
   },
   {
    "duration": 781,
    "start_time": "2022-07-02T18:01:53.657Z"
   },
   {
    "duration": 53,
    "start_time": "2022-07-02T18:02:45.567Z"
   },
   {
    "duration": 2221,
    "start_time": "2022-07-02T18:02:56.049Z"
   },
   {
    "duration": 4,
    "start_time": "2022-07-02T18:03:01.592Z"
   },
   {
    "duration": 1236,
    "start_time": "2022-07-02T18:03:01.814Z"
   },
   {
    "duration": 2874,
    "start_time": "2022-07-02T18:03:22.589Z"
   },
   {
    "duration": 3,
    "start_time": "2022-07-02T18:03:25.465Z"
   },
   {
    "duration": 1339,
    "start_time": "2022-07-02T18:03:25.469Z"
   },
   {
    "duration": 2847,
    "start_time": "2022-07-02T18:04:06.548Z"
   },
   {
    "duration": 3,
    "start_time": "2022-07-02T18:04:09.397Z"
   },
   {
    "duration": 1310,
    "start_time": "2022-07-02T18:04:09.401Z"
   },
   {
    "duration": 2985,
    "start_time": "2022-07-02T18:06:05.913Z"
   },
   {
    "duration": 3,
    "start_time": "2022-07-02T18:06:08.900Z"
   },
   {
    "duration": 1291,
    "start_time": "2022-07-02T18:06:08.905Z"
   },
   {
    "duration": 183,
    "start_time": "2022-07-02T18:06:10.199Z"
   },
   {
    "duration": 6,
    "start_time": "2022-07-02T18:06:10.383Z"
   },
   {
    "duration": 70,
    "start_time": "2022-07-02T18:06:10.391Z"
   },
   {
    "duration": 49,
    "start_time": "2022-07-02T18:06:10.463Z"
   },
   {
    "duration": 251,
    "start_time": "2022-07-02T18:06:10.514Z"
   },
   {
    "duration": 283,
    "start_time": "2022-07-02T18:06:10.767Z"
   },
   {
    "duration": 4,
    "start_time": "2022-07-02T18:06:11.058Z"
   },
   {
    "duration": 532,
    "start_time": "2022-07-02T18:06:11.063Z"
   },
   {
    "duration": 18,
    "start_time": "2022-07-02T18:06:11.597Z"
   },
   {
    "duration": 47,
    "start_time": "2022-07-02T18:06:11.617Z"
   },
   {
    "duration": 16,
    "start_time": "2022-07-02T18:06:11.666Z"
   },
   {
    "duration": 19842,
    "start_time": "2022-07-02T18:06:11.684Z"
   },
   {
    "duration": 29,
    "start_time": "2022-07-02T18:06:31.529Z"
   },
   {
    "duration": 92,
    "start_time": "2022-07-02T18:06:31.560Z"
   },
   {
    "duration": 59,
    "start_time": "2022-07-02T18:06:31.654Z"
   },
   {
    "duration": 84,
    "start_time": "2022-07-02T18:06:31.715Z"
   },
   {
    "duration": 81,
    "start_time": "2022-07-02T18:06:31.801Z"
   },
   {
    "duration": 12,
    "start_time": "2022-07-02T18:06:31.883Z"
   },
   {
    "duration": 53,
    "start_time": "2022-07-02T18:06:31.897Z"
   },
   {
    "duration": 79,
    "start_time": "2022-07-02T18:06:31.952Z"
   },
   {
    "duration": 94,
    "start_time": "2022-07-02T18:06:32.033Z"
   },
   {
    "duration": 920,
    "start_time": "2022-07-02T18:06:32.129Z"
   },
   {
    "duration": 37278,
    "start_time": "2022-07-02T18:06:33.050Z"
   },
   {
    "duration": 6952,
    "start_time": "2022-07-02T18:07:10.332Z"
   },
   {
    "duration": 693050,
    "start_time": "2022-07-02T18:07:17.287Z"
   },
   {
    "duration": 1420,
    "start_time": "2022-07-02T18:22:49.823Z"
   },
   {
    "duration": 3,
    "start_time": "2022-07-02T18:22:51.245Z"
   },
   {
    "duration": 895,
    "start_time": "2022-07-02T18:22:51.250Z"
   },
   {
    "duration": 166,
    "start_time": "2022-07-02T18:22:52.147Z"
   },
   {
    "duration": 29,
    "start_time": "2022-07-02T18:22:52.315Z"
   },
   {
    "duration": 65,
    "start_time": "2022-07-02T18:22:52.345Z"
   },
   {
    "duration": 77,
    "start_time": "2022-07-02T18:22:52.412Z"
   },
   {
    "duration": 224,
    "start_time": "2022-07-02T18:22:52.491Z"
   },
   {
    "duration": 200,
    "start_time": "2022-07-02T18:22:52.717Z"
   },
   {
    "duration": 14,
    "start_time": "2022-07-02T18:22:52.926Z"
   },
   {
    "duration": 425,
    "start_time": "2022-07-02T18:22:52.943Z"
   },
   {
    "duration": 12,
    "start_time": "2022-07-02T18:22:53.369Z"
   },
   {
    "duration": 21,
    "start_time": "2022-07-02T18:22:53.382Z"
   },
   {
    "duration": 10,
    "start_time": "2022-07-02T18:22:53.431Z"
   },
   {
    "duration": 19497,
    "start_time": "2022-07-02T18:22:53.444Z"
   },
   {
    "duration": 15,
    "start_time": "2022-07-02T18:23:12.944Z"
   },
   {
    "duration": 87,
    "start_time": "2022-07-02T18:23:12.960Z"
   },
   {
    "duration": 45,
    "start_time": "2022-07-02T18:23:13.049Z"
   },
   {
    "duration": 80,
    "start_time": "2022-07-02T18:23:13.096Z"
   },
   {
    "duration": 79,
    "start_time": "2022-07-02T18:23:13.178Z"
   },
   {
    "duration": 12,
    "start_time": "2022-07-02T18:23:13.259Z"
   },
   {
    "duration": 32,
    "start_time": "2022-07-02T18:23:13.272Z"
   },
   {
    "duration": 89,
    "start_time": "2022-07-02T18:23:13.305Z"
   },
   {
    "duration": 89,
    "start_time": "2022-07-02T18:23:13.396Z"
   },
   {
    "duration": 928,
    "start_time": "2022-07-02T18:23:13.487Z"
   },
   {
    "duration": 33310,
    "start_time": "2022-07-02T18:23:14.416Z"
   },
   {
    "duration": 7203,
    "start_time": "2022-07-02T18:23:47.731Z"
   },
   {
    "duration": 1498,
    "start_time": "2022-07-02T18:30:40.758Z"
   },
   {
    "duration": 3,
    "start_time": "2022-07-02T18:30:42.258Z"
   },
   {
    "duration": 893,
    "start_time": "2022-07-02T18:30:42.263Z"
   },
   {
    "duration": 163,
    "start_time": "2022-07-02T18:30:43.158Z"
   },
   {
    "duration": 20,
    "start_time": "2022-07-02T18:30:43.328Z"
   },
   {
    "duration": 51,
    "start_time": "2022-07-02T18:30:43.353Z"
   },
   {
    "duration": 60,
    "start_time": "2022-07-02T18:30:43.405Z"
   },
   {
    "duration": 209,
    "start_time": "2022-07-02T18:30:43.467Z"
   },
   {
    "duration": 213,
    "start_time": "2022-07-02T18:30:43.678Z"
   },
   {
    "duration": 3,
    "start_time": "2022-07-02T18:30:43.893Z"
   },
   {
    "duration": 465,
    "start_time": "2022-07-02T18:30:43.897Z"
   },
   {
    "duration": 12,
    "start_time": "2022-07-02T18:30:44.364Z"
   },
   {
    "duration": 22,
    "start_time": "2022-07-02T18:30:44.378Z"
   },
   {
    "duration": 6,
    "start_time": "2022-07-02T18:30:44.403Z"
   },
   {
    "duration": 254,
    "start_time": "2022-07-02T18:30:44.410Z"
   },
   {
    "duration": 0,
    "start_time": "2022-07-02T18:30:44.665Z"
   },
   {
    "duration": 0,
    "start_time": "2022-07-02T18:30:44.667Z"
   },
   {
    "duration": 0,
    "start_time": "2022-07-02T18:30:44.669Z"
   },
   {
    "duration": 0,
    "start_time": "2022-07-02T18:30:44.670Z"
   },
   {
    "duration": 0,
    "start_time": "2022-07-02T18:30:44.672Z"
   },
   {
    "duration": 0,
    "start_time": "2022-07-02T18:30:44.673Z"
   },
   {
    "duration": 0,
    "start_time": "2022-07-02T18:30:44.674Z"
   },
   {
    "duration": 0,
    "start_time": "2022-07-02T18:30:44.675Z"
   },
   {
    "duration": 0,
    "start_time": "2022-07-02T18:30:44.677Z"
   },
   {
    "duration": 0,
    "start_time": "2022-07-02T18:30:44.679Z"
   },
   {
    "duration": 0,
    "start_time": "2022-07-02T18:30:44.680Z"
   },
   {
    "duration": 0,
    "start_time": "2022-07-02T18:30:44.681Z"
   },
   {
    "duration": 0,
    "start_time": "2022-07-02T18:30:44.682Z"
   },
   {
    "duration": 0,
    "start_time": "2022-07-02T18:30:44.684Z"
   },
   {
    "duration": 0,
    "start_time": "2022-07-02T18:30:44.688Z"
   },
   {
    "duration": 0,
    "start_time": "2022-07-02T18:30:44.689Z"
   },
   {
    "duration": 1399,
    "start_time": "2022-07-02T18:31:32.678Z"
   },
   {
    "duration": 3,
    "start_time": "2022-07-02T18:31:34.078Z"
   },
   {
    "duration": 872,
    "start_time": "2022-07-02T18:31:34.082Z"
   },
   {
    "duration": 162,
    "start_time": "2022-07-02T18:31:34.957Z"
   },
   {
    "duration": 26,
    "start_time": "2022-07-02T18:31:35.121Z"
   },
   {
    "duration": 63,
    "start_time": "2022-07-02T18:31:35.152Z"
   },
   {
    "duration": 86,
    "start_time": "2022-07-02T18:31:35.217Z"
   },
   {
    "duration": 220,
    "start_time": "2022-07-02T18:31:35.305Z"
   },
   {
    "duration": 221,
    "start_time": "2022-07-02T18:31:35.536Z"
   },
   {
    "duration": 4,
    "start_time": "2022-07-02T18:31:35.759Z"
   },
   {
    "duration": 446,
    "start_time": "2022-07-02T18:31:35.764Z"
   },
   {
    "duration": 17,
    "start_time": "2022-07-02T18:31:36.212Z"
   },
   {
    "duration": 27,
    "start_time": "2022-07-02T18:31:36.230Z"
   },
   {
    "duration": 7,
    "start_time": "2022-07-02T18:31:36.261Z"
   },
   {
    "duration": 19834,
    "start_time": "2022-07-02T18:31:36.269Z"
   },
   {
    "duration": 15,
    "start_time": "2022-07-02T18:31:56.104Z"
   },
   {
    "duration": 73,
    "start_time": "2022-07-02T18:31:56.130Z"
   },
   {
    "duration": 76,
    "start_time": "2022-07-02T18:31:56.204Z"
   },
   {
    "duration": 70,
    "start_time": "2022-07-02T18:31:56.282Z"
   },
   {
    "duration": 70,
    "start_time": "2022-07-02T18:31:56.354Z"
   },
   {
    "duration": 19,
    "start_time": "2022-07-02T18:31:56.434Z"
   },
   {
    "duration": 29,
    "start_time": "2022-07-02T18:31:56.455Z"
   },
   {
    "duration": 92,
    "start_time": "2022-07-02T18:31:56.486Z"
   },
   {
    "duration": 83,
    "start_time": "2022-07-02T18:31:56.580Z"
   },
   {
    "duration": 921,
    "start_time": "2022-07-02T18:31:56.665Z"
   },
   {
    "duration": 64945,
    "start_time": "2022-07-02T18:31:57.588Z"
   },
   {
    "duration": 7351,
    "start_time": "2022-07-02T18:33:02.535Z"
   },
   {
    "duration": 1319929,
    "start_time": "2022-07-02T18:33:09.888Z"
   },
   {
    "duration": 1590,
    "start_time": "2022-07-02T19:13:12.952Z"
   },
   {
    "duration": 7,
    "start_time": "2022-07-02T19:13:14.544Z"
   },
   {
    "duration": 1557,
    "start_time": "2022-07-02T19:13:14.559Z"
   },
   {
    "duration": 193,
    "start_time": "2022-07-02T19:13:16.118Z"
   },
   {
    "duration": 15,
    "start_time": "2022-07-02T19:13:16.314Z"
   },
   {
    "duration": 61,
    "start_time": "2022-07-02T19:13:16.331Z"
   },
   {
    "duration": 71,
    "start_time": "2022-07-02T19:13:16.395Z"
   },
   {
    "duration": 327,
    "start_time": "2022-07-02T19:13:16.470Z"
   },
   {
    "duration": 279,
    "start_time": "2022-07-02T19:13:16.799Z"
   },
   {
    "duration": 4,
    "start_time": "2022-07-02T19:13:17.080Z"
   },
   {
    "duration": 571,
    "start_time": "2022-07-02T19:13:17.086Z"
   },
   {
    "duration": 17,
    "start_time": "2022-07-02T19:13:17.667Z"
   },
   {
    "duration": 27,
    "start_time": "2022-07-02T19:13:17.685Z"
   },
   {
    "duration": 9,
    "start_time": "2022-07-02T19:13:17.716Z"
   },
   {
    "duration": 26055,
    "start_time": "2022-07-02T19:13:17.727Z"
   },
   {
    "duration": 16,
    "start_time": "2022-07-02T19:13:43.784Z"
   },
   {
    "duration": 103,
    "start_time": "2022-07-02T19:13:43.802Z"
   },
   {
    "duration": 73,
    "start_time": "2022-07-02T19:13:43.908Z"
   },
   {
    "duration": 98,
    "start_time": "2022-07-02T19:13:43.983Z"
   },
   {
    "duration": 124,
    "start_time": "2022-07-02T19:13:44.083Z"
   },
   {
    "duration": 31,
    "start_time": "2022-07-02T19:13:44.210Z"
   },
   {
    "duration": 37,
    "start_time": "2022-07-02T19:13:44.244Z"
   },
   {
    "duration": 108,
    "start_time": "2022-07-02T19:13:44.283Z"
   },
   {
    "duration": 165,
    "start_time": "2022-07-02T19:13:44.393Z"
   },
   {
    "duration": 1142,
    "start_time": "2022-07-02T19:13:44.565Z"
   },
   {
    "duration": 66128,
    "start_time": "2022-07-02T19:13:45.710Z"
   },
   {
    "duration": 8558,
    "start_time": "2022-07-02T19:14:51.841Z"
   },
   {
    "duration": 1518,
    "start_time": "2022-07-02T19:29:26.141Z"
   },
   {
    "duration": 3,
    "start_time": "2022-07-02T19:29:27.662Z"
   },
   {
    "duration": 1727,
    "start_time": "2022-07-02T19:29:27.667Z"
   },
   {
    "duration": 261,
    "start_time": "2022-07-02T19:29:29.397Z"
   },
   {
    "duration": 5,
    "start_time": "2022-07-02T19:29:29.661Z"
   },
   {
    "duration": 86,
    "start_time": "2022-07-02T19:29:29.668Z"
   },
   {
    "duration": 67,
    "start_time": "2022-07-02T19:29:29.757Z"
   },
   {
    "duration": 267,
    "start_time": "2022-07-02T19:29:29.825Z"
   },
   {
    "duration": 215,
    "start_time": "2022-07-02T19:29:30.094Z"
   },
   {
    "duration": 4,
    "start_time": "2022-07-02T19:29:30.313Z"
   },
   {
    "duration": 568,
    "start_time": "2022-07-02T19:29:30.319Z"
   },
   {
    "duration": 13,
    "start_time": "2022-07-02T19:29:30.888Z"
   },
   {
    "duration": 53,
    "start_time": "2022-07-02T19:29:30.903Z"
   },
   {
    "duration": 22,
    "start_time": "2022-07-02T19:29:30.958Z"
   },
   {
    "duration": 19773,
    "start_time": "2022-07-02T19:29:30.982Z"
   },
   {
    "duration": 17,
    "start_time": "2022-07-02T19:29:50.757Z"
   },
   {
    "duration": 83,
    "start_time": "2022-07-02T19:29:50.776Z"
   },
   {
    "duration": 49,
    "start_time": "2022-07-02T19:29:50.861Z"
   },
   {
    "duration": 105,
    "start_time": "2022-07-02T19:29:50.912Z"
   },
   {
    "duration": 91,
    "start_time": "2022-07-02T19:29:51.019Z"
   },
   {
    "duration": 40,
    "start_time": "2022-07-02T19:29:51.112Z"
   },
   {
    "duration": 41,
    "start_time": "2022-07-02T19:29:51.154Z"
   },
   {
    "duration": 113,
    "start_time": "2022-07-02T19:29:51.197Z"
   },
   {
    "duration": 90,
    "start_time": "2022-07-02T19:29:51.312Z"
   },
   {
    "duration": 1015,
    "start_time": "2022-07-02T19:29:51.404Z"
   },
   {
    "duration": 54913,
    "start_time": "2022-07-02T19:29:52.422Z"
   },
   {
    "duration": 7510,
    "start_time": "2022-07-02T19:30:47.337Z"
   },
   {
    "duration": 398069,
    "start_time": "2022-07-02T19:30:54.851Z"
   },
   {
    "duration": 1713965,
    "start_time": "2022-07-02T19:37:32.921Z"
   },
   {
    "duration": 29497,
    "start_time": "2022-07-02T20:06:06.887Z"
   },
   {
    "duration": 6,
    "start_time": "2022-07-02T20:06:36.386Z"
   },
   {
    "duration": 373813,
    "start_time": "2022-07-02T20:06:36.395Z"
   },
   {
    "duration": 688,
    "start_time": "2022-07-02T20:12:55.426Z"
   },
   {
    "duration": 27750,
    "start_time": "2022-07-02T20:13:20.010Z"
   },
   {
    "duration": 5,
    "start_time": "2022-07-02T20:14:00.167Z"
   },
   {
    "duration": 466116,
    "start_time": "2022-07-02T20:16:45.547Z"
   },
   {
    "duration": 133466,
    "start_time": "2022-07-02T20:24:31.665Z"
   },
   {
    "duration": 86920,
    "start_time": "2022-07-02T20:26:45.136Z"
   },
   {
    "duration": 5,
    "start_time": "2022-07-02T20:28:12.059Z"
   },
   {
    "duration": 5,
    "start_time": "2022-07-02T20:28:35.863Z"
   },
   {
    "duration": 1909,
    "start_time": "2022-07-04T01:38:52.657Z"
   },
   {
    "duration": 3,
    "start_time": "2022-07-04T01:38:55.357Z"
   },
   {
    "duration": 811,
    "start_time": "2022-07-04T01:38:55.916Z"
   },
   {
    "duration": 149,
    "start_time": "2022-07-04T01:38:58.048Z"
   },
   {
    "duration": 6,
    "start_time": "2022-07-04T01:38:59.000Z"
   },
   {
    "duration": 53,
    "start_time": "2022-07-04T01:38:59.333Z"
   },
   {
    "duration": 49,
    "start_time": "2022-07-04T01:38:59.628Z"
   },
   {
    "duration": 202,
    "start_time": "2022-07-04T01:38:59.921Z"
   },
   {
    "duration": 230,
    "start_time": "2022-07-04T01:39:00.220Z"
   },
   {
    "duration": 3,
    "start_time": "2022-07-04T01:39:00.652Z"
   },
   {
    "duration": 405,
    "start_time": "2022-07-04T01:39:01.365Z"
   },
   {
    "duration": 12,
    "start_time": "2022-07-04T01:39:01.772Z"
   },
   {
    "duration": 28,
    "start_time": "2022-07-04T01:39:02.021Z"
   },
   {
    "duration": 5,
    "start_time": "2022-07-04T01:39:02.573Z"
   },
   {
    "duration": 18608,
    "start_time": "2022-07-04T01:39:03.660Z"
   },
   {
    "duration": 14,
    "start_time": "2022-07-04T01:39:22.270Z"
   },
   {
    "duration": 62,
    "start_time": "2022-07-04T01:39:29.148Z"
   },
   {
    "duration": 46,
    "start_time": "2022-07-04T01:39:30.004Z"
   },
   {
    "duration": 61,
    "start_time": "2022-07-04T01:39:30.668Z"
   },
   {
    "duration": 62,
    "start_time": "2022-07-04T01:39:31.380Z"
   },
   {
    "duration": 12,
    "start_time": "2022-07-04T01:39:31.900Z"
   },
   {
    "duration": 32,
    "start_time": "2022-07-04T01:39:32.264Z"
   },
   {
    "duration": 60,
    "start_time": "2022-07-04T01:39:32.884Z"
   },
   {
    "duration": 79,
    "start_time": "2022-07-04T01:39:33.573Z"
   },
   {
    "duration": 71,
    "start_time": "2022-07-04T01:39:34.984Z"
   },
   {
    "duration": 1771,
    "start_time": "2022-07-04T05:46:41.582Z"
   },
   {
    "duration": 4,
    "start_time": "2022-07-04T05:46:44.276Z"
   },
   {
    "duration": 1241,
    "start_time": "2022-07-04T05:46:44.619Z"
   },
   {
    "duration": 176,
    "start_time": "2022-07-04T05:46:46.146Z"
   },
   {
    "duration": 7,
    "start_time": "2022-07-04T05:46:48.973Z"
   },
   {
    "duration": 57,
    "start_time": "2022-07-04T05:46:51.987Z"
   },
   {
    "duration": 46,
    "start_time": "2022-07-04T05:46:54.649Z"
   },
   {
    "duration": 200,
    "start_time": "2022-07-04T05:46:55.547Z"
   },
   {
    "duration": 236,
    "start_time": "2022-07-04T05:46:59.053Z"
   },
   {
    "duration": 3,
    "start_time": "2022-07-04T05:47:00.804Z"
   },
   {
    "duration": 446,
    "start_time": "2022-07-04T05:47:02.708Z"
   },
   {
    "duration": 12,
    "start_time": "2022-07-04T05:47:08.556Z"
   },
   {
    "duration": 29,
    "start_time": "2022-07-04T05:47:10.084Z"
   },
   {
    "duration": 6,
    "start_time": "2022-07-04T05:47:47.572Z"
   },
   {
    "duration": 19836,
    "start_time": "2022-07-04T05:47:49.611Z"
   },
   {
    "duration": 31,
    "start_time": "2022-07-04T05:54:46.722Z"
   },
   {
    "duration": 89,
    "start_time": "2022-07-04T05:54:49.426Z"
   },
   {
    "duration": 81,
    "start_time": "2022-07-04T05:54:51.490Z"
   },
   {
    "duration": 73,
    "start_time": "2022-07-04T05:54:52.989Z"
   },
   {
    "duration": 72,
    "start_time": "2022-07-04T05:54:54.731Z"
   },
   {
    "duration": 15,
    "start_time": "2022-07-04T05:54:56.552Z"
   },
   {
    "duration": 44,
    "start_time": "2022-07-04T05:54:59.470Z"
   },
   {
    "duration": 83,
    "start_time": "2022-07-04T05:55:00.719Z"
   },
   {
    "duration": 91,
    "start_time": "2022-07-04T05:58:01.351Z"
   },
   {
    "duration": 5,
    "start_time": "2022-07-04T06:00:21.206Z"
   },
   {
    "duration": 6,
    "start_time": "2022-07-04T06:00:27.647Z"
   },
   {
    "duration": 1262,
    "start_time": "2022-07-04T06:00:44.347Z"
   },
   {
    "duration": 17,
    "start_time": "2022-07-04T06:00:53.366Z"
   },
   {
    "duration": 24,
    "start_time": "2022-07-04T06:01:25.086Z"
   },
   {
    "duration": 25,
    "start_time": "2022-07-04T06:01:56.393Z"
   },
   {
    "duration": 23,
    "start_time": "2022-07-04T06:02:01.368Z"
   },
   {
    "duration": 23,
    "start_time": "2022-07-04T06:02:47.443Z"
   },
   {
    "duration": 21,
    "start_time": "2022-07-04T06:02:54.119Z"
   },
   {
    "duration": 19,
    "start_time": "2022-07-04T06:03:09.226Z"
   },
   {
    "duration": 18,
    "start_time": "2022-07-04T06:03:41.823Z"
   },
   {
    "duration": 20,
    "start_time": "2022-07-04T06:05:22.126Z"
   },
   {
    "duration": 5,
    "start_time": "2022-07-04T06:06:55.126Z"
   },
   {
    "duration": 5,
    "start_time": "2022-07-04T06:07:06.062Z"
   },
   {
    "duration": 12,
    "start_time": "2022-07-04T06:07:22.350Z"
   },
   {
    "duration": 10,
    "start_time": "2022-07-04T06:07:29.742Z"
   },
   {
    "duration": 2,
    "start_time": "2022-07-04T06:12:25.061Z"
   },
   {
    "duration": 19,
    "start_time": "2022-07-04T06:12:28.883Z"
   },
   {
    "duration": 25,
    "start_time": "2022-07-04T06:13:32.653Z"
   },
   {
    "duration": 2,
    "start_time": "2022-07-04T06:13:46.340Z"
   },
   {
    "duration": 9,
    "start_time": "2022-07-04T06:13:46.739Z"
   },
   {
    "duration": 19,
    "start_time": "2022-07-04T06:13:56.756Z"
   },
   {
    "duration": 11,
    "start_time": "2022-07-04T06:14:00.683Z"
   },
   {
    "duration": 11,
    "start_time": "2022-07-04T06:14:37.804Z"
   },
   {
    "duration": 10,
    "start_time": "2022-07-04T06:14:43.356Z"
   },
   {
    "duration": 14,
    "start_time": "2022-07-04T06:14:48.053Z"
   },
   {
    "duration": 19,
    "start_time": "2022-07-04T06:14:52.446Z"
   },
   {
    "duration": 21,
    "start_time": "2022-07-04T06:14:53.596Z"
   },
   {
    "duration": 21,
    "start_time": "2022-07-04T06:15:07.288Z"
   },
   {
    "duration": 24,
    "start_time": "2022-07-04T06:15:07.827Z"
   },
   {
    "duration": 3,
    "start_time": "2022-07-04T06:16:58.236Z"
   },
   {
    "duration": 23,
    "start_time": "2022-07-04T06:16:59.043Z"
   },
   {
    "duration": 110,
    "start_time": "2022-07-04T06:17:14.349Z"
   },
   {
    "duration": 45,
    "start_time": "2022-07-04T06:17:26.541Z"
   },
   {
    "duration": 16,
    "start_time": "2022-07-04T06:18:19.956Z"
   },
   {
    "duration": 9,
    "start_time": "2022-07-04T06:20:41.062Z"
   },
   {
    "duration": 10,
    "start_time": "2022-07-04T06:22:33.255Z"
   },
   {
    "duration": 94,
    "start_time": "2022-07-04T06:25:19.508Z"
   },
   {
    "duration": 59,
    "start_time": "2022-07-04T06:25:24.196Z"
   },
   {
    "duration": 49,
    "start_time": "2022-07-04T06:25:49.541Z"
   },
   {
    "duration": 16,
    "start_time": "2022-07-04T06:25:52.682Z"
   },
   {
    "duration": 819,
    "start_time": "2022-07-04T06:27:56.902Z"
   },
   {
    "duration": 142,
    "start_time": "2022-07-04T06:27:57.723Z"
   },
   {
    "duration": 6,
    "start_time": "2022-07-04T06:27:58.219Z"
   },
   {
    "duration": 41,
    "start_time": "2022-07-04T06:27:58.570Z"
   },
   {
    "duration": 443,
    "start_time": "2022-07-04T06:27:58.946Z"
   },
   {
    "duration": 521,
    "start_time": "2022-07-04T06:27:59.391Z"
   },
   {
    "duration": 4,
    "start_time": "2022-07-04T06:28:00.035Z"
   },
   {
    "duration": 462,
    "start_time": "2022-07-04T06:28:02.667Z"
   },
   {
    "duration": 20,
    "start_time": "2022-07-04T06:28:05.249Z"
   },
   {
    "duration": 61,
    "start_time": "2022-07-04T06:28:06.002Z"
   },
   {
    "duration": 8,
    "start_time": "2022-07-04T06:28:07.195Z"
   },
   {
    "duration": 20537,
    "start_time": "2022-07-04T06:28:08.369Z"
   },
   {
    "duration": 20,
    "start_time": "2022-07-04T06:28:28.908Z"
   },
   {
    "duration": 159,
    "start_time": "2022-07-04T06:28:28.930Z"
   },
   {
    "duration": 61,
    "start_time": "2022-07-04T06:28:29.092Z"
   },
   {
    "duration": 99,
    "start_time": "2022-07-04T06:28:29.155Z"
   },
   {
    "duration": 114,
    "start_time": "2022-07-04T06:28:29.256Z"
   },
   {
    "duration": 17,
    "start_time": "2022-07-04T06:28:29.373Z"
   },
   {
    "duration": 79,
    "start_time": "2022-07-04T06:28:29.392Z"
   },
   {
    "duration": 107,
    "start_time": "2022-07-04T06:28:29.473Z"
   },
   {
    "duration": 44,
    "start_time": "2022-07-04T06:28:29.584Z"
   },
   {
    "duration": 15,
    "start_time": "2022-07-04T06:28:29.630Z"
   },
   {
    "duration": 14,
    "start_time": "2022-07-04T06:28:29.648Z"
   },
   {
    "duration": 9,
    "start_time": "2022-07-04T06:28:29.665Z"
   },
   {
    "duration": 156,
    "start_time": "2022-07-04T06:28:29.676Z"
   },
   {
    "duration": 25,
    "start_time": "2022-07-04T06:30:31.954Z"
   },
   {
    "duration": 28,
    "start_time": "2022-07-04T06:30:37.134Z"
   },
   {
    "duration": 35,
    "start_time": "2022-07-04T06:30:44.123Z"
   },
   {
    "duration": 26,
    "start_time": "2022-07-04T06:33:54.210Z"
   },
   {
    "duration": 26,
    "start_time": "2022-07-04T06:34:03.314Z"
   },
   {
    "duration": 39,
    "start_time": "2022-07-04T06:36:11.656Z"
   },
   {
    "duration": 27,
    "start_time": "2022-07-04T06:36:21.754Z"
   },
   {
    "duration": 80,
    "start_time": "2022-07-04T06:37:39.358Z"
   },
   {
    "duration": 44,
    "start_time": "2022-07-04T06:37:42.795Z"
   },
   {
    "duration": 34,
    "start_time": "2022-07-04T06:37:56.581Z"
   },
   {
    "duration": 5,
    "start_time": "2022-07-04T06:38:07.354Z"
   },
   {
    "duration": 6,
    "start_time": "2022-07-04T06:38:14.625Z"
   },
   {
    "duration": 4,
    "start_time": "2022-07-04T06:38:18.256Z"
   },
   {
    "duration": 23,
    "start_time": "2022-07-04T06:39:00.045Z"
   },
   {
    "duration": 5,
    "start_time": "2022-07-04T06:39:01.273Z"
   },
   {
    "duration": 40,
    "start_time": "2022-07-04T06:39:09.785Z"
   },
   {
    "duration": 22,
    "start_time": "2022-07-04T06:39:15.027Z"
   },
   {
    "duration": 31,
    "start_time": "2022-07-04T06:39:21.552Z"
   },
   {
    "duration": 4,
    "start_time": "2022-07-04T06:39:22.906Z"
   },
   {
    "duration": 1378,
    "start_time": "2022-07-04T06:40:23.769Z"
   },
   {
    "duration": 31,
    "start_time": "2022-07-04T06:41:04.992Z"
   },
   {
    "duration": 18,
    "start_time": "2022-07-04T06:41:25.137Z"
   },
   {
    "duration": 10,
    "start_time": "2022-07-04T06:41:46.754Z"
   },
   {
    "duration": 6,
    "start_time": "2022-07-04T06:41:58.855Z"
   },
   {
    "duration": 35,
    "start_time": "2022-07-04T06:43:25.192Z"
   },
   {
    "duration": 60,
    "start_time": "2022-07-04T06:43:35.823Z"
   },
   {
    "duration": 32,
    "start_time": "2022-07-04T06:44:28.960Z"
   },
   {
    "duration": 127,
    "start_time": "2022-07-04T06:45:43.760Z"
   },
   {
    "duration": 82,
    "start_time": "2022-07-04T06:45:53.327Z"
   },
   {
    "duration": 3,
    "start_time": "2022-07-04T07:14:43.407Z"
   },
   {
    "duration": 10,
    "start_time": "2022-07-04T07:15:30.224Z"
   },
   {
    "duration": 11,
    "start_time": "2022-07-04T07:15:34.870Z"
   },
   {
    "duration": 1213,
    "start_time": "2022-07-04T07:15:37.753Z"
   },
   {
    "duration": 4,
    "start_time": "2022-07-04T07:15:41.206Z"
   },
   {
    "duration": 134266,
    "start_time": "2022-07-04T07:15:41.774Z"
   },
   {
    "duration": 14,
    "start_time": "2022-07-04T07:17:56.133Z"
   },
   {
    "duration": 1775,
    "start_time": "2022-07-04T11:03:11.014Z"
   },
   {
    "duration": 3,
    "start_time": "2022-07-04T11:03:12.791Z"
   },
   {
    "duration": 2969,
    "start_time": "2022-07-04T11:03:12.796Z"
   },
   {
    "duration": 149,
    "start_time": "2022-07-04T11:03:15.767Z"
   },
   {
    "duration": 8,
    "start_time": "2022-07-04T11:03:15.918Z"
   },
   {
    "duration": 63,
    "start_time": "2022-07-04T11:03:15.927Z"
   },
   {
    "duration": 482,
    "start_time": "2022-07-04T11:03:15.991Z"
   },
   {
    "duration": 563,
    "start_time": "2022-07-04T11:03:16.475Z"
   },
   {
    "duration": 5,
    "start_time": "2022-07-04T11:03:17.041Z"
   },
   {
    "duration": 506,
    "start_time": "2022-07-04T11:03:17.048Z"
   },
   {
    "duration": 17,
    "start_time": "2022-07-04T11:03:17.556Z"
   },
   {
    "duration": 74,
    "start_time": "2022-07-04T11:03:17.575Z"
   },
   {
    "duration": 7,
    "start_time": "2022-07-04T11:03:17.651Z"
   },
   {
    "duration": 22754,
    "start_time": "2022-07-04T11:03:17.662Z"
   },
   {
    "duration": 23,
    "start_time": "2022-07-04T11:03:40.419Z"
   },
   {
    "duration": 115,
    "start_time": "2022-07-04T11:03:40.443Z"
   },
   {
    "duration": 51,
    "start_time": "2022-07-04T11:03:40.560Z"
   },
   {
    "duration": 97,
    "start_time": "2022-07-04T11:03:40.613Z"
   },
   {
    "duration": 60,
    "start_time": "2022-07-04T11:03:40.712Z"
   },
   {
    "duration": 88,
    "start_time": "2022-07-04T11:03:40.774Z"
   },
   {
    "duration": 25,
    "start_time": "2022-07-04T11:03:40.864Z"
   },
   {
    "duration": 15,
    "start_time": "2022-07-04T11:03:40.891Z"
   },
   {
    "duration": 41,
    "start_time": "2022-07-04T11:03:40.908Z"
   },
   {
    "duration": 11,
    "start_time": "2022-07-04T11:03:40.951Z"
   },
   {
    "duration": 93,
    "start_time": "2022-07-04T11:03:40.964Z"
   },
   {
    "duration": 17,
    "start_time": "2022-07-04T11:03:41.059Z"
   },
   {
    "duration": 9,
    "start_time": "2022-07-04T11:03:41.078Z"
   },
   {
    "duration": 8,
    "start_time": "2022-07-04T11:03:41.090Z"
   },
   {
    "duration": 64,
    "start_time": "2022-07-04T11:03:41.100Z"
   },
   {
    "duration": 28,
    "start_time": "2022-07-04T11:03:41.166Z"
   },
   {
    "duration": 153,
    "start_time": "2022-07-04T11:03:41.196Z"
   },
   {
    "duration": 108,
    "start_time": "2022-07-04T11:03:41.351Z"
   },
   {
    "duration": 119,
    "start_time": "2022-07-04T11:03:41.461Z"
   },
   {
    "duration": 1221,
    "start_time": "2022-07-04T11:03:41.582Z"
   },
   {
    "duration": 1161,
    "start_time": "2022-07-04T11:14:45.228Z"
   },
   {
    "duration": 86,
    "start_time": "2022-07-04T11:15:31.096Z"
   },
   {
    "duration": 17652,
    "start_time": "2022-07-04T11:17:36.100Z"
   },
   {
    "duration": 5982,
    "start_time": "2022-07-04T11:17:53.755Z"
   },
   {
    "duration": 17968,
    "start_time": "2022-07-04T11:18:51.474Z"
   },
   {
    "duration": 299,
    "start_time": "2022-07-04T11:19:09.444Z"
   },
   {
    "duration": 5,
    "start_time": "2022-07-04T11:19:09.745Z"
   },
   {
    "duration": 5750,
    "start_time": "2022-07-04T11:19:46.988Z"
   },
   {
    "duration": 148,
    "start_time": "2022-07-04T11:19:52.741Z"
   },
   {
    "duration": 4,
    "start_time": "2022-07-04T11:19:52.980Z"
   },
   {
    "duration": 338180,
    "start_time": "2022-07-04T11:22:23.034Z"
   },
   {
    "duration": 18073,
    "start_time": "2022-07-04T11:28:01.217Z"
   },
   {
    "duration": 165,
    "start_time": "2022-07-04T11:28:19.293Z"
   },
   {
    "duration": 4,
    "start_time": "2022-07-04T11:28:19.461Z"
   },
   {
    "duration": 68,
    "start_time": "2022-07-04T11:30:08.938Z"
   },
   {
    "duration": 152,
    "start_time": "2022-07-04T11:44:14.290Z"
   },
   {
    "duration": 22,
    "start_time": "2022-07-04T11:44:18.009Z"
   },
   {
    "duration": 39,
    "start_time": "2022-07-04T11:44:25.608Z"
   },
   {
    "duration": 390777,
    "start_time": "2022-07-04T11:44:54.166Z"
   },
   {
    "duration": 798,
    "start_time": "2022-07-04T11:51:24.945Z"
   },
   {
    "duration": 5,
    "start_time": "2022-07-04T11:51:25.746Z"
   },
   {
    "duration": 239529,
    "start_time": "2022-07-04T12:01:15.010Z"
   },
   {
    "duration": 584,
    "start_time": "2022-07-04T12:08:19.579Z"
   },
   {
    "duration": 4,
    "start_time": "2022-07-04T12:08:25.419Z"
   },
   {
    "duration": 5,
    "start_time": "2022-07-04T12:08:29.650Z"
   },
   {
    "duration": 1546,
    "start_time": "2022-07-04T12:08:47.223Z"
   },
   {
    "duration": 3,
    "start_time": "2022-07-04T12:08:48.770Z"
   },
   {
    "duration": 900,
    "start_time": "2022-07-04T12:08:48.775Z"
   },
   {
    "duration": 138,
    "start_time": "2022-07-04T12:08:49.678Z"
   },
   {
    "duration": 6,
    "start_time": "2022-07-04T12:08:49.817Z"
   },
   {
    "duration": 63,
    "start_time": "2022-07-04T12:08:49.825Z"
   },
   {
    "duration": 502,
    "start_time": "2022-07-04T12:08:49.889Z"
   },
   {
    "duration": 509,
    "start_time": "2022-07-04T12:08:50.393Z"
   },
   {
    "duration": 3,
    "start_time": "2022-07-04T12:08:50.904Z"
   },
   {
    "duration": 471,
    "start_time": "2022-07-04T12:08:50.910Z"
   },
   {
    "duration": 17,
    "start_time": "2022-07-04T12:08:51.383Z"
   },
   {
    "duration": 79,
    "start_time": "2022-07-04T12:08:51.402Z"
   },
   {
    "duration": 6,
    "start_time": "2022-07-04T12:08:51.483Z"
   },
   {
    "duration": 22572,
    "start_time": "2022-07-04T12:08:51.491Z"
   },
   {
    "duration": 17,
    "start_time": "2022-07-04T12:09:14.065Z"
   },
   {
    "duration": 134,
    "start_time": "2022-07-04T12:09:14.084Z"
   },
   {
    "duration": 62,
    "start_time": "2022-07-04T12:09:14.220Z"
   },
   {
    "duration": 93,
    "start_time": "2022-07-04T12:09:14.284Z"
   },
   {
    "duration": 63,
    "start_time": "2022-07-04T12:09:14.378Z"
   },
   {
    "duration": 76,
    "start_time": "2022-07-04T12:09:14.444Z"
   },
   {
    "duration": 39,
    "start_time": "2022-07-04T12:09:14.522Z"
   },
   {
    "duration": 15,
    "start_time": "2022-07-04T12:09:14.563Z"
   },
   {
    "duration": 12,
    "start_time": "2022-07-04T12:09:14.579Z"
   },
   {
    "duration": 9,
    "start_time": "2022-07-04T12:09:14.593Z"
   },
   {
    "duration": 109,
    "start_time": "2022-07-04T12:09:14.604Z"
   },
   {
    "duration": 28,
    "start_time": "2022-07-04T12:09:14.715Z"
   },
   {
    "duration": 4,
    "start_time": "2022-07-04T12:09:14.745Z"
   },
   {
    "duration": 13,
    "start_time": "2022-07-04T12:09:14.753Z"
   },
   {
    "duration": 53,
    "start_time": "2022-07-04T12:09:14.767Z"
   },
   {
    "duration": 38,
    "start_time": "2022-07-04T12:09:14.821Z"
   },
   {
    "duration": 131,
    "start_time": "2022-07-04T12:09:14.861Z"
   },
   {
    "duration": 77,
    "start_time": "2022-07-04T12:09:14.994Z"
   },
   {
    "duration": 85,
    "start_time": "2022-07-04T12:09:15.073Z"
   },
   {
    "duration": 1070,
    "start_time": "2022-07-04T12:09:15.160Z"
   },
   {
    "duration": 87,
    "start_time": "2022-07-04T12:09:16.233Z"
   },
   {
    "duration": 19626,
    "start_time": "2022-07-04T12:09:16.322Z"
   },
   {
    "duration": 293,
    "start_time": "2022-07-04T12:09:35.950Z"
   },
   {
    "duration": 4,
    "start_time": "2022-07-04T12:09:36.246Z"
   },
   {
    "duration": 5830,
    "start_time": "2022-07-04T12:09:36.252Z"
   },
   {
    "duration": 143,
    "start_time": "2022-07-04T12:09:42.085Z"
   },
   {
    "duration": 11,
    "start_time": "2022-07-04T12:09:42.230Z"
   },
   {
    "duration": 340444,
    "start_time": "2022-07-04T12:09:42.243Z"
   },
   {
    "duration": 17544,
    "start_time": "2022-07-04T12:15:22.689Z"
   },
   {
    "duration": 162,
    "start_time": "2022-07-04T12:15:40.235Z"
   },
   {
    "duration": 4,
    "start_time": "2022-07-04T12:15:40.399Z"
   },
   {
    "duration": 75,
    "start_time": "2022-07-04T12:15:40.405Z"
   },
   {
    "duration": 162,
    "start_time": "2022-07-04T12:15:40.482Z"
   },
   {
    "duration": 41,
    "start_time": "2022-07-04T12:15:40.646Z"
   },
   {
    "duration": 374057,
    "start_time": "2022-07-04T12:15:40.689Z"
   },
   {
    "duration": 806,
    "start_time": "2022-07-04T12:21:54.748Z"
   },
   {
    "duration": 5,
    "start_time": "2022-07-04T12:21:55.555Z"
   },
   {
    "duration": 240195,
    "start_time": "2022-07-04T12:21:55.562Z"
   },
   {
    "duration": 583,
    "start_time": "2022-07-04T12:25:55.759Z"
   },
   {
    "duration": 6,
    "start_time": "2022-07-04T12:25:56.344Z"
   },
   {
    "duration": 14,
    "start_time": "2022-07-04T12:25:56.352Z"
   },
   {
    "duration": 5,
    "start_time": "2022-07-04T12:29:44.067Z"
   },
   {
    "duration": 4,
    "start_time": "2022-07-04T12:44:56.254Z"
   },
   {
    "duration": 190,
    "start_time": "2022-07-04T12:45:27.657Z"
   },
   {
    "duration": 3,
    "start_time": "2022-07-04T12:45:59.311Z"
   },
   {
    "duration": 100,
    "start_time": "2022-07-04T12:46:00.064Z"
   },
   {
    "duration": 4,
    "start_time": "2022-07-04T12:46:31.909Z"
   },
   {
    "duration": 112,
    "start_time": "2022-07-04T12:46:32.651Z"
   },
   {
    "duration": 4,
    "start_time": "2022-07-04T12:47:23.526Z"
   },
   {
    "duration": 1620,
    "start_time": "2022-07-05T04:47:22.123Z"
   },
   {
    "duration": 3,
    "start_time": "2022-07-05T04:47:25.043Z"
   },
   {
    "duration": 1503,
    "start_time": "2022-07-05T04:47:25.256Z"
   },
   {
    "duration": 171,
    "start_time": "2022-07-05T04:47:26.761Z"
   },
   {
    "duration": 6,
    "start_time": "2022-07-05T04:47:26.934Z"
   },
   {
    "duration": 58,
    "start_time": "2022-07-05T04:47:27.417Z"
   },
   {
    "duration": 526,
    "start_time": "2022-07-05T04:47:27.982Z"
   },
   {
    "duration": 522,
    "start_time": "2022-07-05T04:47:28.526Z"
   },
   {
    "duration": 3,
    "start_time": "2022-07-05T04:47:29.053Z"
   },
   {
    "duration": 517,
    "start_time": "2022-07-05T04:47:29.060Z"
   },
   {
    "duration": 23,
    "start_time": "2022-07-05T04:47:29.580Z"
   },
   {
    "duration": 63,
    "start_time": "2022-07-05T04:47:29.691Z"
   },
   {
    "duration": 7,
    "start_time": "2022-07-05T04:47:30.483Z"
   },
   {
    "duration": 23456,
    "start_time": "2022-07-05T04:47:30.760Z"
   },
   {
    "duration": 36,
    "start_time": "2022-07-05T04:47:54.219Z"
   },
   {
    "duration": 190,
    "start_time": "2022-07-05T04:47:54.266Z"
   },
   {
    "duration": 110,
    "start_time": "2022-07-05T04:47:54.463Z"
   },
   {
    "duration": 137,
    "start_time": "2022-07-05T04:47:54.578Z"
   },
   {
    "duration": 79,
    "start_time": "2022-07-05T04:47:54.717Z"
   },
   {
    "duration": 101,
    "start_time": "2022-07-05T04:47:54.798Z"
   },
   {
    "duration": 40,
    "start_time": "2022-07-05T04:47:54.901Z"
   },
   {
    "duration": 32,
    "start_time": "2022-07-05T04:47:54.943Z"
   },
   {
    "duration": 30,
    "start_time": "2022-07-05T04:47:54.978Z"
   },
   {
    "duration": 11,
    "start_time": "2022-07-05T04:47:55.010Z"
   },
   {
    "duration": 147,
    "start_time": "2022-07-05T04:47:55.024Z"
   },
   {
    "duration": 41,
    "start_time": "2022-07-05T04:47:55.176Z"
   },
   {
    "duration": 6,
    "start_time": "2022-07-05T04:47:55.219Z"
   },
   {
    "duration": 24,
    "start_time": "2022-07-05T04:47:55.227Z"
   },
   {
    "duration": 132,
    "start_time": "2022-07-05T04:47:55.254Z"
   },
   {
    "duration": 47,
    "start_time": "2022-07-05T04:47:55.388Z"
   },
   {
    "duration": 264,
    "start_time": "2022-07-05T04:47:55.438Z"
   },
   {
    "duration": 147,
    "start_time": "2022-07-05T04:47:55.705Z"
   },
   {
    "duration": 120,
    "start_time": "2022-07-05T04:47:55.854Z"
   },
   {
    "duration": 1330,
    "start_time": "2022-07-05T04:47:55.979Z"
   },
   {
    "duration": 139,
    "start_time": "2022-07-05T04:47:57.311Z"
   },
   {
    "duration": 74024,
    "start_time": "2022-07-05T04:47:57.452Z"
   },
   {
    "duration": 298,
    "start_time": "2022-07-05T04:49:11.480Z"
   },
   {
    "duration": 6,
    "start_time": "2022-07-05T04:49:11.792Z"
   },
   {
    "duration": 5845,
    "start_time": "2022-07-05T04:49:11.864Z"
   },
   {
    "duration": 154,
    "start_time": "2022-07-05T04:49:17.711Z"
   },
   {
    "duration": 3,
    "start_time": "2022-07-05T04:49:17.867Z"
   },
   {
    "duration": 46,
    "start_time": "2022-07-05T04:49:33.194Z"
   },
   {
    "duration": 167,
    "start_time": "2022-07-05T04:49:38.411Z"
   },
   {
    "duration": 6,
    "start_time": "2022-07-05T04:49:39.426Z"
   },
   {
    "duration": 4,
    "start_time": "2022-07-05T04:49:47.631Z"
   },
   {
    "duration": 78743,
    "start_time": "2022-07-05T04:50:00.010Z"
   },
   {
    "duration": 5,
    "start_time": "2022-07-05T04:51:32.898Z"
   },
   {
    "duration": 11821,
    "start_time": "2022-07-05T04:53:17.608Z"
   },
   {
    "duration": 11785,
    "start_time": "2022-07-05T04:53:32.433Z"
   },
   {
    "duration": 132,
    "start_time": "2022-07-05T04:53:55.041Z"
   },
   {
    "duration": 6,
    "start_time": "2022-07-05T04:53:56.387Z"
   },
   {
    "duration": 4,
    "start_time": "2022-07-05T04:56:24.896Z"
   },
   {
    "duration": 4,
    "start_time": "2022-07-05T04:56:42.231Z"
   },
   {
    "duration": 118,
    "start_time": "2022-07-05T04:56:49.423Z"
   },
   {
    "duration": 2,
    "start_time": "2022-07-05T04:56:53.846Z"
   },
   {
    "duration": 10,
    "start_time": "2022-07-05T04:58:10.533Z"
   },
   {
    "duration": 2,
    "start_time": "2022-07-05T04:58:14.808Z"
   },
   {
    "duration": 3,
    "start_time": "2022-07-05T04:58:25.208Z"
   },
   {
    "duration": 4,
    "start_time": "2022-07-05T05:00:03.287Z"
   },
   {
    "duration": 5,
    "start_time": "2022-07-05T05:00:11.255Z"
   },
   {
    "duration": 4,
    "start_time": "2022-07-05T05:00:18.777Z"
   },
   {
    "duration": 4,
    "start_time": "2022-07-05T05:00:24.253Z"
   },
   {
    "duration": 11487,
    "start_time": "2022-07-05T05:05:09.336Z"
   },
   {
    "duration": 1189,
    "start_time": "2022-07-05T05:07:53.445Z"
   },
   {
    "duration": 51602,
    "start_time": "2022-07-05T05:07:55.882Z"
   },
   {
    "duration": 397,
    "start_time": "2022-07-05T05:08:47.489Z"
   },
   {
    "duration": 4,
    "start_time": "2022-07-05T05:08:47.964Z"
   },
   {
    "duration": 7527,
    "start_time": "2022-07-05T05:08:47.970Z"
   },
   {
    "duration": 186,
    "start_time": "2022-07-05T05:08:55.499Z"
   },
   {
    "duration": 3,
    "start_time": "2022-07-05T05:08:55.688Z"
   },
   {
    "duration": 16,
    "start_time": "2022-07-05T05:08:55.693Z"
   },
   {
    "duration": 377127,
    "start_time": "2022-07-05T05:08:55.712Z"
   },
   {
    "duration": 43597,
    "start_time": "2022-07-05T05:15:12.841Z"
   },
   {
    "duration": 294,
    "start_time": "2022-07-05T05:15:56.442Z"
   },
   {
    "duration": 6,
    "start_time": "2022-07-05T05:15:56.740Z"
   },
   {
    "duration": 227,
    "start_time": "2022-07-05T05:15:56.748Z"
   },
   {
    "duration": 38,
    "start_time": "2022-07-05T05:15:56.982Z"
   },
   {
    "duration": 4,
    "start_time": "2022-07-05T05:15:57.022Z"
   },
   {
    "duration": 1552742,
    "start_time": "2022-07-05T05:15:57.028Z"
   },
   {
    "duration": 78017,
    "start_time": "2022-07-05T05:41:49.777Z"
   },
   {
    "duration": 271,
    "start_time": "2022-07-05T05:43:07.796Z"
   },
   {
    "duration": 4,
    "start_time": "2022-07-05T05:43:08.069Z"
   },
   {
    "duration": 37,
    "start_time": "2022-07-05T05:43:08.075Z"
   },
   {
    "duration": 22,
    "start_time": "2022-07-05T05:43:08.115Z"
   },
   {
    "duration": 464898,
    "start_time": "2022-07-05T05:43:08.139Z"
   },
   {
    "duration": 91,
    "start_time": "2022-07-05T05:50:53.038Z"
   },
   {
    "duration": 94,
    "start_time": "2022-07-05T05:50:53.130Z"
   },
   {
    "duration": 9,
    "start_time": "2022-07-05T05:50:53.226Z"
   },
   {
    "duration": 28,
    "start_time": "2022-07-05T05:51:23.595Z"
   },
   {
    "duration": 17166,
    "start_time": "2022-07-05T05:52:17.116Z"
   },
   {
    "duration": 88,
    "start_time": "2022-07-05T05:52:34.287Z"
   },
   {
    "duration": 4,
    "start_time": "2022-07-05T05:52:36.752Z"
   },
   {
    "duration": 6,
    "start_time": "2022-07-05T05:52:42.708Z"
   },
   {
    "duration": 122,
    "start_time": "2022-07-05T05:55:45.066Z"
   },
   {
    "duration": 946,
    "start_time": "2022-07-05T05:56:00.687Z"
   },
   {
    "duration": 7382,
    "start_time": "2022-07-05T05:56:07.736Z"
   },
   {
    "duration": 1847,
    "start_time": "2022-07-05T06:00:33.433Z"
   },
   {
    "duration": 9,
    "start_time": "2022-07-05T06:00:35.286Z"
   },
   {
    "duration": 1102,
    "start_time": "2022-07-05T06:00:35.303Z"
   },
   {
    "duration": 245,
    "start_time": "2022-07-05T06:00:36.407Z"
   },
   {
    "duration": 8,
    "start_time": "2022-07-05T06:00:36.656Z"
   },
   {
    "duration": 121,
    "start_time": "2022-07-05T06:00:36.665Z"
   },
   {
    "duration": 628,
    "start_time": "2022-07-05T06:00:36.788Z"
   },
   {
    "duration": 632,
    "start_time": "2022-07-05T06:00:37.418Z"
   },
   {
    "duration": 3,
    "start_time": "2022-07-05T06:00:38.053Z"
   },
   {
    "duration": 545,
    "start_time": "2022-07-05T06:00:38.058Z"
   },
   {
    "duration": 18,
    "start_time": "2022-07-05T06:00:38.605Z"
   },
   {
    "duration": 74,
    "start_time": "2022-07-05T06:00:38.625Z"
   },
   {
    "duration": 11,
    "start_time": "2022-07-05T06:00:38.701Z"
   },
   {
    "duration": 25301,
    "start_time": "2022-07-05T06:00:38.716Z"
   },
   {
    "duration": 17,
    "start_time": "2022-07-05T06:01:04.019Z"
   },
   {
    "duration": 115,
    "start_time": "2022-07-05T06:01:04.038Z"
   },
   {
    "duration": 70,
    "start_time": "2022-07-05T06:01:04.155Z"
   },
   {
    "duration": 109,
    "start_time": "2022-07-05T06:01:04.227Z"
   },
   {
    "duration": 67,
    "start_time": "2022-07-05T06:01:04.337Z"
   },
   {
    "duration": 83,
    "start_time": "2022-07-05T06:01:04.406Z"
   },
   {
    "duration": 35,
    "start_time": "2022-07-05T06:01:04.493Z"
   },
   {
    "duration": 40,
    "start_time": "2022-07-05T06:01:04.531Z"
   },
   {
    "duration": 17,
    "start_time": "2022-07-05T06:01:04.573Z"
   },
   {
    "duration": 16,
    "start_time": "2022-07-05T06:01:04.592Z"
   },
   {
    "duration": 139,
    "start_time": "2022-07-05T06:01:04.610Z"
   },
   {
    "duration": 34,
    "start_time": "2022-07-05T06:01:04.751Z"
   },
   {
    "duration": 31,
    "start_time": "2022-07-05T06:01:04.787Z"
   },
   {
    "duration": 6,
    "start_time": "2022-07-05T06:01:04.819Z"
   },
   {
    "duration": 61,
    "start_time": "2022-07-05T06:01:04.827Z"
   },
   {
    "duration": 28,
    "start_time": "2022-07-05T06:01:04.892Z"
   },
   {
    "duration": 181,
    "start_time": "2022-07-05T06:01:04.922Z"
   },
   {
    "duration": 96,
    "start_time": "2022-07-05T06:01:05.105Z"
   },
   {
    "duration": 95,
    "start_time": "2022-07-05T06:01:05.203Z"
   },
   {
    "duration": 1284,
    "start_time": "2022-07-05T06:01:05.303Z"
   },
   {
    "duration": 32108,
    "start_time": "2022-07-05T06:01:06.589Z"
   },
   {
    "duration": 368,
    "start_time": "2022-07-05T06:01:38.702Z"
   },
   {
    "duration": 7,
    "start_time": "2022-07-05T06:01:39.072Z"
   },
   {
    "duration": 8107,
    "start_time": "2022-07-05T06:01:39.081Z"
   },
   {
    "duration": 180,
    "start_time": "2022-07-05T06:01:47.190Z"
   },
   {
    "duration": 8,
    "start_time": "2022-07-05T06:01:47.374Z"
   },
   {
    "duration": 8,
    "start_time": "2022-07-05T06:01:47.389Z"
   },
   {
    "duration": 362114,
    "start_time": "2022-07-05T06:01:47.399Z"
   },
   {
    "duration": 42409,
    "start_time": "2022-07-05T06:07:49.514Z"
   },
   {
    "duration": 252,
    "start_time": "2022-07-05T06:08:31.925Z"
   },
   {
    "duration": 3,
    "start_time": "2022-07-05T06:08:32.179Z"
   },
   {
    "duration": 161,
    "start_time": "2022-07-05T06:08:32.184Z"
   },
   {
    "duration": 43,
    "start_time": "2022-07-05T06:08:32.347Z"
   },
   {
    "duration": 3,
    "start_time": "2022-07-05T06:08:32.392Z"
   },
   {
    "duration": 1009166,
    "start_time": "2022-07-05T06:08:32.397Z"
   },
   {
    "duration": 1608,
    "start_time": "2022-07-05T06:25:21.565Z"
   },
   {
    "duration": 287,
    "start_time": "2022-07-05T06:25:23.175Z"
   },
   {
    "duration": 5,
    "start_time": "2022-07-05T06:25:23.464Z"
   },
   {
    "duration": 22,
    "start_time": "2022-07-05T06:25:23.470Z"
   },
   {
    "duration": 33,
    "start_time": "2022-07-05T06:25:23.494Z"
   },
   {
    "duration": 408050,
    "start_time": "2022-07-05T06:25:23.529Z"
   },
   {
    "duration": 14360,
    "start_time": "2022-07-05T06:32:11.582Z"
   },
   {
    "duration": 74,
    "start_time": "2022-07-05T06:32:25.945Z"
   },
   {
    "duration": 5,
    "start_time": "2022-07-05T06:32:26.021Z"
   },
   {
    "duration": 11,
    "start_time": "2022-07-05T06:32:26.027Z"
   },
   {
    "duration": 2133,
    "start_time": "2022-07-06T00:29:42.464Z"
   },
   {
    "duration": 3,
    "start_time": "2022-07-06T00:29:45.458Z"
   },
   {
    "duration": 3338,
    "start_time": "2022-07-06T00:29:45.912Z"
   },
   {
    "duration": 145,
    "start_time": "2022-07-06T00:29:49.252Z"
   },
   {
    "duration": 9,
    "start_time": "2022-07-06T00:29:49.399Z"
   },
   {
    "duration": 57,
    "start_time": "2022-07-06T00:29:49.411Z"
   },
   {
    "duration": 517,
    "start_time": "2022-07-06T00:29:49.470Z"
   },
   {
    "duration": 515,
    "start_time": "2022-07-06T00:29:49.989Z"
   },
   {
    "duration": 5,
    "start_time": "2022-07-06T00:29:50.507Z"
   },
   {
    "duration": 488,
    "start_time": "2022-07-06T00:29:51.028Z"
   },
   {
    "duration": 17,
    "start_time": "2022-07-06T00:29:51.549Z"
   },
   {
    "duration": 69,
    "start_time": "2022-07-06T00:29:52.077Z"
   },
   {
    "duration": 6,
    "start_time": "2022-07-06T00:29:52.788Z"
   },
   {
    "duration": 24007,
    "start_time": "2022-07-06T00:29:53.384Z"
   },
   {
    "duration": 17,
    "start_time": "2022-07-06T00:30:17.394Z"
   },
   {
    "duration": 109,
    "start_time": "2022-07-06T00:36:01.648Z"
   },
   {
    "duration": 53,
    "start_time": "2022-07-06T00:36:03.108Z"
   },
   {
    "duration": 84,
    "start_time": "2022-07-06T00:36:03.251Z"
   },
   {
    "duration": 53,
    "start_time": "2022-07-06T00:36:03.871Z"
   },
   {
    "duration": 75,
    "start_time": "2022-07-06T00:36:04.827Z"
   },
   {
    "duration": 30,
    "start_time": "2022-07-06T00:36:05.612Z"
   },
   {
    "duration": 16,
    "start_time": "2022-07-06T00:36:05.912Z"
   },
   {
    "duration": 15,
    "start_time": "2022-07-06T00:36:06.636Z"
   },
   {
    "duration": 10,
    "start_time": "2022-07-06T00:36:08.124Z"
   },
   {
    "duration": 112,
    "start_time": "2022-07-06T00:36:08.739Z"
   },
   {
    "duration": 27,
    "start_time": "2022-07-06T00:36:09.408Z"
   },
   {
    "duration": 4,
    "start_time": "2022-07-06T00:36:09.659Z"
   },
   {
    "duration": 6,
    "start_time": "2022-07-06T00:36:10.128Z"
   },
   {
    "duration": 48,
    "start_time": "2022-07-06T00:36:10.731Z"
   },
   {
    "duration": 34,
    "start_time": "2022-07-06T00:36:11.387Z"
   },
   {
    "duration": 138,
    "start_time": "2022-07-06T00:36:12.594Z"
   },
   {
    "duration": 69,
    "start_time": "2022-07-06T00:36:13.447Z"
   },
   {
    "duration": 90,
    "start_time": "2022-07-06T00:36:14.904Z"
   },
   {
    "duration": 1549,
    "start_time": "2022-07-06T05:34:20.230Z"
   },
   {
    "duration": 3,
    "start_time": "2022-07-06T05:34:21.781Z"
   },
   {
    "duration": 1353,
    "start_time": "2022-07-06T05:34:21.786Z"
   },
   {
    "duration": 160,
    "start_time": "2022-07-06T05:34:24.451Z"
   },
   {
    "duration": 6,
    "start_time": "2022-07-06T05:34:28.280Z"
   },
   {
    "duration": 54,
    "start_time": "2022-07-06T05:34:29.080Z"
   },
   {
    "duration": 447,
    "start_time": "2022-07-06T05:34:30.022Z"
   },
   {
    "duration": 486,
    "start_time": "2022-07-06T05:34:30.939Z"
   },
   {
    "duration": 2,
    "start_time": "2022-07-06T05:34:31.659Z"
   },
   {
    "duration": 568,
    "start_time": "2022-07-06T05:34:35.130Z"
   },
   {
    "duration": 20,
    "start_time": "2022-07-06T05:34:38.643Z"
   },
   {
    "duration": 50,
    "start_time": "2022-07-06T05:34:39.041Z"
   },
   {
    "duration": 80,
    "start_time": "2022-07-06T05:34:40.051Z"
   },
   {
    "duration": 22403,
    "start_time": "2022-07-06T05:34:41.628Z"
   },
   {
    "duration": 14,
    "start_time": "2022-07-06T05:35:04.033Z"
   },
   {
    "duration": 109,
    "start_time": "2022-07-06T05:35:04.048Z"
   },
   {
    "duration": 56,
    "start_time": "2022-07-06T05:35:04.159Z"
   },
   {
    "duration": 72,
    "start_time": "2022-07-06T05:35:04.217Z"
   },
   {
    "duration": 55,
    "start_time": "2022-07-06T05:35:04.291Z"
   },
   {
    "duration": 76,
    "start_time": "2022-07-06T05:35:04.347Z"
   },
   {
    "duration": 24,
    "start_time": "2022-07-06T05:35:04.426Z"
   },
   {
    "duration": 14,
    "start_time": "2022-07-06T05:35:04.451Z"
   },
   {
    "duration": 10,
    "start_time": "2022-07-06T05:35:04.468Z"
   },
   {
    "duration": 102,
    "start_time": "2022-07-06T05:35:11.028Z"
   },
   {
    "duration": 45,
    "start_time": "2022-07-06T05:35:43.381Z"
   },
   {
    "duration": 132,
    "start_time": "2022-07-06T05:36:12.181Z"
   },
   {
    "duration": 9,
    "start_time": "2022-07-06T05:36:17.451Z"
   },
   {
    "duration": 6,
    "start_time": "2022-07-06T05:36:21.819Z"
   },
   {
    "duration": 3,
    "start_time": "2022-07-06T05:36:32.954Z"
   },
   {
    "duration": 39,
    "start_time": "2022-07-06T05:36:32.958Z"
   },
   {
    "duration": 727,
    "start_time": "2022-07-06T05:36:32.998Z"
   },
   {
    "duration": 144,
    "start_time": "2022-07-06T05:36:33.731Z"
   },
   {
    "duration": 5,
    "start_time": "2022-07-06T05:36:33.877Z"
   },
   {
    "duration": 86,
    "start_time": "2022-07-06T05:36:33.883Z"
   },
   {
    "duration": 447,
    "start_time": "2022-07-06T05:36:33.971Z"
   },
   {
    "duration": 534,
    "start_time": "2022-07-06T05:36:34.420Z"
   },
   {
    "duration": 3,
    "start_time": "2022-07-06T05:36:34.957Z"
   },
   {
    "duration": 532,
    "start_time": "2022-07-06T05:36:34.961Z"
   },
   {
    "duration": 23,
    "start_time": "2022-07-06T05:36:35.496Z"
   },
   {
    "duration": 74,
    "start_time": "2022-07-06T05:36:35.523Z"
   },
   {
    "duration": 12,
    "start_time": "2022-07-06T05:36:35.599Z"
   },
   {
    "duration": 21919,
    "start_time": "2022-07-06T05:36:35.613Z"
   },
   {
    "duration": 13,
    "start_time": "2022-07-06T05:36:57.534Z"
   },
   {
    "duration": 109,
    "start_time": "2022-07-06T05:36:57.549Z"
   },
   {
    "duration": 50,
    "start_time": "2022-07-06T05:36:57.659Z"
   },
   {
    "duration": 80,
    "start_time": "2022-07-06T05:36:57.716Z"
   },
   {
    "duration": 55,
    "start_time": "2022-07-06T05:36:57.797Z"
   },
   {
    "duration": 79,
    "start_time": "2022-07-06T05:36:57.854Z"
   },
   {
    "duration": 24,
    "start_time": "2022-07-06T05:36:57.934Z"
   },
   {
    "duration": 13,
    "start_time": "2022-07-06T05:36:57.960Z"
   },
   {
    "duration": 38,
    "start_time": "2022-07-06T05:36:57.974Z"
   },
   {
    "duration": 43,
    "start_time": "2022-07-06T05:36:58.015Z"
   },
   {
    "duration": 23,
    "start_time": "2022-07-06T05:37:15.227Z"
   },
   {
    "duration": 122,
    "start_time": "2022-07-06T05:38:33.875Z"
   },
   {
    "duration": 13,
    "start_time": "2022-07-06T05:38:56.525Z"
   },
   {
    "duration": 49,
    "start_time": "2022-07-06T05:39:07.034Z"
   },
   {
    "duration": 23,
    "start_time": "2022-07-06T05:39:08.003Z"
   },
   {
    "duration": 1453,
    "start_time": "2022-07-06T05:39:34.228Z"
   },
   {
    "duration": 2,
    "start_time": "2022-07-06T05:39:35.683Z"
   },
   {
    "duration": 823,
    "start_time": "2022-07-06T05:39:35.686Z"
   },
   {
    "duration": 156,
    "start_time": "2022-07-06T05:39:36.512Z"
   },
   {
    "duration": 6,
    "start_time": "2022-07-06T05:39:36.670Z"
   },
   {
    "duration": 94,
    "start_time": "2022-07-06T05:39:36.678Z"
   },
   {
    "duration": 473,
    "start_time": "2022-07-06T05:39:36.774Z"
   },
   {
    "duration": 480,
    "start_time": "2022-07-06T05:39:37.249Z"
   },
   {
    "duration": 3,
    "start_time": "2022-07-06T05:39:37.731Z"
   },
   {
    "duration": 450,
    "start_time": "2022-07-06T05:39:37.735Z"
   },
   {
    "duration": 39,
    "start_time": "2022-07-06T05:39:38.187Z"
   },
   {
    "duration": 56,
    "start_time": "2022-07-06T05:39:38.230Z"
   },
   {
    "duration": 6,
    "start_time": "2022-07-06T05:39:38.288Z"
   },
   {
    "duration": 22234,
    "start_time": "2022-07-06T05:39:38.298Z"
   },
   {
    "duration": 15,
    "start_time": "2022-07-06T05:40:00.535Z"
   },
   {
    "duration": 113,
    "start_time": "2022-07-06T05:40:00.551Z"
   },
   {
    "duration": 60,
    "start_time": "2022-07-06T05:40:00.666Z"
   },
   {
    "duration": 90,
    "start_time": "2022-07-06T05:40:00.727Z"
   },
   {
    "duration": 71,
    "start_time": "2022-07-06T05:40:00.824Z"
   },
   {
    "duration": 82,
    "start_time": "2022-07-06T05:40:00.897Z"
   },
   {
    "duration": 42,
    "start_time": "2022-07-06T05:40:00.981Z"
   },
   {
    "duration": 41,
    "start_time": "2022-07-06T05:40:01.027Z"
   },
   {
    "duration": 63,
    "start_time": "2022-07-06T05:40:01.069Z"
   },
   {
    "duration": 9,
    "start_time": "2022-07-06T05:40:01.134Z"
   },
   {
    "duration": 43,
    "start_time": "2022-07-06T05:40:01.144Z"
   },
   {
    "duration": 60,
    "start_time": "2022-07-06T05:40:01.188Z"
   },
   {
    "duration": 139,
    "start_time": "2022-07-06T05:40:01.250Z"
   },
   {
    "duration": 64,
    "start_time": "2022-07-06T05:40:01.391Z"
   },
   {
    "duration": 79,
    "start_time": "2022-07-06T05:40:01.457Z"
   },
   {
    "duration": 22,
    "start_time": "2022-07-06T05:40:01.538Z"
   },
   {
    "duration": 75,
    "start_time": "2022-07-06T05:40:01.562Z"
   },
   {
    "duration": 68,
    "start_time": "2022-07-06T05:40:01.638Z"
   },
   {
    "duration": 67,
    "start_time": "2022-07-06T05:40:01.708Z"
   },
   {
    "duration": 969,
    "start_time": "2022-07-06T05:40:01.777Z"
   },
   {
    "duration": 72190,
    "start_time": "2022-07-06T05:40:02.748Z"
   },
   {
    "duration": 307,
    "start_time": "2022-07-06T05:41:15.011Z"
   },
   {
    "duration": 9,
    "start_time": "2022-07-06T05:41:15.325Z"
   },
   {
    "duration": 6419,
    "start_time": "2022-07-06T05:41:15.400Z"
   },
   {
    "duration": 162,
    "start_time": "2022-07-06T05:41:21.821Z"
   },
   {
    "duration": 4,
    "start_time": "2022-07-06T05:41:21.985Z"
   },
   {
    "duration": 6,
    "start_time": "2022-07-06T05:41:22.001Z"
   },
   {
    "duration": 301463,
    "start_time": "2022-07-06T05:41:22.008Z"
   },
   {
    "duration": 34602,
    "start_time": "2022-07-06T05:46:23.473Z"
   },
   {
    "duration": 219,
    "start_time": "2022-07-06T05:46:58.077Z"
   },
   {
    "duration": 3,
    "start_time": "2022-07-06T05:46:58.301Z"
   },
   {
    "duration": 133,
    "start_time": "2022-07-06T05:46:58.306Z"
   },
   {
    "duration": 30,
    "start_time": "2022-07-06T05:46:58.441Z"
   },
   {
    "duration": 3,
    "start_time": "2022-07-06T05:46:58.473Z"
   },
   {
    "duration": 66331,
    "start_time": "2022-07-06T05:46:58.477Z"
   },
   {
    "duration": 1610,
    "start_time": "2022-07-06T05:48:04.809Z"
   },
   {
    "duration": 201,
    "start_time": "2022-07-06T05:48:06.501Z"
   },
   {
    "duration": 4,
    "start_time": "2022-07-06T05:48:06.704Z"
   },
   {
    "duration": 5,
    "start_time": "2022-07-06T05:48:06.710Z"
   },
   {
    "duration": 7,
    "start_time": "2022-07-06T05:48:06.716Z"
   },
   {
    "duration": 362809,
    "start_time": "2022-07-06T05:48:06.724Z"
   },
   {
    "duration": 12407,
    "start_time": "2022-07-06T05:54:09.534Z"
   },
   {
    "duration": 76,
    "start_time": "2022-07-06T05:54:21.943Z"
   },
   {
    "duration": 5,
    "start_time": "2022-07-06T05:54:22.021Z"
   },
   {
    "duration": 13,
    "start_time": "2022-07-06T05:54:22.027Z"
   }
  ],
  "kernelspec": {
   "display_name": "Python 3 (ipykernel)",
   "language": "python",
   "name": "python3"
  },
  "language_info": {
   "codemirror_mode": {
    "name": "ipython",
    "version": 3
   },
   "file_extension": ".py",
   "mimetype": "text/x-python",
   "name": "python",
   "nbconvert_exporter": "python",
   "pygments_lexer": "ipython3",
   "version": "3.9.5"
  },
  "toc": {
   "base_numbering": 1,
   "nav_menu": {},
   "number_sections": true,
   "sideBar": true,
   "skip_h1_title": true,
   "title_cell": "Table of Contents",
   "title_sidebar": "Contents",
   "toc_cell": false,
   "toc_position": {},
   "toc_section_display": true,
   "toc_window_display": false
  }
 },
 "nbformat": 4,
 "nbformat_minor": 2
}
